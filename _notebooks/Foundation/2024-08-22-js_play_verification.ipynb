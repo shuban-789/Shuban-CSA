{
 "cells": [
  {
   "cell_type": "markdown",
   "metadata": {},
   "source": [
    "---\n",
    "layout: post\n",
    "title: Tools - JavaScript Play \n",
    "description: JavaScript Tool Verification\n",
    "type: issues \n",
    "comments: true\n",
    "---"
   ]
  },
  {
   "cell_type": "markdown",
   "metadata": {},
   "source": [
    "# JS play\n",
    "\n",
    "All of the JS techniques are implemented on the main webpage. This notebook only stores the code."
   ]
  },
  {
   "cell_type": "code",
   "execution_count": null,
   "metadata": {
    "vscode": {
     "languageId": "javascript"
    }
   },
   "outputs": [],
   "source": [
    "let secretNumber = Math.floor(Math.random() * 100) + 1;\n",
    "let attempts = 0;\n",
    "\n",
    "function checkGuess() {\n",
    "    let userGuess = parseInt(document.getElementById('guessInput').value);\n",
    "    let result = document.getElementById('result');\n",
    "    attempts++;\n",
    "\n",
    "    if (isNaN(userGuess) || userGuess < 1 || userGuess > 100) {\n",
    "        result.textContent = \"Please enter a valid number between 1 and 100.\";\n",
    "        return;\n",
    "    }\n",
    "\n",
    "    if (userGuess === secretNumber) {\n",
    "        result.textContent = `Congratulations! You guessed it in ${attempts} attempts.`;\n",
    "    } else if (userGuess < secretNumber) {\n",
    "        result.textContent = \"Too low! Try again.\";\n",
    "    } else {\n",
    "        result.textContent = \"Too high! Try again.\";\n",
    "    }\n",
    "}"
   ]
  }
 ],
 "metadata": {
  "language_info": {
   "name": "python"
  }
 },
 "nbformat": 4,
 "nbformat_minor": 2
}
