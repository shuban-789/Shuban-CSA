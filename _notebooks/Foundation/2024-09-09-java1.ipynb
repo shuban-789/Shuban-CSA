{
 "cells": [
  {
   "cell_type": "markdown",
   "metadata": {},
   "source": [
    "---\n",
    "layout: post\n",
    "title: Hacks - Java on Jupyter\n",
    "description: Java Kernel, real Java Problem Solving\n",
    "type: issues \n",
    "comments: true\n",
    "---"
   ]
  },
  {
   "cell_type": "code",
   "execution_count": 5,
   "metadata": {
    "vscode": {
     "languageId": "java"
    }
   },
   "outputs": [
    {
     "name": "stdout",
     "output_type": "stream",
     "text": [
      "Emoji: 😊 - Smiley Face\n",
      "Emoji: ❤️ - Heart\n",
      "Emoji: 👍 - Thumbs Up\n"
     ]
    }
   ],
   "source": [
    "class Emoji {\n",
    "    private String symbol;\n",
    "    private String name;\n",
    "\n",
    "    public Emoji(String symbol, String name) {\n",
    "        this.symbol = symbol;\n",
    "        this.name = name;\n",
    "    }\n",
    "\n",
    "    public String getSymbol() {\n",
    "        return symbol;\n",
    "    }\n",
    "\n",
    "    public String getName() {\n",
    "        return name;\n",
    "    }\n",
    "\n",
    "    public void displayEmoji() {\n",
    "        System.out.println(\"Emoji: \" + symbol + \" - \" + name);\n",
    "    }\n",
    "}\n",
    "\n",
    "class EmojiCollection {\n",
    "    private Emoji[] emojis;\n",
    "    private int count = 0;\n",
    "\n",
    "    public EmojiCollection(int size) {\n",
    "        emojis = new Emoji[size];\n",
    "    }\n",
    "\n",
    "    public void addEmoji(Emoji emoji) {\n",
    "        if (count < emojis.length) {\n",
    "            emojis[count] = emoji;\n",
    "            count++;\n",
    "        } else {\n",
    "            System.out.println(\"Collection is full!\");\n",
    "        }\n",
    "    }\n",
    "\n",
    "    public void displayAllEmojis() {\n",
    "        for (int i = 0; i < count; i++) {\n",
    "            emojis[i].displayEmoji();\n",
    "        }\n",
    "    }\n",
    "}\n",
    "\n",
    "public class EmojiDemo {\n",
    "    public static void main(String[] args) {\n",
    "        // Create some emoji objects\n",
    "        Emoji smiley = new Emoji(\"😊\", \"Smiley Face\");\n",
    "        Emoji heart = new Emoji(\"❤️\", \"Heart\");\n",
    "        Emoji thumbsUp = new Emoji(\"👍\", \"Thumbs Up\");\n",
    "        EmojiCollection collection = new EmojiCollection(5);\n",
    "        collection.addEmoji(smiley);\n",
    "        collection.addEmoji(heart);\n",
    "        collection.addEmoji(thumbsUp);\n",
    "        collection.displayAllEmojis();\n",
    "    }\n",
    "}\n",
    "EmojiDemo.main(new String[0]);\n"
   ]
  }
 ],
 "metadata": {
  "kernelspec": {
   "display_name": "Java",
   "language": "java",
   "name": "java"
  },
  "language_info": {
   "codemirror_mode": "java",
   "file_extension": ".jshell",
   "mimetype": "text/x-java-source",
   "name": "Java",
   "pygments_lexer": "java",
   "version": "17.0.12+7-Ubuntu-1ubuntu222.04"
  }
 },
 "nbformat": 4,
 "nbformat_minor": 2
}
