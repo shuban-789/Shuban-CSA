{
 "cells": [
  {
   "cell_type": "markdown",
   "metadata": {},
   "source": [
    "---\n",
    "layout: post\n",
    "title: Unit 2 - Using Objects\n",
    "description: Team Teach Unit 2: Using Objects (By: Shuban, Eric, Aadit, and Rahul)\n",
    "type: issues \n",
    "comments: true\n",
    "---"
   ]
  },
  {
   "cell_type": "markdown",
   "metadata": {},
   "source": [
    "## Topics (Collegeboard subsections)\n",
    "\n",
    "- 2.1 Object - Instances of Classes\n",
    "- 2.2 Creating and Storing Objects\n",
    "- 2.3 Calling a Void Method\n",
    "- 2.4 Calling a Void Method with Parameters\n",
    "- 2.5 Calling a Non-Void Method\n",
    "- 2.6 String Objects - Concatenation, Literals, and More\n",
    "- 2.7 String Methods\n",
    "- 2.8 Wrapper Classes - Integer and Double\n",
    "- 2.9 Using the Math class\n"
   ]
  },
  {
   "cell_type": "markdown",
   "metadata": {},
   "source": [
    "## Section 2.1: What is an Object? (Rahul)"
   ]
  },
  {
   "cell_type": "markdown",
   "metadata": {},
   "source": [
    "## Section 2.2: Creating and Store Objects (Rahul)"
   ]
  },
  {
   "cell_type": "markdown",
   "metadata": {},
   "source": [
    "## Section 2.3: Calling a Void Methods (Rahul)"
   ]
  },
  {
   "cell_type": "markdown",
   "metadata": {},
   "source": [
    "## Section 2.4: Calling a Void Method with Parameters (Shuban)"
   ]
  },
  {
   "cell_type": "markdown",
   "metadata": {},
   "source": [
    "## Section 2.5: Calling a Non-Void (Shuban)"
   ]
  },
  {
   "cell_type": "markdown",
   "metadata": {
    "vscode": {
     "languageId": "plaintext"
    }
   },
   "source": [
    "## Section 2.6: String Objects - Concatenation, Literals, and More (Eric)"
   ]
  },
  {
   "cell_type": "markdown",
   "metadata": {},
   "source": [
    "## Section 2.7: String Methods (Eric)"
   ]
  },
  {
   "cell_type": "markdown",
   "metadata": {},
   "source": [
    "## Section 2.8: Wrapper Classes - Integer and Double (Aadit)"
   ]
  },
  {
   "cell_type": "markdown",
   "metadata": {},
   "source": [
    "## Section 2.9: Using the Math class (Aadit)"
   ]
  },
  {
   "cell_type": "markdown",
   "metadata": {},
   "source": [
    "## Quiz"
   ]
  },
  {
   "cell_type": "code",
   "execution_count": null,
   "metadata": {},
   "outputs": [],
   "source": [
    "// Q1: Answer-A --> (sha256) dd17b6e852017a231a959f87bbe9c0206570e1b42a1c1f8ccca947ea3f74679d\n",
    "// Q2: Answer-B --> (sha256) c2925d2bfb13a8aeaea426c41b7057726918c48055d14dc1cf787f15d80d9fbd\n",
    "// Q3: Answer-D --> (sha256) 9cbbf96d60cf9cfe23a347521ebce9ff2a7c7526fbfb84bd1d835f3a4e3ce5c1\n",
    "// Q4: Answer-B --> (sha256) c2925d2bfb13a8aeaea426c41b7057726918c48055d14dc1cf787f15d80d9fbd\n",
    "// Q4: Answer-C --> (sha256) 1a4e718e7c47952348c01a7a25695e94d10fe62ac8a8a2827eb4e84953ff8043\n",
    "// Q5: Answer-D --> (sha256) 9cbbf96d60cf9cfe23a347521ebce9ff2a7c7526fbfb84bd1d835f3a4e3ce5c1\n",
    "// Q6: Answer-A --> (sha256) dd17b6e852017a231a959f87bbe9c0206570e1b42a1c1f8ccca947ea3f74679d\n",
    "\n",
    "public class main {\n",
    "    public static void main(String[] args) {\n",
    "        String answer1 = \"\";\n",
    "    }\n",
    "}"
   ]
  },
  {
   "cell_type": "markdown",
   "metadata": {},
   "source": []
  },
  {
   "cell_type": "markdown",
   "metadata": {},
   "source": []
  }
 ],
 "metadata": {
  "kernelspec": {
   "display_name": "Java",
   "language": "java",
   "name": "java"
  },
  "language_info": {
   "name": "java"
  }
 },
 "nbformat": 4,
 "nbformat_minor": 2
}
