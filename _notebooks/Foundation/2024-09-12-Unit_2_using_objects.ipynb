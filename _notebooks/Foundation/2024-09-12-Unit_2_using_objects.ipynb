{
 "cells": [
  {
   "cell_type": "markdown",
   "metadata": {},
   "source": [
    "---\n",
    "layout: post\n",
    "title: Unit 2 - Using Objects\n",
    "description: Team Teach Unit 2: Using Objects (By: Shuban, Eric, Aadit, and Rahul)\n",
    "type: issues \n",
    "comments: true\n",
    "---"
   ]
  },
  {
   "cell_type": "markdown",
   "metadata": {},
   "source": [
    "## Topics (Collegeboard subsections)\n",
    "\n",
    "- 2.1 Object - Instances of Classes\n",
    "- 2.2 Creating and Storing Objects\n",
    "- 2.3 Calling a Void Method\n",
    "- 2.4 Calling a Void Method with Parameters\n",
    "- 2.5 Calling a Non-Void Method\n",
    "- 2.6 String Objects - Concatenation, Literals, and More\n",
    "- 2.7 String Methods\n",
    "- 2.8 Wrapper Classes - Integer and Double\n",
    "- 2.9 Using the Math class\n"
   ]
  },
  {
   "cell_type": "markdown",
   "metadata": {},
   "source": [
    "## Section 2.1: What is an Object? (Rahul)"
   ]
  },
  {
   "cell_type": "markdown",
   "metadata": {},
   "source": [
    "## Section 2.2: Creating and Store Objects (Rahul)"
   ]
  },
  {
   "cell_type": "markdown",
   "metadata": {},
   "source": [
    "## Section 2.3: Calling a Void Methods (Rahul)"
   ]
  },
  {
   "cell_type": "markdown",
   "metadata": {},
   "source": [
    "## Section 2.4: Calling a Void Method with Parameters (Shuban)"
   ]
  },
  {
   "cell_type": "markdown",
   "metadata": {},
   "source": [
    "## Section 2.5: Calling a Non-Void (Shuban)"
   ]
  },
  {
   "cell_type": "markdown",
   "metadata": {
    "vscode": {
     "languageId": "plaintext"
    }
   },
   "source": [
    "## Section 2.6: String Objects - Concatenation, Literals, and More (Eric)"
   ]
  },
  {
   "cell_type": "markdown",
   "metadata": {},
   "source": [
    "## Section 2.7: String Methods (Eric)"
   ]
  },
  {
   "cell_type": "markdown",
   "metadata": {},
   "source": [
    "## Section 2.8: Wrapper Classes - Integer and Double (Aadit)"
   ]
  },
  {
   "cell_type": "markdown",
   "metadata": {},
   "source": [
    "## Section 2.9: Using the Math class (Aadit)"
   ]
  },
  {
   "cell_type": "markdown",
   "metadata": {},
   "source": []
  },
  {
   "cell_type": "markdown",
   "metadata": {},
   "source": []
  },
  {
   "cell_type": "markdown",
   "metadata": {},
   "source": []
  }
 ],
 "metadata": {
  "language_info": {
   "name": "python"
  }
 },
 "nbformat": 4,
 "nbformat_minor": 2
}
