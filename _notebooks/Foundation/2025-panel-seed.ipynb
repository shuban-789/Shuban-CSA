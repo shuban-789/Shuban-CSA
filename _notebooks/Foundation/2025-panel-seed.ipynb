{
 "cells": [
  {
   "cell_type": "markdown",
   "metadata": {},
   "source": [
    "---\n",
    "layout: post\n",
    "title: Panel Meeting Memories\n",
    "description: Panel Meeting Memories\n",
    "type: issues \n",
    "comments: true\n",
    "---"
   ]
  },
  {
   "cell_type": "markdown",
   "metadata": {},
   "source": [
    "## Key Takeaways 🗝️\n",
    "\n",
    "For this panel meeting, the main key lesson which I learned was the importance of presentation over code. One idea which really resonated with me is that people will not care about how much code I write or how it looks as long as it gets the job done. I also saw the importance of flowcharts and how it could help me chart out control flow\n",
    "\n",
    "## Summary ➕\n",
    "\n",
    "For this class, I have made many flowcharts before. I think one important skill I am trying to grasp is to make a flowchart before attacking a huge task. I feel like for my media bias game, making a flowchart could have saved a lot of time during production.\n",
    "\n",
    "![alt text](image-5.png)"
   ]
  },
  {
   "cell_type": "markdown",
   "metadata": {},
   "source": []
  }
 ],
 "metadata": {
  "language_info": {
   "name": "python"
  }
 },
 "nbformat": 4,
 "nbformat_minor": 2
}
