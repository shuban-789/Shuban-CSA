{
 "cells": [
  {
   "cell_type": "markdown",
   "metadata": {},
   "source": [
    "---\n",
    "layout: post\n",
    "title: Python Hacks\n",
    "description:  Hacks for Sprint 1\n",
    "type: issues \n",
    "comments: true\n",
    "---"
   ]
  },
  {
   "cell_type": "markdown",
   "metadata": {},
   "source": [
    "# Tools and Python Play\n",
    "\n",
    "This hack post is for the proof of python tools and equipment on my machine, including a working jupyter notebook is a modular kernel which I can switch between `venv` and native `python3` kernels in."
   ]
  },
  {
   "cell_type": "markdown",
   "metadata": {},
   "source": [
    "# Hack 1: Showcase of Venv\n",
    "\n",
    "This is a more advanced version of the hack which was asked on the python play page. Most importantly though, it showcases a working venv."
   ]
  },
  {
   "cell_type": "code",
   "execution_count": 1,
   "metadata": {},
   "outputs": [
    {
     "name": "stdout",
     "output_type": "stream",
     "text": [
      "=== Magic Emoji Machine ===\n",
      "\n",
      "Input - A set of emojis\n",
      "Output - The next emoji in the ASCII set\n",
      "Exit - Type \"exit\" now to exit the program\n",
      "\n"
     ]
    },
    {
     "name": "stdout",
     "output_type": "stream",
     "text": [
      "=== Magic Emoji Machine: INPUT ===\n",
      "No emojis entered. Sample set will be used.\n",
      "🚀 = 128640\n",
      "🔴 = 128308\n",
      "🧀 = 129472\n",
      "💻 = 128187\n",
      "😺 = 128570\n",
      "👍 = 128077\n",
      "🤓 = 129299\n",
      "=== Magic Emoji Machine: OUTPUT ===\n",
      "🚀 = 128640 -> 🚁 = 128641\n",
      "🔴 = 128308 -> 🔵 = 128309\n",
      "🧀 = 129472 -> 🧁 = 129473\n",
      "💻 = 128187 -> 💼 = 128188\n",
      "😺 = 128570 -> 😻 = 128571\n",
      "👍 = 128077 -> 👎 = 128078\n",
      "🤓 = 129299 -> 🤔 = 129300\n"
     ]
    }
   ],
   "source": [
    "# Hack 1: The Magic Emoji Machine\n",
    "# Description: Emoji formatting BUT with a twist...\n",
    "# Author: Shuban Pal\n",
    "# Showcase: ord() and chr() ASCII functions in order to represent emojis into the next emoji in their ASCII set\n",
    "\n",
    "values = []\n",
    "\n",
    "menus = [\"=== Magic Emoji Machine ===\", \"=== Magic Emoji Machine: INPUT ===\", \"=== Magic Emoji Machine: OUTPUT ===\"]\n",
    "\n",
    "magic_function = lambda char: chr(ord(char) + 1)\n",
    "\n",
    "print(menus[0])\n",
    "print(\"\")\n",
    "print(\"Input - A set of emojis\")\n",
    "print(\"Output - The next emoji in the ASCII set\")\n",
    "print('Exit - Type \"exit\" now to exit the program')\n",
    "print(\"\")\n",
    "inp = str(input(f\"Enter a set of emojis: \"))\n",
    "if (inp == \"exit\") or (inp == \"Exit\"):\n",
    "    exit()\n",
    "elif len(values) >= 1:\n",
    "    for i in inp:\n",
    "        values.append(i)\n",
    "else:\n",
    "    pass\n",
    "    \n",
    "print(menus[1])\n",
    "if (len(values) == 0):\n",
    "    print(\"No emojis entered. Sample set will be used.\")\n",
    "    values = [\"🚀\",\"🔴\",\"🧀\",\"💻\",\"😺\",\"👍\",\"🤓\"]\n",
    "for i in values:\n",
    "    print(f\"{i} = {ord(i)}\")\n",
    "print(menus[2])\n",
    "for i in values:\n",
    "    print(f\"{i} = {ord(i)} -> {magic_function(i)} = {ord(magic_function(i))}\")\n"
   ]
  },
  {
   "cell_type": "markdown",
   "metadata": {},
   "source": [
    "# Hack 2: Showcase of Python version and base64 import reveal\n",
    "\n",
    "This code is a showcase of the python version and the source code for the base64 pytohn import."
   ]
  },
  {
   "cell_type": "code",
   "execution_count": null,
   "metadata": {},
   "outputs": [],
   "source": [
    "# Hack 2: Print the code for libraries\n",
    "# Description: Library code printer\n",
    "# Author: Shuban Pal\n",
    "# Showcase: Inspection of the base64 library\n",
    "\n",
    "import os\n",
    "\n",
    "LIBRARY = \"base64\"\n",
    "\n",
    "print(f\"=== Library Code Printer ===\")\n",
    "os.system(\"cat /usr/lib/python3.10/base64.py\")\n",
    "os.system(\"python3 --version\")"
   ]
  },
  {
   "cell_type": "markdown",
   "metadata": {},
   "source": [
    "# Hack 3: Showcase of the article scraping software\n",
    "\n",
    "This code also reveals the python executable location"
   ]
  },
  {
   "cell_type": "code",
   "execution_count": null,
   "metadata": {},
   "outputs": [],
   "source": [
    "#!pip install newspaper3k\n",
    "from IPython.display import display, Markdown\n",
    "\n",
    "\n",
    "url = [\"https://blog.prepscholar.com/how-to-get-800-on-sat-reading-10-strategies-by-a-perfect-scorer\"]\n",
    "os.system(\"which python3\")\n",
    "\n",
    "from newspaper import Article\n",
    "\n",
    "# Download and parse the article\n",
    "article = Article(url)\n",
    "article.download()\n",
    "article.parse()\n",
    "\n",
    "# Get the article text\n",
    "article_text = article.text\n",
    "\n",
    "# Define keywords to search for\n",
    "keywords = [\"SAT\", \"reading\", \"strategies\", \"perfect scorer\", \"score\", \"tips\"]\n",
    "\n",
    "# Search for keywords in the article text\n",
    "found_keywords = {keyword: article_text.lower().count(keyword.lower()) for keyword in keywords}\n",
    "\n",
    "# Display the results\n",
    "display(Markdown(f\"**Found Keywords in the Article:**\\n\\n\" + \"\\n\".join([f\"- **{keyword}**: {count}\" for keyword, count in found_keywords.items()])))\n",
    "\n",
    "\n",
    "\n"
   ]
  }
 ],
 "metadata": {
  "kernelspec": {
   "display_name": "Python 3",
   "language": "python",
   "name": "python3"
  },
  "language_info": {
   "codemirror_mode": {
    "name": "ipython",
    "version": 3
   },
   "file_extension": ".py",
   "mimetype": "text/x-python",
   "name": "python",
   "nbconvert_exporter": "python",
   "pygments_lexer": "ipython3",
   "version": "3.10.12"
  }
 },
 "nbformat": 4,
 "nbformat_minor": 2
}
