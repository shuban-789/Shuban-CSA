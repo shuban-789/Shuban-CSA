{
 "cells": [
  {
   "cell_type": "raw",
   "metadata": {
    "vscode": {
     "languageId": "raw"
    }
   },
   "source": [
    "---\n",
    "title: Sorting/Searching Algorithms - Sorting Lesson\n",
    "description: A lesson on sorting algorithms for AP Computer Science students.\n",
    "categories: [Sorting/Searching Algorithms]\n",
    "type: ccc\n",
    "courses: { csa: {week: 20} }\n",
    "comments: true\n",
    "---"
   ]
  },
  {
   "cell_type": "markdown",
   "metadata": {},
   "source": [
    "# **Sorting Algorithms**\n",
    "\n",
    "# **1. Bubble Sorting**\n",
    "Bubble sort is a simple sorting algorithm that repeatedly steps through the list, compares adjacent elements and swaps them if they are in the wrong order. The pass through the list is repeated until the list is sorted. It starts by taking the first two integers in a list of integers and compares them, if the first integer is greater than the second integer, it swaps them. It then moves to the next pair of integers and does the same. Once it finishes one loop through, it shifts the comparison to the second and third integers and so on. It continues to loop through the list until no more swaps are needed and the list is sorted.\n",
    "![Bubble Sorting](https://www.computersciencebytes.com/wp-content/uploads/2016/10/bubble_sort.png)\n"
   ]
  },
  {
   "cell_type": "markdown",
   "metadata": {},
   "source": [
    "## Code Example:"
   ]
  },
  {
   "cell_type": "code",
   "execution_count": null,
   "metadata": {
    "vscode": {
     "languageId": "java"
    }
   },
   "outputs": [
    {
     "name": "stdout",
     "output_type": "stream",
     "text": [
      "Sorting process:\n",
      "12 28 18 8 30 3 17 14 \n",
      "12 18 28 8 30 3 17 14 \n",
      "12 18 8 28 30 3 17 14 \n",
      "12 18 8 28 3 30 17 14 \n",
      "12 18 8 28 3 17 30 14 \n",
      "12 18 8 28 3 17 14 30 \n",
      "12 8 18 28 3 17 14 30 \n",
      "12 8 18 3 28 17 14 30 \n",
      "12 8 18 3 17 28 14 30 \n",
      "12 8 18 3 17 14 28 30 \n",
      "8 12 18 3 17 14 28 30 \n",
      "8 12 3 18 17 14 28 30 \n",
      "8 12 3 17 18 14 28 30 \n",
      "8 12 3 17 14 18 28 30 \n",
      "8 3 12 17 14 18 28 30 \n",
      "8 3 12 14 17 18 28 30 \n",
      "3 8 12 14 17 18 28 30 \n",
      "\n",
      "Final sorted list:\n",
      "3 8 12 14 17 18 28 30 \n"
     ]
    }
   ],
   "source": [
    "public class SortingLesson {\n",
    "    public static void main(String[] args) {\n",
    "        int[] list = {28, 12, 18, 8, 30, 3, 17, 14};\n",
    "        \n",
    "        System.out.println(\"Sorting process:\");\n",
    "        for (int i = 0; i < list.length - 1; i++) {\n",
    "            for (int j = 0; j < list.length - i - 1; j++) {\n",
    "                if (list[j] > list[j + 1]) {\n",
    "                    int temp = list[j];\n",
    "                    list[j] = list[j + 1];\n",
    "                    list[j + 1] = temp;\n",
    "                    \n",
    "                    printArray(list);\n",
    "                }\n",
    "            }\n",
    "        }\n",
    "        \n",
    "        System.out.println(\"\\nFinal sorted list:\");\n",
    "        printArray(list);\n",
    "    }\n",
    "\n",
    "    private static void printArray(int[] array) {\n",
    "        for (int num : array) {\n",
    "            System.out.print(num + \" \");\n",
    "        }\n",
    "        System.out.println();\n",
    "    }\n",
    "}\n",
    "\n",
    "\n",
    "SortingLesson.main(new String[]{});\n",
    "\n"
   ]
  },
  {
   "cell_type": "markdown",
   "metadata": {},
   "source": [
    "# **2. Selection Sorting**\n",
    "Selection sort is a simple sorting algorithm that works by selecting the smallest (or largest, depending on sorting order) element from the list and swapping it with the first unsorted element. The algorithm then finds the second smallest element and swaps it with the second unsorted element, and continues in this way until the entire list is sorted. It is similar to bubble sort, but it is more efficient as it reduces the number of swaps.\n",
    "![Selection Sorting](https://he-s3.s3.amazonaws.com/media/uploads/2888f5b.png)"
   ]
  },
  {
   "cell_type": "code",
   "execution_count": 7,
   "metadata": {
    "vscode": {
     "languageId": "java"
    }
   },
   "outputs": [
    {
     "name": "stdout",
     "output_type": "stream",
     "text": [
      "Sorting process:\n",
      "3 12 18 8 30 28 17 14 \n",
      "3 8 18 12 30 28 17 14 \n",
      "3 8 12 18 30 28 17 14 \n",
      "3 8 12 14 30 28 17 18 \n",
      "3 8 12 14 17 28 30 18 \n",
      "3 8 12 14 17 18 30 28 \n",
      "3 8 12 14 17 18 28 30 \n",
      "\n",
      "Final sorted list:\n",
      "3 8 12 14 17 18 28 30 \n"
     ]
    }
   ],
   "source": [
    "public class SelectionSort {\n",
    "    public static void main(String[] args) {\n",
    "        int[] list = {28, 12, 18, 8, 30, 3, 17, 14};\n",
    "        \n",
    "        System.out.println(\"Sorting process:\");\n",
    "        for (int currentIndex = 0; currentIndex < list.length - 1; currentIndex++) {\n",
    "            int minIndex = currentIndex;\n",
    "            \n",
    "            // Find the minimum element in the unsorted part\n",
    "            for (int i = currentIndex + 1; i < list.length; i++) {\n",
    "                if (list[i] < list[minIndex]) {\n",
    "                    minIndex = i;\n",
    "                }\n",
    "            }\n",
    "            \n",
    "            // Swap the current element with the minimum element\n",
    "            int temp = list[currentIndex];\n",
    "            list[currentIndex] = list[minIndex];\n",
    "            list[minIndex] = temp;\n",
    "\n",
    "            // Print the array after each swap\n",
    "            printArray(list);\n",
    "        }\n",
    "        \n",
    "        System.out.println(\"\\nFinal sorted list:\");\n",
    "        printArray(list);\n",
    "    }\n",
    "\n",
    "    // Helper method to print the array\n",
    "    private static void printArray(int[] array) {\n",
    "        for (int num : array) {\n",
    "            System.out.print(num + \" \");\n",
    "        }\n",
    "        System.out.println();\n",
    "    }\n",
    "}\n",
    "\n",
    "SelectionSort.main(new String[]{});"
   ]
  },
  {
   "cell_type": "markdown",
   "metadata": {},
   "source": [
    "# **3. Quick Sorting**\n",
    "Quick sort is a efficient, in-place sorting algorithm that allows for general-purpose sorting of large datasets. Its generally faster than commonly used sorting methods like Merge Sort or heapsort. It works by selecting a 'pivot' element from the array and partitioning the other elements into two sub-arrays, according to whether they are less than or greater than the pivot. For this reason, it is sometimes called partition-exchange sort.\n",
    "![Quick Sorting](https://afteracademy.com/images/quick-sort-example-recursion-tree-c74167d4ee973e77.png)"
   ]
  },
  {
   "cell_type": "markdown",
   "metadata": {},
   "source": [
    "## Code Example:"
   ]
  },
  {
   "cell_type": "code",
   "execution_count": 8,
   "metadata": {
    "vscode": {
     "languageId": "java"
    }
   },
   "outputs": [
    {
     "name": "stdout",
     "output_type": "stream",
     "text": [
      "Sorting process:\n",
      "12 8 3 14 30 18 17 28 \n",
      "3 8 12 14 30 18 17 28 \n",
      "3 8 12 14 30 18 17 28 \n",
      "3 8 12 14 18 17 28 30 \n",
      "3 8 12 14 17 18 28 30 \n",
      "\n",
      "Final sorted list:\n",
      "3 8 12 14 17 18 28 30 \n"
     ]
    }
   ],
   "source": [
    "public class QuickSort {\n",
    "    public static void main(String[] args) {\n",
    "        int[] list = {28, 12, 18, 8, 30, 3, 17, 14};\n",
    "        \n",
    "        System.out.println(\"Sorting process:\");\n",
    "        quickSort(list, 0, list.length - 1);\n",
    "        \n",
    "        System.out.println(\"\\nFinal sorted list:\");\n",
    "        printArray(list);\n",
    "    }\n",
    "\n",
    "    private static void quickSort(int[] list, int low, int high) {\n",
    "        if (low < high) {\n",
    "            int pivotIndex = partition(list, low, high);\n",
    "            printArray(list);\n",
    "            quickSort(list, low, pivotIndex - 1);\n",
    "            quickSort(list, pivotIndex + 1, high);\n",
    "        }\n",
    "    }\n",
    "    \n",
    "    private static int partition(int[] list, int low, int high) {\n",
    "        int pivot = list[high];\n",
    "        int i = low - 1;\n",
    "        \n",
    "        for (int j = low; j < high; j++) {\n",
    "            if (list[j] <= pivot) {\n",
    "                i++;\n",
    "                int temp = list[i];\n",
    "                list[i] = list[j];\n",
    "                list[j] = temp;\n",
    "            }\n",
    "        }\n",
    "        \n",
    "        int temp = list[i + 1];\n",
    "        list[i + 1] = list[high];\n",
    "        list[high] = temp;\n",
    "        \n",
    "        return i + 1;\n",
    "    }\n",
    "\n",
    "    private static void printArray(int[] array) {\n",
    "        for (int num : array) {\n",
    "            System.out.print(num + \" \");\n",
    "        }\n",
    "        System.out.println();\n",
    "    }\n",
    "}\n",
    "\n",
    "QuickSort.main(new String[]{});\n"
   ]
  },
  {
   "cell_type": "markdown",
   "metadata": {},
   "source": [
    "# **4. Insertion Sorting**\n",
    "\n",
    "Insertion sort is a simple sorting algorithm that builds the final sorted array (or list) one item at a time. It is much less efficient on large lists than more advanced algorithms such as quicksort, heapsort, or merge sort. However, insertion sort provides several advantages: simple implementation, efficient for (quite) small data sets, more efficient in practice than most other simple quadratic (i.e., O(n2)) algorithms such as selection sort or bubble sort, adaptive, stable, in-place, online, and can be made stable.\n",
    "![Insertion Sorting](https://media.geeksforgeeks.org/wp-content/uploads/20240802210251/Insertion-sorting.png)"
   ]
  },
  {
   "cell_type": "markdown",
   "metadata": {},
   "source": [
    "## Code Example:"
   ]
  },
  {
   "cell_type": "code",
   "execution_count": 1,
   "metadata": {
    "vscode": {
     "languageId": "java"
    }
   },
   "outputs": [
    {
     "name": "stdout",
     "output_type": "stream",
     "text": [
      "Sorting process:\n",
      "12 28 18 8 30 3 17 14 \n",
      "12 18 28 8 30 3 17 14 \n",
      "8 12 18 28 30 3 17 14 \n",
      "8 12 18 28 30 3 17 14 \n",
      "3 8 12 18 28 30 17 14 \n",
      "3 8 12 17 18 28 30 14 \n",
      "3 8 12 14 17 18 28 30 \n",
      "Sorted array:\n",
      "3 8 12 14 17 18 28 30 "
     ]
    }
   ],
   "source": [
    "public class InsertionSort {\n",
    "    public static void main(String[] args) {\n",
    "        int[] list = {28, 12, 18, 8, 30, 3, 17, 14};\n",
    "        \n",
    "        System.out.println(\"Sorting process:\");\n",
    "        \n",
    "        // Insertion sort algorithm\n",
    "        for (int i = 1; i < list.length; i++) {\n",
    "            int currentValue = list[i];\n",
    "            int j = i - 1;\n",
    "            \n",
    "            // Shift larger elements to the right\n",
    "            while (j >= 0 && list[j] > currentValue) {\n",
    "                list[j + 1] = list[j];\n",
    "                j--;\n",
    "            }\n",
    "            \n",
    "            // Place the current value in the correct position\n",
    "            list[j + 1] = currentValue;\n",
    "            \n",
    "            // Print the list after each insertion\n",
    "            for (int k = 0; k < list.length; k++) {\n",
    "                System.out.print(list[k] + \" \");\n",
    "            }\n",
    "            System.out.println();  // New line after each pass\n",
    "        }\n",
    "\n",
    "        // Final sorted list\n",
    "        System.out.println(\"Sorted array:\");\n",
    "        for (int num : list) {\n",
    "            System.out.print(num + \" \");\n",
    "        }\n",
    "    }\n",
    "}\n",
    "\n",
    "InsertionSort.main(new String[]{});"
   ]
  }
 ],
 "metadata": {
  "kernelspec": {
   "display_name": "Java",
   "language": "java",
   "name": "java"
  },
  "language_info": {
   "codemirror_mode": "java",
   "file_extension": ".jshell",
   "mimetype": "text/x-java-source",
   "name": "Java",
   "pygments_lexer": "java",
   "version": "17.0.6+10-LTS"
  }
 },
 "nbformat": 4,
 "nbformat_minor": 2
}
