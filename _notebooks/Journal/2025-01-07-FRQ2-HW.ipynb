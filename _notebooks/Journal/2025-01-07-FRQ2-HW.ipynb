{
 "cells": [
  {
   "cell_type": "markdown",
   "metadata": {},
   "source": [
    "---\n",
    "layout: post\n",
    "title: Introduction to FRQ#2 HW\n",
    "comments: true\n",
    "---"
   ]
  },
  {
   "cell_type": "markdown",
   "metadata": {},
   "source": [
    "# Conclusion   (Jason)"
   ]
  },
  {
   "cell_type": "markdown",
   "metadata": {
    "vscode": {
     "languageId": "plaintext"
    }
   },
   "source": [
    "The **\"Classes\"** section gives a simple guide to handling Classes FRQs in APCSA. It explains key ideas like writing class headers, constructors, and methods, and keeping instance variables private. Following these steps makes your code organized and clear, which helps earn points on the exam.\n",
    "\n",
    "### Tips  \n",
    "1. **Follow Instructions**: Always match class headers, constructors, and method details to what’s asked in the question.  \n",
    "\n",
    "2. **Keep it Simple**: Use `this.variable = parameter;` to set instance variables in constructors.  \n",
    "\n",
    "3. **Check Scoping**: Class and method headers should usually be `public`, and instance variables should always be `private`.  \n"
   ]
  },
  {
   "cell_type": "markdown",
   "metadata": {},
   "source": [
    "# **Homework!** (Jason)\n",
    "### 2017 FRQ, Question 2 - Classes\n",
    "\n",
    "#### [**Homework over here...**](https://docs.google.com/forms/d/e/1FAIpQLSfh9si2edbWDec6buhsbuA_oiq-rA2lMeY582N4i8nAxtmBoQ/viewform?usp=sf_link)\n",
    "\n",
    "![2017 FRQ, Question 2, Classes](https://i.ibb.co/VJc29TM/Screenshot-2025-01-07-at-12-39-08-PM.png)\n",
    "\n",
    "![Example 1](https://i.ibb.co/NpF8v72/Screenshot-2025-01-07-at-12-43-04-PM.png)\n",
    "\n",
    "![Example 2](https://i.ibb.co/pW4jVSX/Screenshot-2025-01-07-at-12-43-20-PM.png)\n",
    "\n",
    "![Final](https://i.ibb.co/vYTv7cX/Screenshot-2025-01-07-at-12-44-12-PM.png)\n"
   ]
  },
  {
   "cell_type": "code",
   "execution_count": 10,
   "metadata": {
    "vscode": {
     "languageId": "java"
    }
   },
   "outputs": [],
   "source": [
    "public interface StudyPractice\n",
    "{\n",
    "    String GetProblem();\n",
    "    void NextProblem();\n",
    "}"
   ]
  },
  {
   "cell_type": "code",
   "execution_count": null,
   "metadata": {
    "vscode": {
     "languageId": "java"
    }
   },
   "outputs": [
    {
     "name": "stdout",
     "output_type": "stream",
     "text": [
      "===========================================\n",
      "Initial problem: 4 TIMES 12\n",
      "After first NextProblem(): 4 TIMES 13\n",
      "After second NextProblem(): 4 TIMES 14\n",
      "===========================================\n",
      "Initial problem: 4 TIMES 12\n",
      "After first NextProblem(): 4 TIMES 13\n",
      "After second NextProblem(): 4 TIMES 14\n",
      "===========================================\n",
      "Initial problem: 4 TIMES 12\n",
      "After first NextProblem(): 4 TIMES 13\n",
      "After second NextProblem(): 4 TIMES 14\n",
      "===========================================\n",
      "Initial problem: 4 TIMES 12\n",
      "After first NextProblem(): 4 TIMES 13\n",
      "After second NextProblem(): 4 TIMES 14\n",
      "===========================================\n",
      "Initial problem: 4 TIMES 12\n",
      "After first NextProblem(): 4 TIMES 13\n",
      "After second NextProblem(): 4 TIMES 14\n",
      "===========================================\n",
      "Initial problem: 4 TIMES 12\n",
      "After first NextProblem(): 4 TIMES 13\n",
      "After second NextProblem(): 4 TIMES 14\n",
      "===========================================\n",
      "Initial problem: 4 TIMES 12\n",
      "After first NextProblem(): 4 TIMES 13\n",
      "After second NextProblem(): 4 TIMES 14\n",
      "===========================================\n",
      "Initial problem: 4 TIMES 12\n",
      "After first NextProblem(): 4 TIMES 13\n",
      "After second NextProblem(): 4 TIMES 14\n",
      "===========================================\n",
      "Initial problem: 4 TIMES 12\n",
      "After first NextProblem(): 4 TIMES 13\n",
      "After second NextProblem(): 4 TIMES 14\n",
      "===========================================\n",
      "Initial problem: 4 TIMES 12\n",
      "After first NextProblem(): 4 TIMES 13\n",
      "After second NextProblem(): 4 TIMES 14\n",
      "===========================================\n"
     ]
    }
   ],
   "source": [
    "// MultPractice class implements StudyPractice interface\n",
    "// This class simulates a multiplication practice problem generator.\n",
    "public class MultPractice implements StudyPractice {\n",
    "    // Declare instance variables to store the numbers and the problem string\n",
    "    private int X; // Base number for multiplication\n",
    "    private int y; // Multiplier\n",
    "    private String problem;\n",
    "\n",
    "    // Constructor initializes the instance variables\n",
    "    public MultPractice(int X, int y) {\n",
    "        this.X = X; // Initialize the base number\n",
    "        this.y = y; // Initialize the multiplier\n",
    "        this.problem = X + \" TIMES \" + y; // Initialize the problem string\n",
    "    }\n",
    "\n",
    "    // Returns the current problem as a String\n",
    "    @Override\n",
    "    public String GetProblem() { // Capitalized method name\n",
    "        return problem;\n",
    "    }\n",
    "\n",
    "    // Moves to the next problem by incrementing the multiplier\n",
    "    @Override\n",
    "    public void NextProblem() { // Capitalized method name\n",
    "        y++; // Increment the multiplier\n",
    "        problem = X + \" TIMES \" + y; // Update the problem string\n",
    "    }\n",
    "\n",
    "    // Main method to test the functionality of the MultPractice class\n",
    "    public static void main(String[] args) {\n",
    "        // Create a new MultPractice object with initial problem 4 TIMES 12\n",
    "        StudyPractice P2 = new MultPractice(4, 12);\n",
    "\n",
    "        // Print the initial problem\n",
    "        System.out.println(\"Initial problem: \" + P2.GetProblem());\n",
    "\n",
    "        // Go to the next problem and print it\n",
    "        P2.NextProblem();\n",
    "        System.out.println(\"After first NextProblem(): \" + P2.GetProblem());\n",
    "\n",
    "        // Go to the next problem again and print it\n",
    "        P2.NextProblem();\n",
    "        System.out.println(\"After second NextProblem(): \" + P2.GetProblem());\n",
    "    }\n",
    "}\n",
    "\n",
    "// Test case generator\n",
    "\n",
    "System.out.println(\"===========================================\");\n",
    "for (int i = 0; i < 10; i++) {\n",
    "    int X = (int) (Math.random() * 10) + 1;\n",
    "    int y = (int) (Math.random() * 10) + 1;\n",
    "    MultPractice run = new MultPractice(X, y);\n",
    "    run.main(null);\n",
    "    System.out.println(\"===========================================\");\n",
    "}"
   ]
  }
 ],
 "metadata": {
  "kernelspec": {
   "display_name": "Java",
   "language": "java",
   "name": "java"
  },
  "language_info": {
   "codemirror_mode": "java",
   "file_extension": ".jshell",
   "mimetype": "text/x-java-source",
   "name": "Java",
   "pygments_lexer": "java",
   "version": "17.0.13+11-Ubuntu-2ubuntu122.04"
  }
 },
 "nbformat": 4,
 "nbformat_minor": 2
}
