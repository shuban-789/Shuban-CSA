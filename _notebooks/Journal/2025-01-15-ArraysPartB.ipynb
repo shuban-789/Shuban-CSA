{
 "cells": [
  {
   "cell_type": "markdown",
   "metadata": {},
   "source": [
    "---\n",
    "layout: post\n",
    "comments: true\n",
    "title: 2D Arrays\n",
    "categories: [AP CSA]\n",
    "courses: { csa: {week: 17} }\n",
    "menu: nav/CSA_Units/frqs/per3-2Darrays.html\n",
    "permalink: /csa/p3-2darrays4\n",
    "---"
   ]
  },
  {
   "cell_type": "markdown",
   "metadata": {},
   "source": [
    "# Explanation of the 2018 AP CSA FRQ - Question 4 (Part B)"
   ]
  },
  {
   "cell_type": "markdown",
   "metadata": {},
   "source": [
    "## Prior Knowledge \n",
    "\n",
    "1.\tHelper Methods in the Problem\n",
    "\n",
    "\t•\tgetColumn(int[][] arr2D, int c): Returns an array containing all elements in column c of a 2D array.\n",
    "\n",
    "\t•\tcontainsDuplicates(int[] arr): Returns true if the array contains duplicate values.\n",
    "\n",
    "\t•\thasAllValues(int[] arr1, int[] arr2): Returns true if all elements in arr1 are present in arr2.\n",
    "\n",
    "2.\tLatin Square Definition\n",
    "\n",
    "\t•\tThe first row has no duplicate values.\n",
    "\n",
    "\t•\tAll values in the first row appear in every row of the square.\n",
    "\n",
    "\t•\tAll values in the first row appear in every column of the square.\n",
    "\n",
    "3. \tPreconditions\n",
    "\n",
    "\t•\tThe input array is guaranteed to be square (equal number of rows and columns).\n",
    "\t\n",
    "\t•\tAt least one row exists in the array."
   ]
  },
  {
   "cell_type": "code",
   "execution_count": 1,
   "metadata": {},
   "outputs": [],
   "source": [
    "public static boolean isLatin(int[][] square) {\n",
    "    int[] firstRow = square[0];\n",
    "    \n",
    "    // Check for duplicates in the first row\n",
    "    if (containsDuplicates(firstRow)) {\n",
    "        return false;\n",
    "    }\n",
    "    \n",
    "    // Check if all other rows have the same values as the first row\n",
    "    for (int r = 1; r < square.length; r++) {\n",
    "        if (!hasAllValues(firstRow, square[r])) {\n",
    "            return false;\n",
    "        }\n",
    "    }\n",
    "    \n",
    "    // Check if all columns have the same values as the first row\n",
    "    for (int c = 0; c < firstRow.length; c++) {\n",
    "        if (!hasAllValues(firstRow, getColumn(square, c))) {\n",
    "            return false;\n",
    "        }\n",
    "    }\n",
    "    \n",
    "    return true;\n",
    "}"
   ]
  },
  {
   "cell_type": "markdown",
   "metadata": {},
   "source": [
    "## Checking for Duplicates in the First Row\n",
    "\n",
    "The method begins by calling containsDuplicates(square[0]) to check if the first row contains duplicate values. A Latin \n",
    "square requires all values in each row to be unique, so if duplicates are found, the method immediately returns false.\n",
    "\n",
    "## Validating Rows Against the First Row\n",
    "\n",
    "The method iterates through the remaining rows (square[r]) and uses hasAllValues(square[0], square[r]) to ensure that each row contains all the values present in the first row. If any row does not meet this condition, the method returns false.\n",
    "\n",
    "## Validating Columns Against the First Row\n",
    "\n",
    "The method checks each column by constructing it using getColumn(square, c) and then verifying it against the first row with hasAllValues(square[0], getColumn(square, c)). If any column does not contain all the values from the first row, the method returns false.\n",
    "\n",
    "## Returning the Result\n",
    "\n",
    "If all rows and columns pass the checks, the method concludes that the input is a Latin square and returns true. Otherwise, it returns false."
   ]
  },
  {
   "cell_type": "markdown",
   "metadata": {},
   "source": [
    "## Meets the Latin Square Requirement\n",
    "\n",
    "\t•\tNo duplicates in the first row.\n",
    "\n",
    "\t•\tAll rows contain the same values as the first row.\n",
    "    \n",
    "\t•\tAll columns contain the same values as the first row."
   ]
  },
  {
   "cell_type": "markdown",
   "metadata": {},
   "source": [
    "[Scoring Guidelines](https://github.com/user-attachments/assets/f360a2cd-605d-47f4-868f-a1aacf71f375)"
   ]
  }
 ],
 "metadata": {
  "kernelspec": {
   "display_name": "Java",
   "language": "java",
   "name": "java"
  },
  "language_info": {
   "codemirror_mode": "java",
   "file_extension": ".jshell",
   "mimetype": "text/x-java-source",
   "name": "java",
   "pygments_lexer": "java",
   "version": "17.0.13+11-Ubuntu-2ubuntu122.04"
  }
 },
 "nbformat": 4,
 "nbformat_minor": 2
}
