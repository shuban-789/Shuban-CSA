{
 "cells": [
  {
   "cell_type": "markdown",
   "metadata": {},
   "source": [
    "---\n",
    "layout: post\n",
    "comments: true\n",
    "type: issues \n",
    "title: ArrayLists - Homework\n",
    "categories: [AP CSA]\n",
    "menu: nav/FRQ_teach/p1-arraylists.html\n",
    "permalink: /csa/p1-frq-arraylists/homework\n",
    "---"
   ]
  },
  {
   "cell_type": "markdown",
   "metadata": {},
   "source": [
    "# Homework\n",
    "\n",
    "### For homework, complete **problem 3** on the 2023 AP CSA Free Repsonse. A link is provided below. Submit to utterances on this page :)\n",
    "\n",
    "[AP Central 2023 Computer Science A FRQ](https://apcentral.collegeboard.org/media/pdf/ap23-frq-comp-sci-a.pdf)"
   ]
  },
  {
   "cell_type": "code",
   "execution_count": null,
   "metadata": {},
   "outputs": [],
   "source": [
    "import java.util.ArrayList;\n",
    "\n",
    "public class WeatherData {\n",
    "    private ArrayList<Double> temperatures;\n",
    "    \n",
    "    public WeatherData() {\n",
    "        temperatures = new ArrayList<Double>();\n",
    "    }\n",
    "    \n",
    "    /** Removes all values in temperatures that are less than lower or greater than upper\n",
    "     *  Postcondition: all values in temperatures are greater than or equal to lower and\n",
    "     *                 less than or equal to upper\n",
    "     */\n",
    "    public void cleanData(double lower, double upper) {\n",
    "        for (int i = temperatures.size() - 1; i >= 0; i--) {\n",
    "            double temp = temperatures.get(i);\n",
    "            if (temp < lower || temp > upper) {\n",
    "                temperatures.remove(i);\n",
    "            }\n",
    "        }\n",
    "    }\n",
    "    \n",
    "    /** Returns the length of the longest heat wave in temperatures\n",
    "     *  A heat wave is defined as a sequence of two or more consecutive days with\n",
    "     *  temperatures strictly above threshold\n",
    "     *  Returns 0 if there is no heat wave\n",
    "     */\n",
    "    public int longestHeatwave(double threshold) {\n",
    "        int longestStreak = 0;\n",
    "        int currentStreak = 0;\n",
    "        \n",
    "        for (double temp : temperatures) {\n",
    "            if (temp > threshold) {\n",
    "                currentStreak++;\n",
    "                if (currentStreak > longestStreak) {\n",
    "                    longestStreak = currentStreak;\n",
    "                }\n",
    "            } else {\n",
    "                currentStreak = 0;\n",
    "            }\n",
    "        }\n",
    "        \n",
    "        return longestStreak >= 2 ? longestStreak : 0;\n",
    "    }\n",
    "\n",
    "    public void addTemperature(double temp) {\n",
    "        temperatures.add(temp);\n",
    "    }\n",
    "    \n",
    "    public static void main(String[] args) {\n",
    "        WeatherData wd = new WeatherData();\n",
    "        // TEST CASES for testing all solutions\n",
    "        \n",
    "        wd.addTemperature(90.0);\n",
    "        wd.addTemperature(85.0);\n",
    "        wd.addTemperature(110.0);\n",
    "        wd.addTemperature(72.0);\n",
    "        System.out.println(\"Before cleaning: \" + wd.temperatures);\n",
    "        wd.cleanData(80.0, 100.0);\n",
    "        System.out.println(\"After cleaning (80-100): \" + wd.temperatures);\n",
    "        \n",
    "        WeatherData wd2 = new WeatherData();\n",
    "        wd2.addTemperature(85.0);\n",
    "        wd2.addTemperature(87.0);\n",
    "        wd2.addTemperature(88.0);\n",
    "        wd2.addTemperature(82.0);\n",
    "        wd2.addTemperature(89.0);\n",
    "        wd2.addTemperature(91.0);\n",
    "        System.out.println(\"\\nTemperatures: \" + wd2.temperatures);\n",
    "        System.out.println(\"Longest heat wave above 85: \" + wd2.longestHeatwave(85.0));\n",
    "    }\n",
    "}"
   ]
  },
  {
   "cell_type": "code",
   "execution_count": null,
   "metadata": {},
   "outputs": [],
   "source": []
  }
 ],
 "metadata": {
  "kernelspec": {
   "display_name": "Java",
   "language": "java",
   "name": "java"
  },
  "language_info": {
   "name": "java"
  }
 },
 "nbformat": 4,
 "nbformat_minor": 2
}
