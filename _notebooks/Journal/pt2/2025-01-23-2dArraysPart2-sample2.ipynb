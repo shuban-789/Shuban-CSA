{
 "cells": [
  {
   "cell_type": "raw",
   "metadata": {
    "vscode": {
     "languageId": "raw"
    }
   },
   "source": [
    "---\n",
    "layout: post\n",
    "comments: true\n",
    "title: Period 3 2D Arrays Pt 2 - Sample Problem 2\n",
    "permalink: csa/frqs/p3/2darrays2/sample2\n",
    "---"
   ]
  },
  {
   "cell_type": "markdown",
   "metadata": {
    "vscode": {
     "languageId": "raw"
    }
   },
   "source": [
    "# Sample Problem 2 - Competition!\n",
    "\n",
    "For this problem, please listen to instructions. There will be an in-class competition which will be an opportunity for extra credit. However, you must complete this problem either way as part of the homework.\n",
    "\n",
    "## Problem\n",
    "\n",
    "This question involves a path through a two-dimensional (2D) array of integers, where the path is based on the values of elements in the array. When an element of the 2D array is accessed, the first index is used to specify the row and the second index is used to specify the column. The following `Location` class represents a row and column position in the 2D array."
   ]
  },
  {
   "cell_type": "code",
   "execution_count": 2,
   "metadata": {
    "vscode": {
     "languageId": "java"
    }
   },
   "outputs": [],
   "source": [
    "// Run this code cell so that using the location class doesn't throw errors in future code cells!\n",
    "public class Location {\n",
    "    private int theRow;\n",
    "    private int theCol;\n",
    "\n",
    "    public Location(int r, int c) {\n",
    "        theRow = r;\n",
    "        theCol = c;\n",
    "    }\n",
    "\n",
    "    public int getRow() {\n",
    "        return theRow;\n",
    "    }\n",
    "\n",
    "    public int getCol() {\n",
    "        return theCol;\n",
    "    }\n",
    "}"
   ]
  },
  {
   "cell_type": "markdown",
   "metadata": {},
   "source": [
    "The following `GridPath` class (see the next code cell) contains the 2D array and methods to use to determine a path through the array. You will write two methods of the `GridPath` class.\n",
    "\n",
    "(a) Write the `getNextLoc` method, which returns a `Location` object that represents the smaller of two neighbors of the grid element at row and col, according to the following rules.\n",
    "- The two neighbors that are considered are the element below the given element and the\n",
    "element to the right of the given element, if they exist.\n",
    "- If both neighbors exist, the Location of the neighbor with the smaller value is\n",
    "returned. Two neighbors will always have different values.\n",
    "- If only one neighbor exists, the Location of the existing neighbor is returned.\n",
    "\n",
    "For example, assume that the grid contains the following values:\n",
    "![Example grid](https://i.ibb.co/8BFKvYS/image.png)\n",
    "\n",
    "The following table shows some sample calls to getNextLoc.\n",
    "\n",
    "| Method Call | Explanation |\n",
    "| ----------- | ----------- |\n",
    "| `getNextLoc(0, 0)` | Returns the neighbor to the right (the `Location` representing the element at row 0 and column 1), since 3 < 11 |\n",
    "| `getNextLoc(1, 3)` | Returns the neighbor below (the `Location` representing the element at row 2 and column 3), since 15 < 16 |\n",
    "| `getNextLoc(2, 4)` | Returns the neighbor below (the `Location` representing the element at row 3 and column 4), since the given element has no neighbor to the right |\n",
    "| `getNextLoc(4, 3)` | Returns the neighbor to the right (the `Location` representing the element at row 4 and column 4), since the given element has no neighbor below |\n",
    "\n",
    "In the example, the `getNextLoc` method will never be called with row 4 and column 4, as\n",
    "those values would violate the precondition of the method."
   ]
  },
  {
   "cell_type": "markdown",
   "metadata": {},
   "source": [
    "(b) Write the `sumPath` method, which returns the sum of all values on a path in grid. The path\n",
    "begins with the element at row and col and is determined by successive calls to `getNextLoc`.\n",
    "The path ends when the element in the last row and the last column of grid is reached.\n",
    "For example, consider the following contents of grid. The shaded elements of grid represent the\n",
    "values on the path that results from the method call `sumPath(1, 1)`. The method call returns `19`\n",
    "because `3 + 1 + 2 + 1 + 9 + 1 + 4 + 1 + 0 + 1 + 1 + 5 = 19`.\n",
    "\n",
    "![An image of a sample path](https://i.ibb.co/bKjbkwV/image.png)"
   ]
  },
  {
   "cell_type": "code",
   "execution_count": 6,
   "metadata": {
    "vscode": {
     "languageId": "java"
    }
   },
   "outputs": [
    {
     "name": "stdout",
     "output_type": "stream",
     "text": [
      "Sum of the path: 84\n"
     ]
    }
   ],
   "source": [
    "public class GridPath {\n",
    "    /** Initialized in the constructor with distinct values that never change */\n",
    "    private int[][] grid;\n",
    "\n",
    "    public GridPath(int[][] values) {\n",
    "        grid = values;\n",
    "    }\n",
    "\n",
    "    /**\n",
    "     * Returns the Location representing a neighbor of the grid element at row and col.\n",
    "     * Preconditions: row is a valid row index and col is a valid column index in grid.\n",
    "     * row and col do not specify the element in the last row and last column of grid.\n",
    "     */\n",
    "    public Location getNextLoc(int row, int col) {\n",
    "        // Check if we are at the last row and last column\n",
    "        if (row == grid.length - 1 && col == grid[0].length - 1) {\n",
    "            return null; // No next location\n",
    "        }\n",
    "        // If we are at the last row, we can only move right\n",
    "        if (row == grid.length - 1) {\n",
    "            return new Location(row, col + 1);\n",
    "        }\n",
    "        // If we are at the last column, we can only move down\n",
    "        if (col == grid[0].length - 1) {\n",
    "            return new Location(row + 1, col);\n",
    "        }\n",
    "        // Otherwise, choose the larger neighbor (right or down)\n",
    "        if (grid[row][col + 1] > grid[row + 1][col]) {\n",
    "            return new Location(row, col + 1); // Move right\n",
    "        } else {\n",
    "            return new Location(row + 1, col); // Move down\n",
    "        }\n",
    "    }\n",
    "\n",
    "    /**\n",
    "     * Computes and returns the sum of all values on a path through grid.\n",
    "     * Preconditions: row is a valid row index and col is a valid column index in grid.\n",
    "     * row and col do not specify the element in the last row and last column of grid.\n",
    "     */\n",
    "    public int sumPath(int row, int col) {\n",
    "        int sum = 0;\n",
    "        while (true) {\n",
    "            sum += grid[row][col]; // Add current cell value\n",
    "            Location nextLoc = getNextLoc(row, col);\n",
    "            if (nextLoc == null) { // If no next location, break\n",
    "                break;\n",
    "            }\n",
    "            row = nextLoc.getRow();\n",
    "            col = nextLoc.getCol();\n",
    "        }\n",
    "        return sum;\n",
    "    }\n",
    "}\n",
    "\n",
    "// Test the GridPath class\n",
    "public class Main {\n",
    "    public static void main(String[] args) {\n",
    "        int[][] valueGrid = {\n",
    "            {12, 30, 40, 25, 5},\n",
    "            {11, 3, 22, 15, 43},\n",
    "            {7, 2, 9, 4, 0},\n",
    "            {8, 33, 18, 6, 1}\n",
    "        };\n",
    "\n",
    "        GridPath myGrid = new GridPath(valueGrid);\n",
    "        int result = myGrid.sumPath(1, 1);\n",
    "        System.out.println(\"Sum of the path: \" + result);\n",
    "    }\n",
    "}\n",
    "\n",
    "Main.main(null);"
   ]
  },
  {
   "cell_type": "code",
   "execution_count": null,
   "metadata": {
    "vscode": {
     "languageId": "java"
    }
   },
   "outputs": [],
   "source": []
  }
 ],
 "metadata": {
  "kernelspec": {
   "display_name": "Java",
   "language": "java",
   "name": "java"
  },
  "language_info": {
   "codemirror_mode": "java",
   "file_extension": ".jshell",
   "mimetype": "text/x-java-source",
   "name": "Java",
   "pygments_lexer": "java",
   "version": "17.0.11+7-LTS-207"
  }
 },
 "nbformat": 4,
 "nbformat_minor": 2
}
