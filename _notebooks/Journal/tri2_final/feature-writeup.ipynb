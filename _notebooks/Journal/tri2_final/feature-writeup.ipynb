{
 "cells": [
  {
   "cell_type": "markdown",
   "metadata": {},
   "source": [
    "---\n",
    "layout: post\n",
    "comments: true\n",
    "title: T2F - Feature Writeup\n",
    "---"
   ]
  },
  {
   "cell_type": "markdown",
   "metadata": {},
   "source": [
    "# Feature Writeup\n",
    "\n",
    "## Drawio Diagram\n",
    "\n",
    "![drawio](image-8.png)\n",
    "\n",
    "## Overview of the Media Bias Game\n",
    "\n",
    "- Players are give a selection of multiple news outlets to choose from\n",
    "- They must successfully sort all of the outlets in terms of bias for points\n",
    "- A higher accuracy will result in a higher point count.\n",
    "\n",
    "## Backend\n",
    "\n",
    "- Heap sort algorithm sorts scores on the leaderboard\n",
    "- Everytime a score is submitted via POST, the backend captures it and feeds it into the database\n",
    "- Everytime the leaderboard needs to be shown, the current leaderboard is fetched via GET\n",
    "\n",
    "## Frontend\n",
    "\n",
    "- The actual logic for the game lies in the frontend\n",
    "- An algorithm is used to randomize the news outlets and make the game more fair\n",
    "- Accessible UI and leaderboard, scores are sent and retrieved from the database.\n",
    "\n",
    "## Patch Fixes (2/28)\n",
    "\n",
    "- Saaras, a devoted player, found a bug in my game after playing it for so long. The issue was that the randomization algorithm was not too effective. I just forgot to rescramble. The bug s now officially fixed\n"
   ]
  }
 ],
 "metadata": {
  "language_info": {
   "name": "python"
  }
 },
 "nbformat": 4,
 "nbformat_minor": 2
}
