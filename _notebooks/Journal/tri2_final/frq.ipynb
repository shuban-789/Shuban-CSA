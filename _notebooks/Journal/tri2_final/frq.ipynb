{
 "cells": [
  {
   "cell_type": "markdown",
   "metadata": {},
   "source": [
    "---\n",
    "layout: post\n",
    "comments: true\n",
    "title: T2F - FRQ\n",
    "---"
   ]
  },
  {
   "cell_type": "markdown",
   "metadata": {},
   "source": [
    "## 2015 FRQ\n",
    "\n",
    "![frq](image-6.png)\n",
    "\n",
    "I think for this FRQ I did pretty well overall. I self graded my answers by feeding chatgpt the scoring guidelines afterwords, and was assessed accordingly."
   ]
  }
 ],
 "metadata": {
  "language_info": {
   "name": "python"
  }
 },
 "nbformat": 4,
 "nbformat_minor": 2
}
