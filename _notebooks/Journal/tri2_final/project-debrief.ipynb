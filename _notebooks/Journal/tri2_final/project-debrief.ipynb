{
 "cells": [
  {
   "cell_type": "markdown",
   "metadata": {},
   "source": [
    "---\n",
    "layout: post\n",
    "comments: true\n",
    "title: T2F - Project Debrief\n",
    "---"
   ]
  },
  {
   "cell_type": "markdown",
   "metadata": {},
   "source": [
    "# Project Debrief\n",
    "\n",
    "## What?\n",
    "\n",
    "This trimester I worked with Profe LeCakes to come up with a media bias game for her class to play. I reached out to her directly, talked to her in person, and spent the remaining time in the trimester to improve the game with features such as:\n",
    "\n",
    "- Login support\n",
    "- Accessible leaderboard\n",
    "- Randomization for anti-cheat\n",
    "\n",
    "## Feedback\n",
    "\n",
    "Most of the feedback which I recieved were by people playing my game at night at the museum. This was when Saaras actually told me about a bug in my game, which I will talk about in the patch fix debrief.\n",
    "\n",
    "I also had a reciprocal feedback session with Jason which gave me some more feedback going into Night at the Museum. It was with this feedback that I was able to accomplish so many tasks.\n",
    "\n",
    "## Patch Fixes (2/28)\n",
    "\n",
    "Saaras, a devoted player, found a bug in my game after playing it for so long. The issue was that the randomization algorithm was not too effective. I just forgot to rescramble. The bug s now officially fixed.\n",
    "\n",
    "![patch](image-9.png)"
   ]
  }
 ],
 "metadata": {
  "language_info": {
   "name": "python"
  }
 },
 "nbformat": 4,
 "nbformat_minor": 2
}
