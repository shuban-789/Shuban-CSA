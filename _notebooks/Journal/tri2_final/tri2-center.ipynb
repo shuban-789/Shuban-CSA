{
 "cells": [
  {
   "cell_type": "markdown",
   "metadata": {},
   "source": [
    "---\n",
    "layout: post\n",
    "comments: true\n",
    "title: T2F - Center\n",
    "---"
   ]
  }
 ],
 "metadata": {
  "language_info": {
   "name": "python"
  }
 },
 "nbformat": 4,
 "nbformat_minor": 2
}
