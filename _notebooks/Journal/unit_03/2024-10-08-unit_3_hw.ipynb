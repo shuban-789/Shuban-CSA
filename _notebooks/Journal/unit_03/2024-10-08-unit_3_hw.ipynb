{
 "cells": [
  {
   "cell_type": "markdown",
   "metadata": {},
   "source": [
    "---\n",
    "layout: post\n",
    "toc: true\n",
    "title: Unit 3 - Homework\n",
    "description: Unit 3 Period 3 Homework\n",
    "authors: Shuban Pal\n",
    "---"
   ]
  },
  {
   "cell_type": "markdown",
   "metadata": {},
   "source": [
    "# Unit 3 Work Debrief (You're Welcome, Graders 🐦)\n",
    "\n"
   ]
  },
  {
   "cell_type": "markdown",
   "metadata": {},
   "source": [
    "# 3.1 Hack 1"
   ]
  },
  {
   "cell_type": "markdown",
   "metadata": {},
   "source": [
    "```java\n",
    "int myAge = 15;\n",
    "int otherAge = 45; \n",
    "```\n",
    "\n",
    "1. true\n",
    "2. true\n",
    "3. true\n",
    "4. false\n",
    "5. false\n",
    "6. true"
   ]
  },
  {
   "cell_type": "markdown",
   "metadata": {},
   "source": [
    "# 3.1 Popcorn Hack\n",
    "\n",
    "When strings are compared, you must use the `.equals()` method and are not allowed to use the arithmetic comparison operators such as `==` and `!=`"
   ]
  },
  {
   "cell_type": "markdown",
   "metadata": {},
   "source": [
    "# 3.1 Homework Question\n",
    "\n",
    "Precondition is that num must be on [1,6]"
   ]
  },
  {
   "cell_type": "code",
   "execution_count": 2,
   "metadata": {},
   "outputs": [
    {
     "name": "stdout",
     "output_type": "stream",
     "text": [
      "1\n"
     ]
    }
   ],
   "source": [
    "public class CheckDigit {\n",
    "    public static int getCheck(int num) {\n",
    "        if ((num >= 1) && (num <= 6)) {\n",
    "            return 1;\n",
    "        } else {\n",
    "            return 0;\n",
    "        }\n",
    "    }\n",
    "}\n",
    "\n",
    "System.out.println(CheckDigit.getCheck(6));"
   ]
  },
  {
   "cell_type": "markdown",
   "metadata": {},
   "source": [
    "# 3.2 Popcorn Hack\n",
    "\n",
    "Test case: If the age was stored as a `String` type (e.g. \"Sixteen\", \"Fifteen\", etc.) then the comparison checks would no apply. Instead .equals would need to be used. If you were younger it wouldnt print anything about a driving test."
   ]
  },
  {
   "cell_type": "markdown",
   "metadata": {},
   "source": [
    "# 3.3 If Else Statements\n",
    "\n",
    "1. Based on this code, if you were younger than 16 what would it print out?\n",
    "\n",
    "It would say that I am not old enough to get a license\n",
    "\n",
    "2. Write your own if else statement\n",
    "\n",
    "Ok"
   ]
  },
  {
   "cell_type": "code",
   "execution_count": 5,
   "metadata": {},
   "outputs": [
    {
     "name": "stdout",
     "output_type": "stream",
     "text": [
      "\"Thank you. I don't have to print out those horrible lyrics\" ~ Java\n"
     ]
    }
   ],
   "source": [
    "public class Main {\n",
    "    public static void print(String message) {\n",
    "        System.out.println(message);\n",
    "    }\n",
    "\n",
    "    public static void main(String args[]) {\n",
    "        boolean isKSI = false;\n",
    "        if (isKSI == true) {\n",
    "            print(\"💻 From the screen\");\n",
    "            print(\"🥊 To the ring\");\n",
    "            print(\"✒️ To the pen\");\n",
    "            print(\"👑 To the king\");\n",
    "        } else {\n",
    "            print(\"\\\"Thank you. I don't have to print out those horrible lyrics\\\" ~ Java\");\n",
    "        }\n",
    "    }\n",
    "}\n",
    "\n",
    "Main.main(null)"
   ]
  },
  {
   "cell_type": "markdown",
   "metadata": {},
   "source": [
    "# 3.4 Else If Statements\n",
    "\n",
    "1. It would print out that the user can vote andis too old for a license to drive (how can you be too old to drive?)\n",
    "\n",
    "2. Nothing would be printed\n",
    "\n",
    "3. Ok"
   ]
  },
  {
   "cell_type": "code",
   "execution_count": 6,
   "metadata": {},
   "outputs": [
    {
     "name": "stdout",
     "output_type": "stream",
     "text": [
      "\"Thank you. I don't have to print out those horrible lyrics\" ~ Java\n"
     ]
    }
   ],
   "source": [
    "public class Main {\n",
    "    public static void print(String message) {\n",
    "        System.out.println(message);\n",
    "    }\n",
    "\n",
    "    public static void main(String args[]) {\n",
    "        boolean isKSI = false;\n",
    "        if (isKSI == true) {\n",
    "            print(\"💻 From the screen\");\n",
    "            print(\"🥊 To the ring\");\n",
    "            print(\"✒️ To the pen\");\n",
    "            print(\"👑 To the king\");\n",
    "        } else if (isKSI == false) {\n",
    "            print(\"\\\"Thank you. I don't have to print out those horrible lyrics\\\" ~ Java\");\n",
    "        }\n",
    "    }\n",
    "}\n",
    "\n",
    "Main.main(null)"
   ]
  },
  {
   "cell_type": "markdown",
   "metadata": {},
   "source": [
    "# 3.5 Popcorn Hack\n",
    "\n",
    "This algorithm is designed to determine a user's eligibility for various memberships or discounts based on their age, annual income, and student status. It evaluates these inputs against several conditions. The user qualifies for Basic Membership if they are 18 or older and earn at least 20,000 annually, and for Premium Membership if they are 25 or older with an income of at least 50,000. Additionally, students automatically qualify for a Student Discount, and users aged 65 or older qualify for a Senior Discount. If none of these conditions are met, a default message informs the user that they do not qualify for any memberships or discounts. Given the input of age 20, annual income of 1,500, and student status as \"yes,\" the user does not qualify for any memberships due to low income and age, but they do qualify for the Student Discount. The output in this case would be, \"You are eligible for a Student Discount.\""
   ]
  },
  {
   "cell_type": "markdown",
   "metadata": {},
   "source": [
    "# 3.5 Popcorn Hack 2\n",
    "\n"
   ]
  },
  {
   "cell_type": "code",
   "execution_count": 8,
   "metadata": {},
   "outputs": [
    {
     "name": "stdout",
     "output_type": "stream",
     "text": [
      "Eligible for student discount.\n"
     ]
    }
   ],
   "source": [
    "public class Main {\n",
    "    public static void main(String[] args) {\n",
    "        int age = 30;\n",
    "        boolean isStudent = true;\n",
    "\n",
    "        if (age >= 65) {\n",
    "            System.out.println(\"Eligible for senior discount.\");\n",
    "        } else if (isStudent) {\n",
    "            System.out.println(\"Eligible for student discount.\");\n",
    "        } else if (age < 18) {\n",
    "            System.out.println(\"Eligible for child discount.\");\n",
    "        } else {\n",
    "            System.out.println(\"No discount available.\");\n",
    "        }\n",
    "    }\n",
    "}\n",
    "\n",
    "Main.main(null)"
   ]
  },
  {
   "cell_type": "markdown",
   "metadata": {},
   "source": [
    "# 3.6 Popcorn Hack\n",
    "\n",
    "1. It is `NOT X equals 0` which means it will return true for `x != 0`\n",
    "2. `!(x < -5 || x > 10)`"
   ]
  },
  {
   "cell_type": "markdown",
   "metadata": {},
   "source": [
    "# 3.7 Popcorn Hack\n",
    "\n",
    "In the provided code, you are comparing two House objects, myHouse and sharonsHouse, to check if they are equal. While these objects are created separately, the equals method has been overridden to compare them based on their attributes, specifically their color and size, rather than simply checking if they are the same object in memory. This means that even though myHouse and sharonsHouse are distinct instances, their content is identical because they both have the same color (\"green\") and size (150). When you call myHouse.equals(sharonsHouse), the overridden method checks if the values of these attributes are the same, and since they are, it returns true. As a result, the comparison considers them equal in terms of their properties, even though they are different objects. This demonstrates how overriding the equals method allows for meaningful content-based comparisons between objects, rather than relying solely on object reference equality."
   ]
  },
  {
   "cell_type": "markdown",
   "metadata": {},
   "source": [
    "# Homework\n",
    "\n",
    "Ok"
   ]
  },
  {
   "cell_type": "code",
   "execution_count": 10,
   "metadata": {},
   "outputs": [
    {
     "name": "stdout",
     "output_type": "stream",
     "text": [
      "Enter your age: Enter your annual income: Are you a student? (yes or no): Enter your employment type (full-time, part-time, unemployed): You qualify for the Student Discount.\n",
      "Best membership recommendation:\n",
      "Recommended: Student Discount\n"
     ]
    }
   ],
   "source": [
    "import java.util.Scanner;\n",
    "\n",
    "public class PrimeClubMembership {\n",
    "\n",
    "    public static void main(String[] args) {\n",
    "        Scanner scanner = new Scanner(System.in);\n",
    "\n",
    "        System.out.print(\"Enter your age: \");\n",
    "        int age = scanner.nextInt();\n",
    "\n",
    "        System.out.print(\"Enter your annual income: \");\n",
    "        double income = scanner.nextDouble();\n",
    "\n",
    "        System.out.print(\"Are you a student? (yes or no): \");\n",
    "        String studentStatus = scanner.next().trim().toLowerCase();\n",
    "\n",
    "        System.out.print(\"Enter your employment type (full-time, part-time, unemployed): \");\n",
    "        String employmentType = scanner.next().trim().toLowerCase();\n",
    "\n",
    "        boolean isStudent = studentStatus.equals(\"yes\");\n",
    "        boolean qualifiesForBasic = age >= 18 && income >= 20000;\n",
    "        boolean qualifiesForPremium = age >= 25 && income >= 50000;\n",
    "        boolean qualifiesForSenior = age >= 65;\n",
    "\n",
    "        boolean hasMembership = false;\n",
    "\n",
    "        if (qualifiesForPremium) {\n",
    "            System.out.println(\"You qualify for the Premium Membership.\");\n",
    "            hasMembership = true;\n",
    "        }\n",
    "        if (qualifiesForSenior) {\n",
    "            System.out.println(\"You qualify for the Senior Discount.\");\n",
    "            hasMembership = true;\n",
    "        }\n",
    "        if (isStudent) {\n",
    "            System.out.println(\"You qualify for the Student Discount.\");\n",
    "            hasMembership = true;\n",
    "        }\n",
    "        if (qualifiesForBasic) {\n",
    "            System.out.println(\"You qualify for the Basic Membership.\");\n",
    "            hasMembership = true;\n",
    "        }\n",
    "\n",
    "        if (!hasMembership) {\n",
    "            System.out.println(\"You do not qualify for any memberships or discounts.\");\n",
    "        } else {\n",
    "            System.out.println(\"Best membership recommendation:\");\n",
    "            if (qualifiesForPremium) {\n",
    "                System.out.println(\"Recommended: Premium Membership\");\n",
    "            } else if (qualifiesForSenior) {\n",
    "                System.out.println(\"Recommended: Senior Discount\");\n",
    "            } else if (isStudent) {\n",
    "                System.out.println(\"Recommended: Student Discount\");\n",
    "            } else if (qualifiesForBasic) {\n",
    "                System.out.println(\"Recommended: Basic Membership\");\n",
    "            }\n",
    "        }\n",
    "\n",
    "        scanner.close();\n",
    "    }\n",
    "}\n",
    "\n",
    "PrimeClubMembership.main(null)"
   ]
  },
  {
   "cell_type": "markdown",
   "metadata": {},
   "source": [
    "# Something Extra for Extra Points: Fibbonacci Sequence\n",
    "\n",
    "A fibbonacci sequence is a program which never terminates"
   ]
  },
  {
   "cell_type": "code",
   "execution_count": 12,
   "metadata": {},
   "outputs": [
    {
     "name": "stdout",
     "output_type": "stream",
     "text": [
      "Fibonacci of 10 is: 55\n"
     ]
    }
   ],
   "source": [
    "public class Fibonacci {\n",
    "\n",
    "    public static void main(String[] args) {\n",
    "        int n = 10;  \n",
    "        System.out.println(\"Fibonacci of \" + n + \" is: \" + fib(n));\n",
    "    }\n",
    "\n",
    "    public static int fib(int n) {\n",
    "        if (n == 0) {\n",
    "            return 0;\n",
    "        } else if (n == 1) {\n",
    "            return 1;\n",
    "        } else {\n",
    "            return fib(n - 1) + fib(n - 2);\n",
    "        }\n",
    "    }\n",
    "}\n",
    "\n",
    "Fibonacci.main(null)"
   ]
  }
 ],
 "metadata": {
  "kernelspec": {
   "display_name": "Java",
   "language": "java",
   "name": "java"
  },
  "language_info": {
   "codemirror_mode": "java",
   "file_extension": ".jshell",
   "mimetype": "text/x-java-source",
   "name": "java",
   "pygments_lexer": "java",
   "version": "17.0.12+7-Ubuntu-1ubuntu222.04"
  }
 },
 "nbformat": 4,
 "nbformat_minor": 2
}
