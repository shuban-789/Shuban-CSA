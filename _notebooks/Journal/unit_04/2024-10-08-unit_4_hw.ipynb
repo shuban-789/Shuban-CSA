{
 "cells": [
  {
   "cell_type": "markdown",
   "metadata": {},
   "source": [
    "# Unit 4.1"
   ]
  },
  {
   "cell_type": "markdown",
   "metadata": {},
   "source": [
    "## Popcorn Hack 1"
   ]
  },
  {
   "cell_type": "code",
   "execution_count": null,
   "metadata": {
    "vscode": {
     "languageId": "java"
    }
   },
   "outputs": [],
   "source": [
    "int i = 0;\n",
    "while (i < 5) {\n",
    "    System.out.println(i);\n",
    "}"
   ]
  },
  {
   "cell_type": "code",
   "execution_count": 1,
   "metadata": {
    "vscode": {
     "languageId": "java"
    }
   },
   "outputs": [
    {
     "name": "stdout",
     "output_type": "stream",
     "text": [
      "0\n",
      "1\n",
      "2\n",
      "3\n",
      "4\n"
     ]
    }
   ],
   "source": [
    "int i = 0;\n",
    "while (i < 5) {\n",
    "    System.out.println(i);\n",
    "    i++;  // Increment i by 1\n",
    "}\n"
   ]
  },
  {
   "cell_type": "markdown",
   "metadata": {},
   "source": [
    "Increment Statement (`i++`): This line increments the value of `i` by 1 during each iteration of the loop. Without this increment, the condition `i < 5` would always evaluate to true, resulting in an infinite loop."
   ]
  },
  {
   "cell_type": "markdown",
   "metadata": {},
   "source": [
    "# Unit 4.2"
   ]
  },
  {
   "cell_type": "markdown",
   "metadata": {},
   "source": [
    "## Hack"
   ]
  },
  {
   "cell_type": "code",
   "execution_count": 2,
   "metadata": {
    "vscode": {
     "languageId": "java"
    }
   },
   "outputs": [
    {
     "name": "stdout",
     "output_type": "stream",
     "text": [
      "Even numbers: [0, 4, 92, 10, 0, 4, 92, 10]\n",
      "Odd numbers: [51, 83, 123, 145, 51, 83, 123, 145]\n"
     ]
    }
   ],
   "source": [
    "import java.util.ArrayList;\n",
    "import java.util.List;\n",
    "\n",
    "public class Main {\n",
    "    public static void main(String[] args) {\n",
    "        // Initialize the list of numbers\n",
    "        int[] intList = {0, 4, 51, 83, 92, 10, 123, 145};\n",
    "\n",
    "        // Create lists to hold even and odd numbers\n",
    "        List<Integer> evenList = new ArrayList<>();\n",
    "        List<Integer> oddList = new ArrayList<>();\n",
    "\n",
    "        // Using a for loop to iterate through intList\n",
    "        for (int i = 0; i < intList.length; i++) {\n",
    "            if (intList[i] % 2 == 0) {\n",
    "                evenList.add(intList[i]);  // Add to even list\n",
    "            } else {\n",
    "                oddList.add(intList[i]);    // Add to odd list\n",
    "            }\n",
    "        }\n",
    "\n",
    "        // Using a for-each loop to iterate through intList\n",
    "        for (int number : intList) {\n",
    "            if (number % 2 == 0) {\n",
    "                evenList.add(number);  // Add to even list\n",
    "            } else {\n",
    "                oddList.add(number);    // Add to odd list\n",
    "            }\n",
    "        }\n",
    "\n",
    "        // Output the even and odd lists\n",
    "        System.out.println(\"Even numbers: \" + evenList);\n",
    "        System.out.println(\"Odd numbers: \" + oddList);\n",
    "    }\n",
    "}\n",
    "\n",
    "Main.main(null);"
   ]
  },
  {
   "cell_type": "markdown",
   "metadata": {},
   "source": [
    "# Unit 4.3"
   ]
  },
  {
   "cell_type": "markdown",
   "metadata": {},
   "source": [
    "## Popcorn Hack\n",
    "\n",
    "Iterate through the characters a string with a `while` loop."
   ]
  },
  {
   "cell_type": "markdown",
   "metadata": {},
   "source": [
    "## HW"
   ]
  },
  {
   "cell_type": "code",
   "execution_count": null,
   "metadata": {
    "vscode": {
     "languageId": "java"
    }
   },
   "outputs": [],
   "source": [
    "public class CaesarCipher {\n",
    "    private int key;\n",
    "    private String phrase;\n",
    "\n",
    "    public CaesarCipher(int key, String phrase) {\n",
    "        this.key = key;\n",
    "        this.phrase = phrase;\n",
    "    }\n",
    "\n",
    "    public String encrypt() {\n",
    "        // your code here\n",
    "\n",
    "        return null; // return encrypted phrase here\n",
    "    }\n",
    "}\n",
    "\n",
    "CaesarCipher test1 = new CaesarCipher(3, \"hello world\");\n",
    "CaesarCipher test2 = new CaesarCipher(10, \"abcdefg\");\n",
    "CaesarCipher test3 = new CaesarCipher(20, \"i love csa\");\n",
    "\n",
    "System.out.println(\"test 1: \" + test1.encrypt());\n",
    "System.out.println(\"test 2: \" + test2.encrypt());\n",
    "System.out.println(\"test 3: \" + test3.encrypt());"
   ]
  },
  {
   "cell_type": "code",
   "execution_count": 5,
   "metadata": {
    "vscode": {
     "languageId": "java"
    }
   },
   "outputs": [
    {
     "name": "stdout",
     "output_type": "stream",
     "text": [
      "test 1: khoor zruog\n",
      "test 2: klmnopq\n",
      "test 3: c fipy wmu\n"
     ]
    }
   ],
   "source": [
    "public class CaesarCipher {\n",
    "    private int key;\n",
    "    private String phrase;\n",
    "\n",
    "    public CaesarCipher(int key, String phrase) {\n",
    "        this.key = key;\n",
    "        this.phrase = phrase;\n",
    "    }\n",
    "\n",
    "    public String encrypt() {\n",
    "        StringBuilder encryptedPhrase = new StringBuilder();\n",
    "\n",
    "        // Iterate through each character in the phrase\n",
    "        for (char ch : phrase.toCharArray()) {\n",
    "            // Check if the character is a letter\n",
    "            if (Character.isLetter(ch)) {\n",
    "                // Determine the base (for 'A' or 'a')\n",
    "                char base = Character.isUpperCase(ch) ? 'A' : 'a';\n",
    "                // Shift the character by the key, wrapping around if necessary\n",
    "                char encryptedChar = (char) ((ch - base + key) % 26 + base);\n",
    "                encryptedPhrase.append(encryptedChar);\n",
    "            } else {\n",
    "                // If it's not a letter, keep it as is (e.g., spaces and punctuation)\n",
    "                encryptedPhrase.append(ch);\n",
    "            }\n",
    "        }\n",
    "\n",
    "        return encryptedPhrase.toString(); // return encrypted phrase here\n",
    "    }\n",
    "\n",
    "    public static void main(String[] args) {\n",
    "        CaesarCipher test1 = new CaesarCipher(3, \"hello world\");\n",
    "        CaesarCipher test2 = new CaesarCipher(10, \"abcdefg\");\n",
    "        CaesarCipher test3 = new CaesarCipher(20, \"i love csa\");\n",
    "\n",
    "        System.out.println(\"test 1: \" + test1.encrypt()); // Output: khoor zruog\n",
    "        System.out.println(\"test 2: \" + test2.encrypt()); // Output: klmnopqrstu\n",
    "        System.out.println(\"test 3: \" + test3.encrypt()); // Output: i zayx uqe\n",
    "    }\n",
    "}\n",
    "\n",
    "CaesarCipher.main(null);"
   ]
  },
  {
   "cell_type": "markdown",
   "metadata": {},
   "source": [
    "# Unit 4.4"
   ]
  },
  {
   "cell_type": "markdown",
   "metadata": {},
   "source": [
    "## Hack"
   ]
  },
  {
   "cell_type": "code",
   "execution_count": 7,
   "metadata": {
    "vscode": {
     "languageId": "java"
    }
   },
   "outputs": [
    {
     "name": "stdout",
     "output_type": "stream",
     "text": [
      "Enter the number of rows: \n",
      "1 2 3 4 \n",
      "1 2 3 \n",
      "1 2 \n",
      "1 \n"
     ]
    }
   ],
   "source": [
    "import java.util.Scanner;\n",
    "\n",
    "public class Main {\n",
    "    public static void main(String[] args) {\n",
    "        Scanner scanner = new Scanner(System.in);\n",
    "        System.out.print(\"Enter the number of rows: \\n\");\n",
    "        int rows = scanner.nextInt();\n",
    "        \n",
    "        // Corrected loop condition and decrement operator\n",
    "        for (int i = rows; i >= 1; i--) {\n",
    "            for (int j = 1; j <= i; j++) {\n",
    "                System.out.print(j + \" \");\n",
    "            }\n",
    "            System.out.println();\n",
    "        }\n",
    "        \n",
    "        scanner.close();\n",
    "    }\n",
    "}\n",
    "\n",
    "Main.main(null);"
   ]
  },
  {
   "cell_type": "markdown",
   "metadata": {},
   "source": [
    "1. `public class Main`: Added a class declaration to contain the main method.\n",
    "2. `public static void main(String[] args)`: Wrapped the code in the main method for proper execution.\n",
    "3. `i--`: Changed from `i-` to `i--` to correctly decrement the loop variable.\n",
    "4. Loop Condition: Changed `i > 1` to `i >= 1` to ensure that the loop includes the case where `i` equals `1`, allowing it to print the first row."
   ]
  },
  {
   "cell_type": "markdown",
   "metadata": {},
   "source": [
    "## Answer here + One sentence Explanation"
   ]
  },
  {
   "cell_type": "code",
   "execution_count": 8,
   "metadata": {
    "vscode": {
     "languageId": "java"
    }
   },
   "outputs": [
    {
     "name": "stdout",
     "output_type": "stream",
     "text": [
      "*****\n",
      "*****\n",
      "*****\n",
      "*****\n",
      "*****\n",
      "*****\n"
     ]
    }
   ],
   "source": [
    "for (int i = 2; i < 8; i++) {\n",
    "    for (int y = 1; y <= 5; y++) {\n",
    "        System.out.print(\"*\");\n",
    "    }\n",
    "    System.out.println();\n",
    "}"
   ]
  },
  {
   "cell_type": "markdown",
   "metadata": {},
   "source": [
    "The code will print a rectangle of asterisks, with 6 rows and 5 columns. \n",
    "\n",
    "- The outer loop (`for (int i = 2; i < 8; i++)`) iterates 6 times (from 2 to 7, inclusive), and for each iteration, the inner loop (`for (int y = 1; y <= 5; y++)`) prints 5 asterisks on the same line, followed by a line break after each row. \n"
   ]
  },
  {
   "cell_type": "markdown",
   "metadata": {},
   "source": [
    "# HW\n",
    "\n",
    "## 1\n",
    "\n",
    "What does the following code print? Explain the difference between using a variable like i inside a for loop, vs. using a variable that exists in the code itself for a while loop\n",
    "\n",
    "\n",
    "A. 5 6 7 8 9\n",
    "\n",
    "B. 4 5 6 7 8 9 10 11 12\n",
    "\n",
    "C. 3 5 7 9 11\n",
    "\n",
    "D. 3 4 5 6 7 8 9 10 11 12\n",
    "\n",
    "```java\n",
    "for (int i = 3; i <= 12; i++) {\n",
    "   System.out.print(i + \" \");\n",
    "}\n",
    "```\n",
    "\n",
    "Answer: D\n",
    "\n",
    "The loop starts with i = 3 and continues until i reaches 12 (inclusive). Therefore, it prints every integer from 3 to 12, resulting in the output 3 4 5 6 7 8 9 10 11 12. In a for loop, the variable (e.g., i) is typically initialized and controlled by the loop itself. Its scope is limited to the loop, making it easy to manage and avoid conflicts with other variables in the program. In contrast, a while loop may utilize an existing variable that persists outside of its scope, which can lead to unintentional side effects if that variable is modified elsewhere in the code. This can make it harder to debug and understand the control flow of the program.\n",
    "\n",
    "## 2\n",
    "\n",
    "How many times does the following method print a “*” ?\n",
    "\n",
    "A. 9\n",
    "B. 7\n",
    "C. 8\n",
    "D. 6\n",
    "\n",
    "```java\n",
    "for (int i = 3; i < 11; i++) {\n",
    "   System.out.print(\"*\");\n",
    "}\n",
    "```\n",
    "\n",
    "Answer: B\n",
    "The loop starts at i = 3 and continues until i is less than 11. The values of i during the iterations are: 3, 4, 5, 6, 7, 8, 9, 10. Thus, it prints asterisks 8 times in total.\n",
    "\n",
    "## 3\n",
    "\n",
    "A. -4 -3 -2 -1 0\n",
    "B. -5 -4 -3 -2 -1\n",
    "C. 5 4 3 2 1\n",
    "\n",
    "```java\n",
    "int x = -5;\n",
    "while (x < 0)\n",
    "{\n",
    "   x++;\n",
    "   System.out.print(x + \" \");\n",
    "}\n",
    "```\n",
    "\n",
    "Answer: B.\n",
    "\n",
    "The loop starts with x = -5 and increments x by 1 during each iteration, printing the value of x before the increment. The output will thus be -4 -3 -2 -1 0, but since 0 is not less than 0, the last increment will not print. Therefore, the correct output is -4 -3 -2 -1.\n",
    "\n",
    "## 4\n",
    "\n",
    "A. 20\n",
    "B. 21\n",
    "C. 25\n",
    "D. 30\n",
    "\n",
    "\n",
    "```java\n",
    "int sum = 0;\n",
    "\n",
    "for (int i = 1; i <= 5; i++) {\n",
    "    if (i % 2 == 0) {\n",
    "        sum += i * 2;\n",
    "    } else {\n",
    "        sum += i;\n",
    "    }\n",
    "}\n",
    "\n",
    "System.out.println(sum);\n",
    "```\n",
    "\n",
    "The loop runs from 1 to 5, calculating the sum based on whether i is odd or even:\n",
    "\n",
    "- For i = 1: sum = 0 + 1 = 1\n",
    "- For i = 2: sum = 1 + (2 * 2) = 5\n",
    "- For i = 3: sum = 5 + 3 = 8\n",
    "- For i = 4: sum = 8 + (4 * 2) = 16\n",
    "- For i = 5: sum = 16 + 5 = 21\n",
    "\n",
    "Thus, the final output is 21."
   ]
  },
  {
   "cell_type": "markdown",
   "metadata": {},
   "source": [
    "## Loops easy hack\n",
    "\n",
    "- Use a while loop to find the numbers from 1-50 that are divisible by 3 or 5, then store them into a list (make sure to print it out at the end)\n",
    "- Use a for loop to do the same thing detailed above"
   ]
  },
  {
   "cell_type": "code",
   "execution_count": 9,
   "metadata": {
    "vscode": {
     "languageId": "java"
    }
   },
   "outputs": [
    {
     "name": "stdout",
     "output_type": "stream",
     "text": [
      "Numbers divisible by 3 or 5 (while loop): [3, 5, 6, 9, 10, 12, 15, 18, 20, 21, 24, 25, 27, 30, 33, 35, 36, 39, 40, 42, 45, 48, 50]\n"
     ]
    }
   ],
   "source": [
    "import java.util.ArrayList;\n",
    "import java.util.List;\n",
    "\n",
    "public class DivisibleNumbers {\n",
    "    public static void main(String[] args) {\n",
    "        List<Integer> divisibleNumbers = new ArrayList<>();\n",
    "        int i = 1;\n",
    "\n",
    "        while (i <= 50) {\n",
    "            if (i % 3 == 0 || i % 5 == 0) {\n",
    "                divisibleNumbers.add(i);\n",
    "            }\n",
    "            i++;\n",
    "        }\n",
    "\n",
    "        System.out.println(\"Numbers divisible by 3 or 5 (while loop): \" + divisibleNumbers);\n",
    "    }\n",
    "}\n",
    "\n",
    "DivisibleNumbers.main(null);"
   ]
  },
  {
   "cell_type": "markdown",
   "metadata": {},
   "source": [
    "## For Loop"
   ]
  },
  {
   "cell_type": "code",
   "execution_count": 10,
   "metadata": {
    "vscode": {
     "languageId": "java"
    }
   },
   "outputs": [
    {
     "name": "stdout",
     "output_type": "stream",
     "text": [
      "Numbers divisible by 3 or 5 (for loop): [3, 5, 6, 9, 10, 12, 15, 18, 20, 21, 24, 25, 27, 30, 33, 35, 36, 39, 40, 42, 45, 48, 50]\n"
     ]
    }
   ],
   "source": [
    "import java.util.ArrayList;\n",
    "import java.util.List;\n",
    "\n",
    "public class DivisibleNumbers {\n",
    "    public static void main(String[] args) {\n",
    "        List<Integer> divisibleNumbers = new ArrayList<>();\n",
    "\n",
    "        for (int i = 1; i <= 50; i++) {\n",
    "            if (i % 3 == 0 || i % 5 == 0) {\n",
    "                divisibleNumbers.add(i);\n",
    "            }\n",
    "        }\n",
    "\n",
    "        System.out.println(\"Numbers divisible by 3 or 5 (for loop): \" + divisibleNumbers);\n",
    "    }\n",
    "}\n",
    "\n",
    "DivisibleNumbers.main(null);"
   ]
  },
  {
   "cell_type": "markdown",
   "metadata": {},
   "source": [
    "## Harder hack"
   ]
  },
  {
   "cell_type": "code",
   "execution_count": 11,
   "metadata": {
    "vscode": {
     "languageId": "java"
    }
   },
   "outputs": [
    {
     "name": "stdout",
     "output_type": "stream",
     "text": [
      "Palindromes: [4444, 515, 2882, 6556, 595]\n"
     ]
    }
   ],
   "source": [
    "import java.util.ArrayList;\n",
    "import java.util.List;\n",
    "\n",
    "public class PalindromeFinder {\n",
    "    public static void main(String[] args) {\n",
    "        List<Integer> testList = List.of(5672, 235, 5537, 6032, 317, 8460, 1672, 8104, 7770, 4442, 913, 2508, 1116, 9969, 9091, 522, 8756, 9527, 7968, 1520, 4444, 515, 2882, 6556, 595);\n",
    "        List<Integer> palindromes = new ArrayList<>();\n",
    "\n",
    "        int index = 0;\n",
    "        while (index < testList.size()) {\n",
    "            int number = testList.get(index);\n",
    "            if (isPalindrome(number)) {\n",
    "                palindromes.add(number);\n",
    "            }\n",
    "            index++;\n",
    "        }\n",
    "\n",
    "        System.out.println(\"Palindromes: \" + palindromes);\n",
    "    }\n",
    "\n",
    "    private static boolean isPalindrome(int number) {\n",
    "        String str = Integer.toString(number);\n",
    "        String reversedStr = new StringBuilder(str).reverse().toString();\n",
    "        return str.equals(reversedStr);\n",
    "    }\n",
    "}\n",
    "\n",
    "PalindromeFinder.main(null);"
   ]
  },
  {
   "cell_type": "markdown",
   "metadata": {},
   "source": [
    "## Bonus"
   ]
  },
  {
   "cell_type": "code",
   "execution_count": 12,
   "metadata": {
    "vscode": {
     "languageId": "java"
    }
   },
   "outputs": [
    {
     "name": "stdout",
     "output_type": "stream",
     "text": [
      "Spiral Matrix:\n",
      "[1, 2, 3]\n",
      "[8, 9, 4]\n",
      "[7, 6, 5]\n"
     ]
    }
   ],
   "source": [
    "import java.util.Arrays;\n",
    "\n",
    "public class SpiralMatrix {\n",
    "    public static void main(String[] args) {\n",
    "        int n = 3; // Example size\n",
    "        int[][] matrix = new int[n][n];\n",
    "        int value = 1;\n",
    "        int top = 0, bottom = n - 1, left = 0, right = n - 1;\n",
    "\n",
    "        while (value <= n * n) {\n",
    "            for (int i = left; i <= right; i++) {\n",
    "                matrix[top][i] = value++;\n",
    "            }\n",
    "            top++;\n",
    "\n",
    "            for (int i = top; i <= bottom; i++) {\n",
    "                matrix[i][right] = value++;\n",
    "            }\n",
    "            right--;\n",
    "\n",
    "            for (int i = right; i >= left; i--) {\n",
    "                matrix[bottom][i] = value++;\n",
    "            }\n",
    "            bottom--;\n",
    "\n",
    "            for (int i = bottom; i >= top; i--) {\n",
    "                matrix[i][left] = value++;\n",
    "            }\n",
    "            left++;\n",
    "        }\n",
    "\n",
    "        System.out.println(\"Spiral Matrix:\");\n",
    "        for (int[] row : matrix) {\n",
    "            System.out.println(Arrays.toString(row));\n",
    "        }\n",
    "    }\n",
    "}\n",
    "\n",
    "SpiralMatrix.main(null);\n"
   ]
  }
 ],
 "metadata": {
  "kernelspec": {
   "display_name": "Java",
   "language": "java",
   "name": "java"
  },
  "language_info": {
   "codemirror_mode": "java",
   "file_extension": ".jshell",
   "mimetype": "text/x-java-source",
   "name": "Java",
   "pygments_lexer": "java",
   "version": "17.0.12+7-Ubuntu-1ubuntu222.04"
  }
 },
 "nbformat": 4,
 "nbformat_minor": 2
}
