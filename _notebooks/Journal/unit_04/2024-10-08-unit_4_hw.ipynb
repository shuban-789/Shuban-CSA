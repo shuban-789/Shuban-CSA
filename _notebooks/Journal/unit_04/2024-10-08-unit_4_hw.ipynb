{
 "cells": [
  {
   "cell_type": "markdown",
   "metadata": {},
   "source": [
    "# Unit 4.1"
   ]
  },
  {
   "cell_type": "markdown",
   "metadata": {},
   "source": [
    "## Popcorn Hack 1"
   ]
  },
  {
   "cell_type": "code",
   "execution_count": null,
   "metadata": {
    "vscode": {
     "languageId": "java"
    }
   },
   "outputs": [],
   "source": [
    "public class Main {\n",
    "    public static void main(String args[]) {\n",
    "        int i = 0;\n",
    "        while (i < 5) {\n",
    "            System.out.println(i);\n",
    "        }\n",
    "        \n",
    "    }\n",
    "}\n",
    "Main.main(null)"
   ]
  },
  {
   "cell_type": "code",
   "execution_count": null,
   "metadata": {
    "vscode": {
     "languageId": "java"
    }
   },
   "outputs": [],
   "source": [
    "int i = 0;\n",
    "while (i < 10) {\n",
    "    System.out.println(i);\n",
    "    i += 1;\n",
    "}\n"
   ]
  },
  {
   "cell_type": "markdown",
   "metadata": {},
   "source": [
    "Increment Statement (`i++`): This line increments the value of `i` by 1 during each iteration of the loop. Without this increment, the condition `i < 5` would always evaluate to true, resulting in an infinite loop."
   ]
  },
  {
   "cell_type": "markdown",
   "metadata": {},
   "source": [
    "# Unit 4.2"
   ]
  },
  {
   "cell_type": "markdown",
   "metadata": {},
   "source": [
    "## Hack"
   ]
  },
  {
   "cell_type": "code",
   "execution_count": 5,
   "metadata": {
    "vscode": {
     "languageId": "java"
    }
   },
   "outputs": [
    {
     "name": "stdout",
     "output_type": "stream",
     "text": [
      "odds: [0, 52, 80, 126, 156, 0, 52, 80, 126, 156]\n",
      "evens: [3, 9, 1, 3, 9, 1]\n"
     ]
    }
   ],
   "source": [
    "import java.util.ArrayList;\n",
    "import java.util.List;\n",
    "\n",
    "public class Main {\n",
    "    public static void main(String[] args) {\n",
    "        int[] ints = {0, 3, 52, 80, 9, 1, 126, 156};\n",
    "\n",
    "        List<Integer> evens = new ArrayList<>();\n",
    "        List<Integer> odds = new ArrayList<>();\n",
    "\n",
    "        for (int i = 0; i < ints.length; i++) {\n",
    "            if (ints[i]%2 == 0) {\n",
    "                evens.add(ints[i]);\n",
    "            } else {\n",
    "                odds.add(ints[i]);\n",
    "            }\n",
    "        }\n",
    "\n",
    "        for (int number : ints) {\n",
    "            if (number % 2 == 0) {\n",
    "                evens.add(number);\n",
    "            } else {\n",
    "                odds.add(number);\n",
    "            }\n",
    "        }\n",
    "        System.out.println(\"odds: \" + evens);\n",
    "        System.out.println(\"evens: \" + odds);\n",
    "    }\n",
    "}\n",
    "\n",
    "Main.main(null);"
   ]
  },
  {
   "cell_type": "markdown",
   "metadata": {},
   "source": [
    "# Unit 4.3"
   ]
  },
  {
   "cell_type": "markdown",
   "metadata": {},
   "source": [
    "## Popcorn Hack\n",
    "\n",
    "Iterate through the characters a string with a `while` loop."
   ]
  },
  {
   "cell_type": "markdown",
   "metadata": {},
   "source": [
    "## Homework"
   ]
  },
  {
   "cell_type": "code",
   "execution_count": 8,
   "metadata": {
    "vscode": {
     "languageId": "java"
    }
   },
   "outputs": [
    {
     "name": "stdout",
     "output_type": "stream",
     "text": [
      "test 1: null\n",
      "test 2: null\n",
      "test 3: null\n"
     ]
    }
   ],
   "source": [
    "public class CaesarCipher {\n",
    "    private int key;\n",
    "    private String phrase;\n",
    "\n",
    "    public CaesarCipher(int key, String phrase) {\n",
    "        this.key = key;\n",
    "        this.phrase = phrase;\n",
    "    }\n",
    "\n",
    "    public String encrypt() {\n",
    "        return null;\n",
    "    }\n",
    "}\n",
    "\n",
    "CaesarCipher test1 = new CaesarCipher(3, \"hello world\");\n",
    "CaesarCipher test2 = new CaesarCipher(10, \"abcdefg\");\n",
    "CaesarCipher test3 = new CaesarCipher(20, \"i love csa\");\n",
    "\n",
    "System.out.println(\"test 1: \" + test1.encrypt());\n",
    "System.out.println(\"test 2: \" + test2.encrypt());\n",
    "System.out.println(\"test 3: \" + test3.encrypt());"
   ]
  },
  {
   "cell_type": "code",
   "execution_count": 9,
   "metadata": {
    "vscode": {
     "languageId": "java"
    }
   },
   "outputs": [
    {
     "name": "stdout",
     "output_type": "stream",
     "text": [
      "test 1: khoor zruog\n",
      "test 2: klmnopq\n",
      "test 3: c fipy wmu\n"
     ]
    }
   ],
   "source": [
    "public class CaesarCipher {\n",
    "    private int key;\n",
    "    private String phrase;\n",
    "\n",
    "    public CaesarCipher(int key, String phrase) {\n",
    "        this.key = key;\n",
    "        this.phrase = phrase;\n",
    "    }\n",
    "\n",
    "    public String encrypt() {\n",
    "        StringBuilder encryptedPhrase = new StringBuilder();\n",
    "        for (char ch : phrase.toCharArray()) {\n",
    "            if (Character.isLetter(ch)) {\n",
    "                char base = Character.isUpperCase(ch) ? 'A' : 'a';\n",
    "                char encryptedChar = (char) ((ch - base + key) % 26 + base);\n",
    "                encryptedPhrase.append(encryptedChar);\n",
    "            } else {\n",
    "                encryptedPhrase.append(ch);\n",
    "            }\n",
    "        }\n",
    "\n",
    "        return encryptedPhrase.toString();\n",
    "    }\n",
    "\n",
    "    public static void main(String[] args) {\n",
    "        CaesarCipher test1 = new CaesarCipher(3, \"hello world\");\n",
    "        CaesarCipher test2 = new CaesarCipher(10, \"abcdefg\");\n",
    "        CaesarCipher test3 = new CaesarCipher(20, \"i love csa\");\n",
    "\n",
    "        System.out.println(\"test 1: \" + test1.encrypt());\n",
    "        System.out.println(\"test 2: \" + test2.encrypt());\n",
    "        System.out.println(\"test 3: \" + test3.encrypt());\n",
    "    }\n",
    "}\n",
    "\n",
    "CaesarCipher.main(null);"
   ]
  },
  {
   "cell_type": "markdown",
   "metadata": {},
   "source": [
    "# Unit 4.4"
   ]
  },
  {
   "cell_type": "code",
   "execution_count": 10,
   "metadata": {
    "vscode": {
     "languageId": "java"
    }
   },
   "outputs": [
    {
     "name": "stdout",
     "output_type": "stream",
     "text": [
      "Enter the number of rows: \n",
      "1 2 3 \n",
      "1 2 \n",
      "1 \n"
     ]
    }
   ],
   "source": [
    "import java.util.Scanner;\n",
    "\n",
    "public class Main {\n",
    "    public static void main(String[] args) {\n",
    "        Scanner scanner = new Scanner(System.in);\n",
    "        System.out.print(\"rows: \\n\");\n",
    "        int rows = scanner.nextInt();\n",
    "        for (int i = rows; i >= 1; i--) {\n",
    "            for (int j = 1; j <= i; j++) {\n",
    "                System.out.print(j + \" \");\n",
    "            }\n",
    "            System.out.println();\n",
    "        }\n",
    "        \n",
    "        scanner.close();\n",
    "    }\n",
    "}\n",
    "\n",
    "Main.main(null);"
   ]
  },
  {
   "cell_type": "markdown",
   "metadata": {},
   "source": [
    "## Hack lol"
   ]
  },
  {
   "cell_type": "markdown",
   "metadata": {},
   "source": [
    "1. `public class Main`: Added a class declaration to contain the main method.\n",
    "\n",
    "2. `public static void main(String[] args)`: Wrapped the code in the main method for proper execution.\n",
    "\n",
    "3. `i--`: Changed from `i-` to `i--` to correctly decrement the loop variable.\n",
    "\n",
    "4. Loop Condition: Changed `i > 1` to `i >= 1` to ensure that the loop includes the case where `i` equals `1`, allowing it to print the first row."
   ]
  },
  {
   "cell_type": "markdown",
   "metadata": {},
   "source": [
    "## Answer"
   ]
  },
  {
   "cell_type": "code",
   "execution_count": 11,
   "metadata": {
    "vscode": {
     "languageId": "java"
    }
   },
   "outputs": [
    {
     "name": "stdout",
     "output_type": "stream",
     "text": [
      "*****\n",
      "*****\n",
      "*****\n",
      "*****\n",
      "*****\n",
      "*****\n"
     ]
    }
   ],
   "source": [
    "for (int i = 2; i < 10; i++) {\n",
    "    for (int y = 1; y <= 5; y++) {\n",
    "        System.out.print(\"*\");\n",
    "    }\n",
    "    System.out.println();\n",
    "}"
   ]
  },
  {
   "cell_type": "markdown",
   "metadata": {},
   "source": [
    "The code will print a rectangle of asterisks, with 8 rows and 5 columns. \n",
    "\n",
    "- The loop `for (int i = 2; i < 10; i++)` executes the code below it 8 times, and in the code executed below it the inside loop `for (int y = 1; y <= 5; y++)` prints 5 asterisks on the same line, followed by a line break after each row. \n"
   ]
  },
  {
   "cell_type": "markdown",
   "metadata": {},
   "source": [
    "# Homework\n",
    "\n",
    "##  MC 1\n",
    "\n",
    "What does the following code print? Explain the difference between using a variable like i inside a for loop, vs. using a variable that exists in the code itself for a while loop\n",
    "\n",
    "\n",
    "A. 5 6 7 8 9\n",
    "\n",
    "B. 4 5 6 7 8 9 10 11 12\n",
    "\n",
    "C. 3 5 7 9 11\n",
    "\n",
    "D. 3 4 5 6 7 8 9 10 11 12\n",
    "\n",
    "```java\n",
    "for (int i = 3; i <= 12; i++) {\n",
    "   System.out.print(i + \" \");\n",
    "}\n",
    "```\n",
    "\n",
    "Answer: D\n",
    "\n",
    "The loop begins with i = 3 and runs until i reaches 12, inclusive. This results in printing every integer from 3 to 12, yielding the output 3 4 5 6 7 8 9 10 11 12. In a for loop, the loop variable (in this case, i) is initialized and managed by the loop itself. Its scope is confined to the loop, which simplifies management and reduces the risk of conflicts with other variables in the program. Conversely, a while loop may use a variable that exists outside of its scope, which can lead to unintended consequences if that variable is modified elsewhere in the code. This can complicate debugging and make the control flow of the program more difficult to understand.\n",
    "\n",
    "## MC 2\n",
    "\n",
    "How many times does the following method print a “*” ?\n",
    "\n",
    "A. 9\n",
    "B. 7\n",
    "C. 8\n",
    "D. 6\n",
    "\n",
    "```java\n",
    "for (int i = 3; i < 11; i++) {\n",
    "   System.out.print(\"*\");\n",
    "}\n",
    "```\n",
    "\n",
    "Answer: B\n",
    "The loop begins with i = 3 and continues as long as i is less than 11. The values of i during each iteration are: 3, 4, 5, 6, 7, 8, 9, and 10. Consequently, it prints asterisks a total of 8 times.\n",
    "\n",
    "## MC 3\n",
    "\n",
    "A. -4 -3 -2 -1 0\n",
    "B. -5 -4 -3 -2 -1\n",
    "C. 5 4 3 2 1\n",
    "\n",
    "```java\n",
    "int x = -5;\n",
    "while (x < 0)\n",
    "{\n",
    "   x++;\n",
    "   System.out.print(x + \" \");\n",
    "}\n",
    "```\n",
    "\n",
    "Answer: B.\n",
    "\n",
    "The loop starts with x = -5 and increments x by 1 during each iteration, printing the value of x before the increment. The output will thus be -4 -3 -2 -1 0, but since 0 is not less than 0, the last increment will not print. Therefore, the correct output is -4 -3 -2 -1.\n",
    "\n",
    "## MC 4\n",
    "\n",
    "A. 20\n",
    "B. 21\n",
    "C. 25\n",
    "D. 30\n",
    "\n",
    "\n",
    "```java\n",
    "int sum = 0;\n",
    "\n",
    "for (int i = 1; i <= 5; i++) {\n",
    "    if (i % 2 == 0) {\n",
    "        sum += i * 2;\n",
    "    } else {\n",
    "        sum += i;\n",
    "    }\n",
    "}\n",
    "\n",
    "System.out.println(sum);\n",
    "```\n",
    "\n",
    "The loop runs from 1 to 5, calculating the sum based on whether i is odd or even:\n",
    "\n",
    "- Iteration 1: sum = 0 + 1 = 1\n",
    "- Iteration 2: sum = 1 + (2 * 2) = 5\n",
    "- Iteration 3: sum = 5 + 3 = 8\n",
    "- Itration 4: sum = 8 + (4 * 2) = 16\n",
    "- Iteration 5: sum = 16 + 5 = 21"
   ]
  },
  {
   "cell_type": "markdown",
   "metadata": {},
   "source": [
    "## Loops easy hack\n",
    "\n",
    "- Use a while loop to find the numbers from 1-50 that are divisible by 3 or 5, then store them into a list (make sure to print it out at the end)\n",
    "- Use a for loop to do the same thing detailed above"
   ]
  },
  {
   "cell_type": "code",
   "execution_count": 12,
   "metadata": {
    "vscode": {
     "languageId": "java"
    }
   },
   "outputs": [
    {
     "name": "stdout",
     "output_type": "stream",
     "text": [
      "Numbers divisible by 3 or 5 (while loop): [3, 5, 6, 9, 10, 12, 15, 18, 20, 21, 24, 25, 27, 30, 33, 35, 36, 39, 40, 42, 45, 48, 50]\n"
     ]
    }
   ],
   "source": [
    "import java.util.ArrayList;\n",
    "import java.util.List;\n",
    "\n",
    "public class DivisibleNumbers {\n",
    "    public static void main(String[] args) {\n",
    "        List<Integer> divisibleNumbers = new ArrayList<>();\n",
    "        int i = 1;\n",
    "\n",
    "        while (i <= 50) {\n",
    "            if (i % 3 == 0 || i % 5 == 0) {\n",
    "                divisibleNumbers.add(i);\n",
    "            }\n",
    "            i++;\n",
    "        }\n",
    "\n",
    "        System.out.println(\"Numbers divisible by 3 or 5 (while loop): \" + divisibleNumbers);\n",
    "    }\n",
    "}\n",
    "\n",
    "DivisibleNumbers.main(null);"
   ]
  },
  {
   "cell_type": "markdown",
   "metadata": {},
   "source": [
    "## For Loop"
   ]
  },
  {
   "cell_type": "code",
   "execution_count": 24,
   "metadata": {
    "vscode": {
     "languageId": "java"
    }
   },
   "outputs": [],
   "source": [
    "import java.util.ArrayList;\n",
    "import java.util.List;\n",
    "import java.util.stream.Collectors;\n",
    "import java.util.stream.IntStream;\n",
    "\n",
    "public class DivisibleNumbers {\n",
    "    public static void main(String[] args) {\n",
    "        List<Integer> divisibleNumbers = findDivisibleNumbers(1, 50);\n",
    "        printDivisibleNumbers(divisibleNumbers);\n",
    "    }\n",
    "\n",
    "    private static List<Integer> findDivisibleNumbers(int start, int end) {\n",
    "        return IntStream.rangeClosed(start, end)\n",
    "                .filter(i -> i % 3 == 0 || i % 5 == 0)\n",
    "                .boxed()\n",
    "                .collect(Collectors.toList());\n",
    "    }\n",
    "\n",
    "    private static void printDivisibleNumbers(List<Integer> numbers) {\n",
    "        System.out.println(\"Numbers divisible by 3 or 5: \" + numbers);\n",
    "    }\n",
    "}\n"
   ]
  },
  {
   "cell_type": "markdown",
   "metadata": {},
   "source": [
    "## Harder hack"
   ]
  },
  {
   "cell_type": "code",
   "execution_count": null,
   "metadata": {
    "vscode": {
     "languageId": "java"
    }
   },
   "outputs": [
    {
     "name": "stdout",
     "output_type": "stream",
     "text": [
      "Enter integers (type 'done' to finish):\n"
     ]
    }
   ],
   "source": [
    "import java.util.ArrayList;\n",
    "import java.util.List;\n",
    "import java.util.Scanner;\n",
    "\n",
    "public class PalindromeFinder {\n",
    "    public static void main(String[] args) {\n",
    "        List<Integer> testList = initializeTestList();\n",
    "        List<Integer> palindromes = findPalindromes(testList);\n",
    "\n",
    "        System.out.println(\"Palindromes: \" + palindromes);\n",
    "    }\n",
    "\n",
    "    private static List<Integer> initializeTestList() {\n",
    "        Scanner scanner = new Scanner(System.in);\n",
    "        List<Integer> numbers = new ArrayList<>();\n",
    "        \n",
    "        System.out.println(\"Enter integers (type 'done' to finish):\");\n",
    "        while (scanner.hasNext()) {\n",
    "            if (scanner.hasNextInt()) {\n",
    "                numbers.add(scanner.nextInt());\n",
    "            } else if (scanner.next().equalsIgnoreCase(\"done\")) {\n",
    "                break;\n",
    "            } else {\n",
    "                System.out.println(\"Invalid input. Please enter an integer or 'done' to finish.\");\n",
    "            }\n",
    "        }\n",
    "        return numbers;\n",
    "    }\n",
    "\n",
    "    private static List<Integer> findPalindromes(List<Integer> numbers) {\n",
    "        List<Integer> palindromes = new ArrayList<>();\n",
    "        \n",
    "        for (int number : numbers) {\n",
    "            if (isPalindrome(number)) {\n",
    "                palindromes.add(number);\n",
    "            }\n",
    "        }\n",
    "        return palindromes;\n",
    "    }\n",
    "\n",
    "    private static boolean isPalindrome(int number) {\n",
    "        String str = Integer.toString(number);\n",
    "        return str.equals(new StringBuilder(str).reverse().toString());\n",
    "    }\n",
    "}\n",
    "\n",
    "PalindromeFinder.main(null)"
   ]
  },
  {
   "cell_type": "markdown",
   "metadata": {},
   "source": [
    "## Bonus"
   ]
  },
  {
   "cell_type": "code",
   "execution_count": 22,
   "metadata": {
    "vscode": {
     "languageId": "java"
    }
   },
   "outputs": [
    {
     "name": "stdout",
     "output_type": "stream",
     "text": [
      "Spiral Matrix:\n",
      "[1, 2, 3]\n",
      "[8, 9, 4]\n",
      "[7, 6, 5]\n"
     ]
    }
   ],
   "source": [
    "import java.util.Arrays;\n",
    "\n",
    "public class SpiralMatrix {\n",
    "    private int[][] matrix;\n",
    "    private int value;\n",
    "\n",
    "    public SpiralMatrix(int n) {\n",
    "        this.matrix = new int[n][n];\n",
    "        this.value = 1;\n",
    "    }\n",
    "\n",
    "    public void generateSpiral() {\n",
    "        int top = 0, bottom = matrix.length - 1, left = 0, right = matrix[0].length - 1;\n",
    "\n",
    "        while (value <= matrix.length * matrix[0].length) {\n",
    "            fillTopRow(top, left, right);\n",
    "            top++;\n",
    "            fillRightColumn(top, bottom, right);\n",
    "            right--;\n",
    "            fillBottomRow(bottom, left, right);\n",
    "            bottom--;\n",
    "            fillLeftColumn(top, bottom, left);\n",
    "            left++;\n",
    "        }\n",
    "    }\n",
    "\n",
    "    private void fillTopRow(int row, int left, int right) {\n",
    "        for (int i = left; i <= right; i++) {\n",
    "            matrix[row][i] = value++;\n",
    "        }\n",
    "    }\n",
    "\n",
    "    private void fillRightColumn(int top, int bottom, int col) {\n",
    "        for (int i = top; i <= bottom; i++) {\n",
    "            matrix[i][col] = value++;\n",
    "        }\n",
    "    }\n",
    "\n",
    "    private void fillBottomRow(int row, int left, int right) {\n",
    "        for (int i = right; i >= left; i--) {\n",
    "            matrix[row][i] = value++;\n",
    "        }\n",
    "    }\n",
    "\n",
    "    private void fillLeftColumn(int top, int bottom, int col) {\n",
    "        for (int i = bottom; i >= top; i--) {\n",
    "            matrix[i][col] = value++;\n",
    "        }\n",
    "    }\n",
    "\n",
    "    public void printMatrix() {\n",
    "        System.out.println(\"Spiral Matrix:\");\n",
    "        for (int[] row : matrix) {\n",
    "            System.out.println(Arrays.toString(row));\n",
    "        }\n",
    "    }\n",
    "\n",
    "    public static void main(String[] args) {\n",
    "        SpiralMatrix spiralMatrix = new SpiralMatrix(3);\n",
    "        spiralMatrix.generateSpiral();\n",
    "        spiralMatrix.printMatrix();\n",
    "    }\n",
    "}\n",
    "\n",
    "SpiralMatrix.main(null);"
   ]
  },
  {
   "cell_type": "markdown",
   "metadata": {},
   "source": [
    "# Bonus Bonus\n",
    "\n",
    "Matrix Multiplier"
   ]
  },
  {
   "cell_type": "code",
   "execution_count": 23,
   "metadata": {
    "vscode": {
     "languageId": "java"
    }
   },
   "outputs": [
    {
     "name": "stdout",
     "output_type": "stream",
     "text": [
      "Enter rows and columns for Matrix A: "
     ]
    },
    {
     "ename": "EvalException",
     "evalue": "null",
     "output_type": "error",
     "traceback": [
      "\u001b[1m\u001b[31m---------------------------------------------------------------------------\u001b[0m",
      "\u001b[1m\u001b[31mjava.util.InputMismatchException: null\u001b[0m",
      "\u001b[1m\u001b[31m\tat java.base/java.util.Scanner.throwFor(Scanner.java:939)\u001b[0m",
      "\u001b[1m\u001b[31m\tat java.base/java.util.Scanner.next(Scanner.java:1594)\u001b[0m",
      "\u001b[1m\u001b[31m\tat java.base/java.util.Scanner.nextInt(Scanner.java:2258)\u001b[0m",
      "\u001b[1m\u001b[31m\tat java.base/java.util.Scanner.nextInt(Scanner.java:2212)\u001b[0m",
      "\u001b[1m\u001b[31m\tat MatrixMultiplier.main(#42:1)\u001b[0m",
      "\u001b[1m\u001b[31m\tat .(#46:1)\u001b[0m"
     ]
    }
   ],
   "source": [
    "import java.util.Arrays;\n",
    "import java.util.Scanner;\n",
    "\n",
    "public class MatrixMultiplier {\n",
    "    private int[][] matrixA;\n",
    "    private int[][] matrixB;\n",
    "    private int[][] resultMatrix;\n",
    "\n",
    "    public MatrixMultiplier(int rowsA, int colsA, int rowsB, int colsB) {\n",
    "        matrixA = new int[rowsA][colsA];\n",
    "        matrixB = new int[rowsB][colsB];\n",
    "        if (colsA != rowsB) {\n",
    "            throw new IllegalArgumentException(\"Number of columns in Matrix A must equal number of rows in Matrix B.\");\n",
    "        }\n",
    "        resultMatrix = new int[rowsA][colsB];\n",
    "    }\n",
    "\n",
    "    public void inputMatrixA() {\n",
    "        System.out.println(\"Enter elements for Matrix A:\");\n",
    "        inputMatrix(matrixA);\n",
    "    }\n",
    "\n",
    "    public void inputMatrixB() {\n",
    "        System.out.println(\"Enter elements for Matrix B:\");\n",
    "        inputMatrix(matrixB);\n",
    "    }\n",
    "\n",
    "    private void inputMatrix(int[][] matrix) {\n",
    "        Scanner scanner = new Scanner(System.in);\n",
    "        for (int i = 0; i < matrix.length; i++) {\n",
    "            for (int j = 0; j < matrix[i].length; j++) {\n",
    "                matrix[i][j] = scanner.nextInt();\n",
    "            }\n",
    "        }\n",
    "    }\n",
    "\n",
    "    public void multiplyMatrices() {\n",
    "        for (int i = 0; i < matrixA.length; i++) {\n",
    "            for (int j = 0; j < matrixB[0].length; j++) {\n",
    "                resultMatrix[i][j] = 0; // Initialize to zero\n",
    "                for (int k = 0; k < matrixA[0].length; k++) {\n",
    "                    resultMatrix[i][j] += matrixA[i][k] * matrixB[k][j];\n",
    "                }\n",
    "            }\n",
    "        }\n",
    "    }\n",
    "\n",
    "    public void printResult() {\n",
    "        System.out.println(\"Resultant Matrix:\");\n",
    "        for (int[] row : resultMatrix) {\n",
    "            System.out.println(Arrays.toString(row));\n",
    "        }\n",
    "    }\n",
    "\n",
    "    public static void main(String[] args) {\n",
    "        Scanner scanner = new Scanner(System.in);\n",
    "\n",
    "        System.out.print(\"Enter rows and columns for Matrix A: \");\n",
    "        int rowsA = scanner.nextInt();\n",
    "        int colsA = scanner.nextInt();\n",
    "\n",
    "        System.out.print(\"Enter rows and columns for Matrix B: \");\n",
    "        int rowsB = scanner.nextInt();\n",
    "        int colsB = scanner.nextInt();\n",
    "\n",
    "        MatrixMultiplier matrixMultiplier = new MatrixMultiplier(rowsA, colsA, rowsB, colsB);\n",
    "        matrixMultiplier.inputMatrixA();\n",
    "        matrixMultiplier.inputMatrixB();\n",
    "        matrixMultiplier.multiplyMatrices();\n",
    "        matrixMultiplier.printResult();\n",
    "    }\n",
    "}\n",
    "\n",
    "MatrixMultiplier.main(null);"
   ]
  }
 ],
 "metadata": {
  "kernelspec": {
   "display_name": "Java",
   "language": "java",
   "name": "java"
  },
  "language_info": {
   "codemirror_mode": "java",
   "file_extension": ".jshell",
   "mimetype": "text/x-java-source",
   "name": "Java",
   "pygments_lexer": "java",
   "version": "17.0.12+7-Ubuntu-1ubuntu222.04"
  }
 },
 "nbformat": 4,
 "nbformat_minor": 2
}
