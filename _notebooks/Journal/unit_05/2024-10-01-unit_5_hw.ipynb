{
 "cells": [
  {
   "cell_type": "markdown",
   "metadata": {},
   "source": [
    "---\n",
    "layout: post\n",
    "toc: true\n",
    "title: Unit 5 - Homework\n",
    "description: Unit 5 Period 3 Homework\n",
    "authors: Shuban Pal\n",
    "---"
   ]
  },
  {
   "cell_type": "markdown",
   "metadata": {},
   "source": [
    "# Unit 5 Work Debrief (You're Welcome, Graders 🐦)\n",
    "\n",
    "- 5.1 Anatomy: Hacks, Homework, Extras\n",
    "- 5.2 Constructors: Hacks, Homework, Extras\n",
    "- 5.4: Accessor Methods: Hacks, Homework, Extras\n",
    "- 5.41 toString: Hacks, Homework, Extras\n",
    "- 5.5 Mutator methods: Hacks, Homework, Extras\n",
    "- 5.6 Writing Methods: Hacks, Homework, Extras\n",
    "- 5.7 Static Variables and Methods: Hacks, Homework, Extras\n",
    "- 5.8 Scope and Access: Hacks, Homework, Extras\n",
    "- 5.9 This Keyword: Hacks, Homework, Extras\n",
    "- Extra: Java code which begs for extra credit"
   ]
  },
  {
   "cell_type": "markdown",
   "metadata": {},
   "source": [
    "# Section 5.1: Anatomy\n",
    "\n",
    "- Popcorn Hacks (1)"
   ]
  },
  {
   "cell_type": "markdown",
   "metadata": {},
   "source": [
    "## Popcorn Hack 1\n",
    "\n",
    "Write a Student class. - Each student has a name - Each student has a score (out of 100) - A student passes if their score is above 70.\n",
    "\n",
    "Check which student passes (write a class header, instance variables, constructors, and methods)"
   ]
  },
  {
   "cell_type": "code",
   "execution_count": 1,
   "metadata": {
    "vscode": {
     "languageId": "java"
    }
   },
   "outputs": [
    {
     "name": "stdout",
     "output_type": "stream",
     "text": [
      "Yo is this Aadit Mathur??\n"
     ]
    }
   ],
   "source": [
    "public class Student {\n",
    "    private String name;\n",
    "    private int score;\n",
    "    \n",
    "    // Default constructor\n",
    "    public Student() {\n",
    "        name = \"\";\n",
    "        score = 0;   \n",
    "    }\n",
    "\n",
    "    // Overloaded constructor\n",
    "    public Student(String n, int s) {\n",
    "        name = n;\n",
    "        score = s;\n",
    "    }\n",
    "\n",
    "    //Accessor Methods\n",
    "    public String getName() {\n",
    "        return name;\n",
    "    }\n",
    "\n",
    "    public int getScore(){\n",
    "        return score;\n",
    "    }\n",
    "\n",
    "    //Mutator Methods\n",
    "    public void setName(String n){\n",
    "        name = n;\n",
    "    }\n",
    "\n",
    "    public void setScore(int s){\n",
    "        if(s < 0 || s > 100){\n",
    "            score = 0; //default value\n",
    "        }\n",
    "        else {\n",
    "            score = s;\n",
    "        }\n",
    "    }\n",
    "\n",
    "    public boolean pass(){\n",
    "        return (score >= 70);\n",
    "    }\n",
    "}\n",
    "\n",
    "Student student1 = new Student(\"Aadit Mathur\", 4);\n",
    "if (student1.pass()) {\n",
    "    System.out.println(\"Student passed lol\");\n",
    "} else {\n",
    "    System.out.println(\"Yo is this Aadit Mathur??\");\n",
    "}"
   ]
  },
  {
   "cell_type": "markdown",
   "metadata": {},
   "source": [
    "# Section 5.1: Anatomy\n",
    "\n",
    "- Popcorn Hacks: Your Turn (2 parts)"
   ]
  },
  {
   "cell_type": "markdown",
   "metadata": {},
   "source": [
    "## Your Turn Part 1\n",
    "\n",
    "- Make your own class with an integer variable\n",
    "- Make a constructor for that\n",
    "- Create an object and print the variable"
   ]
  },
  {
   "cell_type": "code",
   "execution_count": 7,
   "metadata": {
    "vscode": {
     "languageId": "java"
    }
   },
   "outputs": [
    {
     "ename": "CompilationException",
     "evalue": "",
     "output_type": "error",
     "traceback": [
      "\u001b[1m\u001b[30m|   \u001b[1m\u001b[30mharkiratPrisoner prisoner = \u001b[0m\u001b[1m\u001b[30m\u001b[41mnew harkiratBasementPrisoner(\"Timmy\", 0)\u001b[0m\u001b[1m\u001b[30m;\u001b[0m",
      "\u001b[1m\u001b[31mconstructor harkiratBasementPrisoner in class harkiratBasementPrisoner cannot be applied to given types;\u001b[0m",
      "\u001b[1m\u001b[31m  required: no arguments\u001b[0m",
      "\u001b[1m\u001b[31m  found:    java.lang.String,int\u001b[0m",
      "\u001b[1m\u001b[31m  reason: actual and formal argument lists differ in length\u001b[0m",
      ""
     ]
    }
   ],
   "source": [
    "class harkiratPrisoner {\n",
    "    public String name;\n",
    "    public int age;\n",
    "    public void getInfo() {\n",
    "        System.out.println(age);\n",
    "        System.out.println(name);\n",
    "    }\n",
    "}\n",
    "\n",
    "harkiratPrisoner prisoner = new harkiratBasementPrisoner(\"Timmy\", 0);\n",
    "prisoner.getInfo();"
   ]
  }
 ],
 "metadata": {
  "kernelspec": {
   "display_name": "Java",
   "language": "java",
   "name": "java"
  },
  "language_info": {
   "codemirror_mode": "java",
   "file_extension": ".jshell",
   "mimetype": "text/x-java-source",
   "name": "Java",
   "pygments_lexer": "java",
   "version": "17.0.12+7-Ubuntu-1ubuntu222.04"
  }
 },
 "nbformat": 4,
 "nbformat_minor": 2
}
