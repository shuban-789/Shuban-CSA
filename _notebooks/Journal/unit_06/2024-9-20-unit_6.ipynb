{
 "cells": [
  {
   "cell_type": "markdown",
   "metadata": {},
   "source": [
    "---\n",
    "layout: post\n",
    "toc: true\n",
    "title: Unit 6 - Homework\n",
    "description: Unit 6 Period 3 Homework\n",
    "authors: Shuban Pal"
   ]
  },
  {
   "cell_type": "markdown",
   "metadata": {},
   "source": [
    "# 6.1 Array"
   ]
  },
  {
   "cell_type": "markdown",
   "metadata": {},
   "source": [
    "## Popcorn Hack\n",
    "\n",
    "Create an array called “city_array” with the elements “San Diego”, “Los Angeles”, “San Francisco”, “Sacramento”\n",
    "Print out the first element in the array\n",
    "Print out the third element in the array\n",
    "Change the second element in the array to “Sacramento”\n",
    "Change the fourth element in the array to “San Jose”\n",
    "Print out the length of the array"
   ]
  },
  {
   "cell_type": "code",
   "execution_count": 9,
   "metadata": {
    "vscode": {
     "languageId": "java"
    }
   },
   "outputs": [],
   "source": [
    "String[] city_array = {\"San Diego\", \"Los Angeles\", \"San Francisco\", \"Sacramento\"};"
   ]
  },
  {
   "cell_type": "code",
   "execution_count": 10,
   "metadata": {
    "vscode": {
     "languageId": "java"
    }
   },
   "outputs": [
    {
     "name": "stdout",
     "output_type": "stream",
     "text": [
      "San Diego\n"
     ]
    }
   ],
   "source": [
    "System.out.println(city_array[0]);"
   ]
  },
  {
   "cell_type": "code",
   "execution_count": 11,
   "metadata": {
    "vscode": {
     "languageId": "java"
    }
   },
   "outputs": [
    {
     "name": "stdout",
     "output_type": "stream",
     "text": [
      "San Francisco\n"
     ]
    }
   ],
   "source": [
    "System.out.println(city_array[2]);"
   ]
  },
  {
   "cell_type": "code",
   "execution_count": 12,
   "metadata": {
    "vscode": {
     "languageId": "java"
    }
   },
   "outputs": [
    {
     "name": "stdout",
     "output_type": "stream",
     "text": [
      "Sacramento\n"
     ]
    }
   ],
   "source": [
    "System.out.println(city_array[city_array.length - 1]);"
   ]
  },
  {
   "cell_type": "code",
   "execution_count": 13,
   "metadata": {
    "vscode": {
     "languageId": "java"
    }
   },
   "outputs": [
    {
     "name": "stdout",
     "output_type": "stream",
     "text": [
      "4\n"
     ]
    }
   ],
   "source": [
    "System.out.println(city_array.length);"
   ]
  },
  {
   "cell_type": "markdown",
   "metadata": {},
   "source": [
    "# 6.2 Traversing"
   ]
  },
  {
   "cell_type": "markdown",
   "metadata": {},
   "source": [
    "## Popcorn Hack 2\n",
    "Write a method that traverses an integer array and counts how many times a specific number appears. Make sure to use a for-each loop."
   ]
  },
  {
   "cell_type": "code",
   "execution_count": 21,
   "metadata": {
    "vscode": {
     "languageId": "java"
    }
   },
   "outputs": [
    {
     "name": "stdout",
     "output_type": "stream",
     "text": [
      "4\n"
     ]
    }
   ],
   "source": [
    "public static int countOccurrences(int[] arr, int target) {\n",
    "    int result = 0;\n",
    "    for (int i = 0; i < arr.length; i++) {\n",
    "        if (arr[i] == target) {\n",
    "            result += 1;\n",
    "        } \n",
    "    }\n",
    "    return result;\n",
    "}\n",
    "\n",
    "// Example usage:\n",
    "int[] arr = {1001, 2002, 4005, 5004, 1001, 3002, 2003, 4004, 5005, 1001, 6006, 3007, 7003, 1001, 4007};\n",
    "int target = 1001;\n",
    "System.out.println(countOccurrences(arr, target));"
   ]
  },
  {
   "cell_type": "markdown",
   "metadata": {},
   "source": [
    "## Popcorn Hack 3\n",
    "Write a method that traverses an array of integers and returns the index of the first negative number. If there are no negative numbers, return -1. Use a while loop."
   ]
  },
  {
   "cell_type": "code",
   "execution_count": 24,
   "metadata": {
    "vscode": {
     "languageId": "java"
    }
   },
   "outputs": [
    {
     "name": "stdout",
     "output_type": "stream",
     "text": [
      "2\n"
     ]
    }
   ],
   "source": [
    "public static int firstNegativeIndex(int[] arr) {\n",
    "    int i = 0;\n",
    "    while (i < arr.length) {\n",
    "        if (arr[i] < 0) {\n",
    "            return i;\n",
    "        } else {\n",
    "            i++;\n",
    "        }\n",
    "    }\n",
    "    return -1;\n",
    "}\n",
    "\n",
    "// Example usage:\n",
    "int[] arr = {4, 7, -2, 5};\n",
    "System.out.println(firstNegativeIndex(arr)); // Output: 2"
   ]
  },
  {
   "cell_type": "markdown",
   "metadata": {},
   "source": [
    "## Homework Hack\n",
    "Problem Statement: Given an array of integers, write a method to find the second largest unique element in the array. If the array has fewer than two distinct elements, return -1."
   ]
  },
  {
   "cell_type": "code",
   "execution_count": 40,
   "metadata": {
    "vscode": {
     "languageId": "java"
    }
   },
   "outputs": [
    {
     "name": "stdout",
     "output_type": "stream",
     "text": [
      "6\n",
      "-1\n"
     ]
    }
   ],
   "source": [
    "import java.util.Arrays;\n",
    "\n",
    "public static int findSecondLargest(int[] arr) {\n",
    "    int[] uniqueNumbers = {};\n",
    "    for (int i = 0; i < arr.length; i++) {\n",
    "        int instances = 0;\n",
    "        for (int j = 0; j < arr.length; j++) {\n",
    "            if (arr[j] == arr[i]) {\n",
    "                instances++;\n",
    "            }\n",
    "        }\n",
    "        if (instances == 1) {\n",
    "            uniqueNumbers[uniqueNumbers.length-1] = arr[i];\n",
    "        }\n",
    "    }\n",
    "    Arrays.sort(uniqueNumbers);\n",
    "    return arr[arr.length-2];\n",
    "}\n",
    "\n",
    "public static void main(String[] args) {\n",
    "    int[] arr1 = {3, 1, 4, 1, 5, 9, 2, 6};\n",
    "    System.out.println(findSecondLargest(arr1)); // Output: 6\n",
    "\n",
    "    int[] arr2 = {10, 10, 10, 10};\n",
    "    System.out.println(findSecondLargest(arr2)); // Output: -1\n",
    "}\n",
    "\n",
    "Main.main(null)"
   ]
  },
  {
   "cell_type": "markdown",
   "metadata": {},
   "source": [
    "# 6.3 Lesson"
   ]
  },
  {
   "cell_type": "markdown",
   "metadata": {},
   "source": [
    "## Hacks\n",
    "\n",
    "Build the loop\n",
    "Multiple Choice\n",
    "Find each index of the letter ‘a’ in each word\n",
    "Find the error\n",
    "HW Hack"
   ]
  },
  {
   "cell_type": "code",
   "execution_count": null,
   "metadata": {
    "vscode": {
     "languageId": "java"
    }
   },
   "outputs": [],
   "source": [
    "String[] myArray = {'Add an array here'};\n",
    "\n",
    "// Add a loop to go through the array here (Shuban: OK? I'll do that in the next cell)"
   ]
  },
  {
   "cell_type": "code",
   "execution_count": null,
   "metadata": {
    "vscode": {
     "languageId": "java"
    }
   },
   "outputs": [],
   "source": [
    "private String[] myArray = {\n",
    "    \"And\", \"Table\", \"Shirts\", \"Tea\", \"School Day\"\n",
    "};\n",
    "\n",
    "for (String currentWord : myArray) {\n",
    "    System.out.println(currentWord.length());\n",
    "}"
   ]
  },
  {
   "cell_type": "code",
   "execution_count": 50,
   "metadata": {
    "vscode": {
     "languageId": "java"
    }
   },
   "outputs": [
    {
     "name": "stdout",
     "output_type": "stream",
     "text": [
      "Letter A spotted at index 0\n",
      "Letter A spotted at index 1\n",
      "Letter A spotted at index 3\n",
      "Letter A spotted at index 5\n",
      "Letter A spotted at index 2\n"
     ]
    }
   ],
   "source": [
    "String[] fruits = {\"Apple\", \"Banana\", \"Orange\"};\n",
    "\n",
    "for (String fruit: fruits) {\n",
    "    for (int index = 0; index < fruit.length(); index++) {\n",
    "        if (fruit.toLowerCase().charAt(index) == 'a') {\n",
    "            System.out.println(\"Letter A spotted at index \" + index);\n",
    "        }\n",
    "    }\n",
    "}"
   ]
  },
  {
   "cell_type": "code",
   "execution_count": 54,
   "metadata": {
    "vscode": {
     "languageId": "java"
    }
   },
   "outputs": [
    {
     "name": "stdout",
     "output_type": "stream",
     "text": [
      "Object 1\n",
      "Object 2\n",
      "Object 3\n",
      "Object 4\n",
      "Object 5\n"
     ]
    }
   ],
   "source": [
    "String[] myArray = {\"Object 1\", \"Object 2\", \"Object 3\", \"Object 4\", \"Object 5\"};\n",
    "\n",
    "for (String currentWord: myArray) {\n",
    "    System.out.println(currentWord);\n",
    "}"
   ]
  },
  {
   "cell_type": "markdown",
   "metadata": {},
   "source": [
    "## Final Hack\n",
    "Add to the code below to create a average grade calculator (using an enhanced for loop)"
   ]
  },
  {
   "cell_type": "code",
   "execution_count": 56,
   "metadata": {
    "vscode": {
     "languageId": "java"
    }
   },
   "outputs": [
    {
     "name": "stdout",
     "output_type": "stream",
     "text": [
      "Enter a grade: \n",
      "74.33333333333333\n",
      "[88, 93, 55, 68, 77, 65]\n"
     ]
    }
   ],
   "source": [
    "Integer[] grades = {88, 93, 55, 68, 77};\n",
    "\n",
    "Scanner userGrades = new Scanner(System.in);\n",
    "System.out.print(\"Enter a grade: \");\n",
    "int grade = Integer.parseInt(userGrades.nextLine());\n",
    "System.out.println(\"\");\n",
    "\n",
    "double sum = 0;\n",
    "for (int g : grades) { sum += g; }\n",
    "sum += grade; \n",
    "double average = sum / (grades.length + 1);\n",
    "System.out.println(average);\n",
    "\n",
    "grades = Arrays.copyOf(grades, grades.length + 1);\n",
    "grades[grades.length - 1] = grade;\n",
    "System.out.println(Arrays.toString(grades));"
   ]
  },
  {
   "cell_type": "markdown",
   "metadata": {},
   "source": [
    "# 6.4 Algos"
   ]
  },
  {
   "cell_type": "markdown",
   "metadata": {},
   "source": [
    "## Popcorn Hack\n",
    "If an integer in the array is greater than the integer below it, print “Increase”"
   ]
  },
  {
   "cell_type": "code",
   "execution_count": 57,
   "metadata": {
    "vscode": {
     "languageId": "java"
    }
   },
   "outputs": [],
   "source": [
    "public class MaxMinInArray {\n",
    "\n",
    "    public static void findMaxAndMin(int[] array) {\n",
    "       \n",
    "        if (array == null || array.length == 0) {\n",
    "            System.out.println(\"Array is empty\");\n",
    "            return;\n",
    "        }\n",
    "\n",
    "        int max = array[0];\n",
    "        int min = array[0];\n",
    "\n",
    "        for (int i = 1; i < array.length; i++) {\n",
    "            // Check for maximum and minimum\n",
    "            if (array[i] > max) {\n",
    "                max = array[i];  \n",
    "            }\n",
    "            if (array[i] < min) {\n",
    "                min = array[i];  \n",
    "            }\n",
    "            \n",
    "            // Popcorn Hack: Check if current element is greater than the previous one\n",
    "            if (i > 0 && array[i] > array[i - 1]) {\n",
    "                System.out.println(\"Increase\");\n",
    "            }\n",
    "        }\n",
    "\n",
    "        System.out.println(\"Maximum value: \" + max);\n",
    "        System.out.println(\"Minimum value: \" + min);\n",
    "    }\n",
    "\n",
    "    public static void main(String[] args) {\n",
    "     \n",
    "        int[] array = {3, 5, 7, 2, 8, -1, 4, 0, 12};\n",
    "\n",
    "        findMaxAndMin(array);\n",
    "    }\n",
    "}"
   ]
  },
  {
   "cell_type": "markdown",
   "metadata": {},
   "source": [
    "## HW Hack\n",
    "Go through the array in reverse order and output each object"
   ]
  },
  {
   "cell_type": "code",
   "execution_count": 58,
   "metadata": {
    "vscode": {
     "languageId": "java"
    }
   },
   "outputs": [
    {
     "name": "stdout",
     "output_type": "stream",
     "text": [
      "5\n",
      "4\n",
      "3\n",
      "2\n",
      "1\n"
     ]
    }
   ],
   "source": [
    "Integer[] myArray = {0, 1, 2, 3, 4, 5};\n",
    "\n",
    "for (int i = myArray.length-1; i > 0; i--) {\n",
    "    System.out.println(myArray[i]);\n",
    "};"
   ]
  },
  {
   "cell_type": "markdown",
   "metadata": {},
   "source": [
    "## HW Hack\n",
    "Print words while skipping every other word (“Alpha”, “Gamma”, “Beta”, “Delta”)"
   ]
  },
  {
   "cell_type": "code",
   "execution_count": 59,
   "metadata": {
    "vscode": {
     "languageId": "java"
    }
   },
   "outputs": [
    {
     "name": "stdout",
     "output_type": "stream",
     "text": [
      "alpha\n",
      "gamma\n",
      "beta\n",
      "delta\n"
     ]
    }
   ],
   "source": [
    "public class WordShifter {  \n",
    "    public static void main(String[] args) {\n",
    "        String[] words = {\"alpha\", \"beta\", \"gamma\", \"delta\"};\n",
    "        for (int i = 0; i < words.length; i += 2) {\n",
    "            System.out.println(words[i]);\n",
    "        }\n",
    "        for (int i = 1; i < words.length; i += 2) {\n",
    "            System.out.println(words[i]);\n",
    "        }\n",
    "    }\n",
    "}\n",
    "WordShifter.main(null)"
   ]
  }
 ],
 "metadata": {
  "kernelspec": {
   "display_name": "Java",
   "language": "java",
   "name": "java"
  },
  "language_info": {
   "codemirror_mode": "java",
   "file_extension": ".jshell",
   "mimetype": "text/x-java-source",
   "name": "Java",
   "pygments_lexer": "java",
   "version": "17.0.12+7-Ubuntu-1ubuntu222.04"
  }
 },
 "nbformat": 4,
 "nbformat_minor": 2
}
