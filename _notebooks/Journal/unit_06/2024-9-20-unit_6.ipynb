{
 "cells": [
  {
   "cell_type": "markdown",
   "metadata": {},
   "source": [
    "---\n",
    "layout: post\n",
    "toc: true\n",
    "title: Unit 6 - Homework\n",
    "description: Unit 6 Period 3 Homework\n",
    "authors: Shuban Pal"
   ]
  },
  {
   "cell_type": "markdown",
   "metadata": {},
   "source": [
    "# 6.1 Array"
   ]
  },
  {
   "cell_type": "markdown",
   "metadata": {},
   "source": [
    "## Popcorn Hack\n",
    "\n",
    "Create four new INITIALIZED arrays, with int, string, double, and boolean types respectively. Print out the second element of each array to see the default values."
   ]
  },
  {
   "cell_type": "code",
   "execution_count": null,
   "metadata": {
    "vscode": {
     "languageId": "python"
    }
   },
   "outputs": [],
   "source": [
    "String[] stringArr = {\"A\",\"L\",\"L\",\" \",\"R\",\"E\",\"D\"};\n",
    "int[] intArr = {9,3,2,4,2,5,8,4};\n",
    "double[] doubleArr = {3.14,6.28,6.9,4.5,7.6};\n",
    "boolean[] boolArr = {true, false, true, true, false, false, true, false, true, false};\n",
    "System.out.println(stringArr[1]);\n",
    "System.out.println(intArr[1]);\n",
    "System.out.println(doubleArr[1]);\n",
    "System.out.println(boolArr[1]);"
   ]
  },
  {
   "cell_type": "markdown",
   "metadata": {},
   "source": [
    "## Practice MCQs\n",
    "\n",
    "### Question 1\n",
    "Consider the following method which is intended to return the position of `find` within the String referenced at the third last index of arr.\n",
    "\n",
    "```java\n",
    "public static int findThirdLast(String [] arr, String find) {\n",
    "    return arr[arr.length - 3].indexOf(find);\n",
    "}\n",
    "```\n",
    "\n",
    "Which of the following could replace `/*missing code*/` to complete the method as specified?\n",
    "- A. arr[].indexOf(find)\n",
    "- B. arr.indexOf(find)\n",
    "- C. arr[arr.length].indexOf(find)\n",
    "- D. arr[arr.length - 3].indexOf(find)\n",
    "- E. arr[arr.length - 2].indexOf(find)\n",
    "\n",
    "Answer is `D`. `arr[arr.length - 1]` references the last element, `arr[arr.length - 2]` references the 2nd to last element. This means that `arr[arr.length - 3]` references the third to last element inside the array. Element's index can be found with indexOf.\n",
    "\n",
    "### Question 2\n",
    "Consider the following method:\n",
    "\n",
    "```java\n",
    "public static int mystery(int [] arr) {\n",
    "    return arr[1] + arr[4]/2\n",
    "}\n",
    "```\n",
    "\n",
    "The mystery method is called from another method in the same class: `int[] list = {1,9,2,5,6};`\n",
    "`int result = mystery(list);`\n",
    "\n",
    "What is stored in result after executing the above code?\n",
    "\n",
    "A. 2\n",
    "B. 12\n",
    "C. 15\n",
    "D. 9\n",
    "E. 8\n",
    "\n",
    "The answer is `B` which is 12. This is because `arr[4]` is equal to 6, and `arr[1]` is equal to 9, 6/2 is 3, the sum is 12."
   ]
  },
  {
   "cell_type": "markdown",
   "metadata": {},
   "source": [
    "## Popcorn Hack\n",
    "\n",
    "Create an array called “city_array” with the elements “San Diego”, “Los Angeles”, “San Francisco”, “Sacramento”\n",
    "Print out the first element in the array\n",
    "Print out the third element in the array\n",
    "Change the second element in the array to “Sacramento”\n",
    "Change the fourth element in the array to “San Jose”\n",
    "Print out the length of the array"
   ]
  },
  {
   "cell_type": "code",
   "execution_count": 4,
   "metadata": {
    "vscode": {
     "languageId": "python"
    }
   },
   "outputs": [],
   "source": [
    "String[] city_array = {\"San Diego\", \"Los Angeles\", \"San Francisco\", \"Sacramento\"};"
   ]
  },
  {
   "cell_type": "code",
   "execution_count": null,
   "metadata": {
    "vscode": {
     "languageId": "python"
    }
   },
   "outputs": [],
   "source": [
    "System.out.println(city_array[0]);"
   ]
  },
  {
   "cell_type": "code",
   "execution_count": null,
   "metadata": {
    "vscode": {
     "languageId": "python"
    }
   },
   "outputs": [],
   "source": [
    "System.out.println(city_array[2]);"
   ]
  },
  {
   "cell_type": "code",
   "execution_count": null,
   "metadata": {
    "vscode": {
     "languageId": "python"
    }
   },
   "outputs": [],
   "source": [
    "System.out.println(city_array[city_array.length - 1]);"
   ]
  },
  {
   "cell_type": "code",
   "execution_count": null,
   "metadata": {
    "vscode": {
     "languageId": "python"
    }
   },
   "outputs": [],
   "source": [
    "System.out.println(city_array.length);"
   ]
  },
  {
   "cell_type": "markdown",
   "metadata": {},
   "source": [
    "# 6.2 Traversing"
   ]
  },
  {
   "cell_type": "markdown",
   "metadata": {},
   "source": [
    "## Popcorn Hack 2\n",
    "Write a method that traverses an integer array and counts how many times a specific number appears. Make sure to use a for-each loop."
   ]
  },
  {
   "cell_type": "code",
   "execution_count": null,
   "metadata": {
    "vscode": {
     "languageId": "python"
    }
   },
   "outputs": [],
   "source": [
    "public static int countOccurrences(int[] arr, int target) {\n",
    "    int result = 0;\n",
    "    for (int i = 0; i < arr.length; i++) {\n",
    "        if (arr[i] == target) {\n",
    "            result += 1;\n",
    "        } \n",
    "    }\n",
    "    return result;\n",
    "}\n",
    "\n",
    "// Example usage:\n",
    "int[] arr = {1001, 2002, 4005, 5004, 1001, 3002, 2003, 4004, 5005, 1001, 6006, 3007, 7003, 1001, 4007};\n",
    "int target = 1001;\n",
    "System.out.println(countOccurrences(arr, target));"
   ]
  },
  {
   "cell_type": "markdown",
   "metadata": {},
   "source": [
    "## Popcorn Hack 3\n",
    "Write a method that traverses an array of integers and returns the index of the first negative number. If there are no negative numbers, return -1. Use a while loop."
   ]
  },
  {
   "cell_type": "code",
   "execution_count": null,
   "metadata": {
    "vscode": {
     "languageId": "python"
    }
   },
   "outputs": [],
   "source": [
    "public static int firstNegativeIndex(int[] arr) {\n",
    "    int i = 0;\n",
    "    while (i < arr.length) {\n",
    "        if (arr[i] < 0) {\n",
    "            return i;\n",
    "        } else {\n",
    "            i++;\n",
    "        }\n",
    "    }\n",
    "    return -1;\n",
    "}\n",
    "\n",
    "// Example usage:\n",
    "int[] arr = {4, 7, -2, 5};\n",
    "System.out.println(firstNegativeIndex(arr)); // Output: 2"
   ]
  },
  {
   "cell_type": "markdown",
   "metadata": {},
   "source": [
    "## Homework Hack\n",
    "Problem Statement: Given an array of integers, write a method to find the second largest unique element in the array. If the array has fewer than two distinct elements, return -1."
   ]
  },
  {
   "cell_type": "code",
   "execution_count": null,
   "metadata": {
    "vscode": {
     "languageId": "python"
    }
   },
   "outputs": [],
   "source": [
    "import java.util.Arrays;\n",
    "\n",
    "public static int findSecondLargest(int[] arr) {\n",
    "    int[] uniqueNumbers = {};\n",
    "    for (int i = 0; i < arr.length; i++) {\n",
    "        int instances = 0;\n",
    "        for (int j = 0; j < arr.length; j++) {\n",
    "            if (arr[j] == arr[i]) {\n",
    "                instances++;\n",
    "            }\n",
    "        }\n",
    "        if (instances == 1) {\n",
    "            uniqueNumbers[uniqueNumbers.length-1] = arr[i];\n",
    "        }\n",
    "    }\n",
    "    Arrays.sort(uniqueNumbers);\n",
    "    return arr[arr.length-2];\n",
    "}\n",
    "\n",
    "public static void main(String[] args) {\n",
    "    int[] arr1 = {3, 1, 4, 1, 5, 9, 2, 6};\n",
    "    System.out.println(findSecondLargest(arr1)); // Output: 6\n",
    "\n",
    "    int[] arr2 = {10, 10, 10, 10};\n",
    "    System.out.println(findSecondLargest(arr2)); // Output: -1\n",
    "}\n",
    "\n",
    "Main.main(null)"
   ]
  },
  {
   "cell_type": "markdown",
   "metadata": {},
   "source": [
    "# 6.3 Lesson"
   ]
  },
  {
   "cell_type": "markdown",
   "metadata": {},
   "source": [
    "## Hacks\n",
    "\n",
    "Build the loop\n",
    "Multiple Choice\n",
    "Find each index of the letter ‘a’ in each word\n",
    "Find the error\n",
    "HW Hack"
   ]
  },
  {
   "cell_type": "code",
   "execution_count": null,
   "metadata": {
    "vscode": {
     "languageId": "python"
    }
   },
   "outputs": [],
   "source": [
    "String[] myArray = {'Add an array here'};\n",
    "\n",
    "// Add a loop to go through the array here (Shuban: OK? I'll do that in the next cell)"
   ]
  },
  {
   "cell_type": "code",
   "execution_count": null,
   "metadata": {
    "vscode": {
     "languageId": "python"
    }
   },
   "outputs": [],
   "source": [
    "private String[] myArray = {\n",
    "    \"And\", \"Table\", \"Shirts\", \"Tea\", \"School Day\"\n",
    "};\n",
    "\n",
    "for (String currentWord : myArray) {\n",
    "    System.out.println(currentWord.length());\n",
    "}"
   ]
  },
  {
   "cell_type": "code",
   "execution_count": null,
   "metadata": {
    "vscode": {
     "languageId": "python"
    }
   },
   "outputs": [],
   "source": [
    "String[] fruits = {\"Apple\", \"Banana\", \"Orange\"};\n",
    "\n",
    "for (String fruit: fruits) {\n",
    "    for (int index = 0; index < fruit.length(); index++) {\n",
    "        if (fruit.toLowerCase().charAt(index) == 'a') {\n",
    "            System.out.println(\"Letter A spotted at index \" + index);\n",
    "        }\n",
    "    }\n",
    "}"
   ]
  },
  {
   "cell_type": "code",
   "execution_count": null,
   "metadata": {
    "vscode": {
     "languageId": "python"
    }
   },
   "outputs": [],
   "source": [
    "String[] myArray = {\"Object 1\", \"Object 2\", \"Object 3\", \"Object 4\", \"Object 5\"};\n",
    "\n",
    "for (String currentWord: myArray) {\n",
    "    System.out.println(currentWord);\n",
    "}"
   ]
  },
  {
   "cell_type": "markdown",
   "metadata": {},
   "source": [
    "## Final Hack\n",
    "Add to the code below to create a average grade calculator (using an enhanced for loop)"
   ]
  },
  {
   "cell_type": "code",
   "execution_count": null,
   "metadata": {
    "vscode": {
     "languageId": "python"
    }
   },
   "outputs": [],
   "source": [
    "Integer[] grades = {88, 93, 55, 68, 77};\n",
    "\n",
    "Scanner userGrades = new Scanner(System.in);\n",
    "System.out.print(\"Enter a grade: \");\n",
    "int grade = Integer.parseInt(userGrades.nextLine());\n",
    "System.out.println(\"\");\n",
    "\n",
    "double sum = 0;\n",
    "for (int g : grades) { sum += g; }\n",
    "sum += grade; \n",
    "double average = sum / (grades.length + 1);\n",
    "System.out.println(average);\n",
    "\n",
    "grades = Arrays.copyOf(grades, grades.length + 1);\n",
    "grades[grades.length - 1] = grade;\n",
    "System.out.println(Arrays.toString(grades));"
   ]
  },
  {
   "cell_type": "markdown",
   "metadata": {},
   "source": [
    "# 6.4 Algos"
   ]
  },
  {
   "cell_type": "markdown",
   "metadata": {},
   "source": [
    "## Popcorn Hack\n",
    "If an integer in the array is greater than the integer below it, print “Increase”"
   ]
  },
  {
   "cell_type": "code",
   "execution_count": 57,
   "metadata": {
    "vscode": {
     "languageId": "python"
    }
   },
   "outputs": [],
   "source": [
    "public class MaxMinInArray {\n",
    "\n",
    "    public static void findMaxAndMin(int[] array) {\n",
    "       \n",
    "        if (array == null || array.length == 0) {\n",
    "            System.out.println(\"Array is empty\");\n",
    "            return;\n",
    "        }\n",
    "\n",
    "        int max = array[0];\n",
    "        int min = array[0];\n",
    "\n",
    "        for (int i = 1; i < array.length; i++) {\n",
    "            // Check for maximum and minimum\n",
    "            if (array[i] > max) {\n",
    "                max = array[i];  \n",
    "            }\n",
    "            if (array[i] < min) {\n",
    "                min = array[i];  \n",
    "            }\n",
    "            \n",
    "            // Popcorn Hack: Check if current element is greater than the previous one\n",
    "            if (i > 0 && array[i] > array[i - 1]) {\n",
    "                System.out.println(\"Increase\");\n",
    "            }\n",
    "        }\n",
    "\n",
    "        System.out.println(\"Maximum value: \" + max);\n",
    "        System.out.println(\"Minimum value: \" + min);\n",
    "    }\n",
    "\n",
    "    public static void main(String[] args) {\n",
    "     \n",
    "        int[] array = {3, 5, 7, 2, 8, -1, 4, 0, 12};\n",
    "\n",
    "        findMaxAndMin(array);\n",
    "    }\n",
    "}"
   ]
  },
  {
   "cell_type": "markdown",
   "metadata": {},
   "source": [
    "## HW Hack\n",
    "Go through the array in reverse order and output each object"
   ]
  },
  {
   "cell_type": "code",
   "execution_count": null,
   "metadata": {
    "vscode": {
     "languageId": "python"
    }
   },
   "outputs": [],
   "source": [
    "Integer[] myArray = {0, 1, 2, 3, 4, 5};\n",
    "\n",
    "for (int i = myArray.length-1; i > 0; i--) {\n",
    "    System.out.println(myArray[i]);\n",
    "};"
   ]
  },
  {
   "cell_type": "markdown",
   "metadata": {},
   "source": [
    "## HW Hack\n",
    "Print words while skipping every other word (“Alpha”, “Gamma”, “Beta”, “Delta”)"
   ]
  },
  {
   "cell_type": "code",
   "execution_count": null,
   "metadata": {
    "vscode": {
     "languageId": "python"
    }
   },
   "outputs": [],
   "source": [
    "public class WordShifter {  \n",
    "    public static void main(String[] args) {\n",
    "        String[] words = {\"alpha\", \"beta\", \"gamma\", \"delta\"};\n",
    "        for (int i = 0; i < words.length; i += 2) {\n",
    "            System.out.println(words[i]);\n",
    "        }\n",
    "        for (int i = 1; i < words.length; i += 2) {\n",
    "            System.out.println(words[i]);\n",
    "        }\n",
    "    }\n",
    "}\n",
    "WordShifter.main(null)"
   ]
  },
  {
   "cell_type": "markdown",
   "metadata": {},
   "source": [
    "# Extra: Spinning Donut Implementation in Java"
   ]
  },
  {
   "cell_type": "code",
   "execution_count": null,
   "metadata": {},
   "outputs": [],
   "source": [
    "import java.util.Arrays;\n",
    "\n",
    "final int screen_size = 40;\n",
    "final double theta_spacing = 0.07;\n",
    "final double phi_spacing = 0.02;\n",
    "final char[] illumination = { '.', ',', '-', '~', ':', ';', '=', '!', '*', '#', '$', '@' };\n",
    "\n",
    "double A = 1;\n",
    "double B = 1;\n",
    "final double R1 = 1;\n",
    "final double R2 = 2;\n",
    "final double K2 = 5;\n",
    "final double K1 = screen_size * K2 * 3 / (8 * (R1 + R2));\n",
    "\n",
    "char[][] renderFrame(double A, double B) {\n",
    "    double cos_A = Math.cos(A);\n",
    "    double sin_A = Math.sin(A);\n",
    "    double cos_B = Math.cos(B);\n",
    "    double sin_B = Math.sin(B);\n",
    "\n",
    "    char[][] output = new char[screen_size][screen_size];\n",
    "    double[][] zbuffer = new double[screen_size][screen_size];\n",
    "    for (char[] row : output) Arrays.fill(row, ' ');\n",
    "    for (double[] row : zbuffer) Arrays.fill(row, 0);\n",
    "\n",
    "    double[] cos_phi = new double[315];\n",
    "    double[] sin_phi = new double[315];\n",
    "    for (int i = 0; i < cos_phi.length; i++) {\n",
    "        double phi = i * phi_spacing;\n",
    "        cos_phi[i] = Math.cos(phi);\n",
    "        sin_phi[i] = Math.sin(phi);\n",
    "    }\n",
    "\n",
    "    double[] cos_theta = new double[90];\n",
    "    double[] sin_theta = new double[90];\n",
    "    for (int i = 0; i < cos_theta.length; i++) {\n",
    "        double theta = i * theta_spacing;\n",
    "        cos_theta[i] = Math.cos(theta);\n",
    "        sin_theta[i] = Math.sin(theta);\n",
    "    }\n",
    "\n",
    "    double[] circle_x = new double[90];\n",
    "    double[] circle_y = new double[90];\n",
    "    for (int i = 0; i < 90; i++) {\n",
    "        circle_x[i] = R2 + R1 * cos_theta[i];\n",
    "        circle_y[i] = R1 * sin_theta[i];\n",
    "    }\n",
    "\n",
    "    for (int i = 0; i < 90; i++) {\n",
    "        for (int j = 0; j < 315; j++) {\n",
    "            double x = cos_B * cos_phi[j] + sin_A * sin_B * sin_phi[j];\n",
    "            double y = sin_B * cos_phi[j] - sin_A * cos_B * sin_phi[j];\n",
    "            double z = K2 + cos_A * sin_phi[j];\n",
    "            double ooz = 1 / z;\n",
    "\n",
    "            int xp = (int) (screen_size / 2 + K1 * ooz * (x - circle_y[i] * cos_A * sin_B));\n",
    "            int yp = (int) (screen_size / 2 - K1 * ooz * (y + circle_y[i] * cos_A * cos_B));\n",
    "\n",
    "            double L = ((cos_phi[j] * cos_theta[i] * sin_B) - cos_A * sin_phi[j] * cos_theta[i] - sin_A * sin_theta[i]) + cos_B * (cos_A * sin_theta[i] - sin_phi[j] * cos_theta[i] * sin_A);\n",
    "            int L_val = (int) Math.round(L * 8);\n",
    "\n",
    "            if (L_val >= 0 && ooz > zbuffer[xp][yp]) {\n",
    "                zbuffer[xp][yp] = ooz;\n",
    "                output[xp][yp] = illumination[L_val % illumination.length];\n",
    "            }\n",
    "        }\n",
    "    }\n",
    "\n",
    "    return output;\n",
    "}\n",
    "\n",
    "void pprint(char[][] array) {\n",
    "    for (char[] row : array) {\n",
    "        for (char c : row) {\n",
    "            System.out.print(c);\n",
    "        }\n",
    "        System.out.println();\n",
    "    }\n",
    "}\n",
    "\n",
    "\n",
    "for (int t = 0; t < screen_size * screen_size; t++) {\n",
    "    A += theta_spacing;\n",
    "    B += phi_spacing;\n",
    "    System.out.print(\"\\033[H\");\n",
    "    char[][] frame = renderFrame(A, B);\n",
    "    pprint(frame);\n",
    "    Thread.sleep(30);\n",
    "}\n"
   ]
  }
 ],
 "metadata": {
  "kernelspec": {
   "display_name": "Java",
   "language": "java",
   "name": "java"
  },
  "language_info": {
   "codemirror_mode": "java",
   "file_extension": ".jshell",
   "mimetype": "text/x-java-source",
   "name": "java",
   "pygments_lexer": "java",
   "version": "17.0.12+7-Ubuntu-1ubuntu222.04"
  }
 },
 "nbformat": 4,
 "nbformat_minor": 2
}
