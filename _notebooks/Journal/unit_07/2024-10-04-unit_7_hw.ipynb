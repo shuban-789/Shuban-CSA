{
 "cells": [
  {
   "cell_type": "markdown",
   "metadata": {},
   "source": [
    "---\n",
    "layout: post\n",
    "toc: true\n",
    "title: Unit 8 - Homework\n",
    "description: Unit 8 Period 3 Homework\n",
    "authors: Shuban Pal\n",
    "---"
   ]
  },
  {
   "cell_type": "markdown",
   "metadata": {},
   "source": [
    "# Unit 7 Work Debrief (You're Welcome, Graders 🥔)\n",
    "\n",
    "- Sections 7.1-7.2: Array List Methods\n",
    "- Section 7.3: Traversing Arrays\n",
    "- Sections 7.4-7.5: Developing Algorithms and Searching\n",
    "- Section 7.6 - ArrayLists, Sorting\n",
    "- Section 7.7: Ethics\n",
    "- Extra: Donut Animation in Java Using ArrayLists"
   ]
  },
  {
   "cell_type": "markdown",
   "metadata": {},
   "source": [
    "## Popcorn Hack 7.1 & 7.2\n",
    "\n",
    "Create an ArrayList of Strings with the following elements: “Apple”, “Banana”, “Cherry”, “Date”, “Elderberry”. Complete the following tasks using the ArrayList methods you’ve learned:\n",
    "\n",
    "Task 1: Print the size of the ArrayList.\n",
    "Task 2: Add a new element “Fig” to the end of the list.\n",
    "Task 3: Insert “Grape” at index 2.\n",
    "Task 4: Replace the element at index 4 with “Guava”.\n",
    "Task 5: Remove the element at index 1.\n",
    "Task 6: Retrieve and print the element at index 3.\n",
    "At the end of each task, print the current state of the ArrayList to verify the result."
   ]
  },
  {
   "cell_type": "code",
   "execution_count": null,
   "metadata": {
    "vscode": {
     "languageId": "java"
    }
   },
   "outputs": [],
   "source": [
    "import java.util.ArrayList;\n",
    "\n",
    "ArrayList<String> fruits = new ArrayList<>();\n",
    "fruits.add(\"Apple\");\n",
    "fruits.add(\"Banana\");\n",
    "fruits.add(\"Cherry\");\n",
    "fruits.add(\"Date\");\n",
    "fruits.add(\"Elderberry\");\n",
    "\n",
    "System.out.println(\"Size of ArrayList: \" + fruits.size());\n",
    "System.out.println(fruits);"
   ]
  },
  {
   "cell_type": "code",
   "execution_count": null,
   "metadata": {
    "vscode": {
     "languageId": "java"
    }
   },
   "outputs": [],
   "source": [
    "fruits.add(\"Fig\");\n",
    "System.out.println(fruits);"
   ]
  },
  {
   "cell_type": "code",
   "execution_count": null,
   "metadata": {
    "vscode": {
     "languageId": "java"
    }
   },
   "outputs": [],
   "source": [
    "fruits.add(2, \"Grape\");\n",
    "System.out.println(fruits);"
   ]
  },
  {
   "cell_type": "code",
   "execution_count": null,
   "metadata": {
    "vscode": {
     "languageId": "java"
    }
   },
   "outputs": [],
   "source": [
    "fruits.set(4, \"Guava\");\n",
    "System.out.println(fruits);"
   ]
  },
  {
   "cell_type": "code",
   "execution_count": null,
   "metadata": {
    "vscode": {
     "languageId": "java"
    }
   },
   "outputs": [],
   "source": [
    "fruits.remove(1);\n",
    "System.out.println(fruits);"
   ]
  },
  {
   "cell_type": "code",
   "execution_count": null,
   "metadata": {
    "vscode": {
     "languageId": "java"
    }
   },
   "outputs": [],
   "source": [
    "String fruitAtIndex3 = fruits.get(3);\n",
    "System.out.println(\"Element at index 3: \" + fruitAtIndex3);\n",
    "System.out.println(fruits);"
   ]
  },
  {
   "cell_type": "markdown",
   "metadata": {},
   "source": [
    "## Popcorn Hacks 7.3\n",
    "\n",
    "- MCQ Set (1)"
   ]
  },
  {
   "cell_type": "markdown",
   "metadata": {},
   "source": [
    "![image](image.png)"
   ]
  },
  {
   "cell_type": "markdown",
   "metadata": {},
   "source": [
    "## Popcorn Hacks 7.4 & 7.5\n",
    "\n",
    "- MCQ Questions (2)"
   ]
  },
  {
   "cell_type": "markdown",
   "metadata": {},
   "source": [
    "## MCQ\n",
    "\n",
    "```\n",
    "A. [2, 3]\n",
    "\n",
    "B. [1, 2, 3]\n",
    "\n",
    "C. [1, 2]\n",
    "\n",
    "D. [1, 3]\n",
    "```\n",
    "\n",
    "The output is D. I literally answered this question in class. The reaosn for this is because the numbers 1, 2, and 3 are added to the array yet the element in the middle index is removed. It is because of 0 indexing and this that the output is [1, 3]\n",
    "\n",
    "```\n",
    "A. [1, 2, 3, 4, 5]\n",
    "\n",
    "B. [1, 2, 4, 5, 6]\n",
    "\n",
    "C. [1, 2, 5, 4, 6]\n",
    "\n",
    "D. [1, 5, 2, 4, 6]\n",
    "```\n",
    "\n",
    "The answer is B. The reason is because there is 0 indexing. Because of this, the index 2 will contain the 3rd element in the list. Thsi is why it willbe set as 4. Numlist add only adds the integer to the end of the list."
   ]
  },
  {
   "cell_type": "markdown",
   "metadata": {},
   "source": [
    "## Popcorn Hack\n",
    "\n",
    "Finish the code below"
   ]
  },
  {
   "cell_type": "code",
   "execution_count": 2,
   "metadata": {
    "vscode": {
     "languageId": "java"
    }
   },
   "outputs": [],
   "source": [
    "public class ArrayListHacks {\n",
    "    private int findSum(ArrayList<Integer> values) {\n",
    "        int result = 0;\n",
    "        for (int value : values) {\n",
    "            result += value;\n",
    "        }\n",
    "        return 0;\n",
    "    }\n",
    "\n",
    "    public static void main(String[] args) {\n",
    "        ArrayList<Integer> nums = new ArrayList<>();\n",
    "        nums.add(0);\n",
    "        nums.add(1);\n",
    "        nums.add(2);\n",
    "        nums.add(3);\n",
    "        nums.add(5);\n",
    "        nums.add(8);\n",
    "\n",
    "        ArrayListHacks hacks = new ArrayListHacks();\n",
    "        hacks.findSum(nums);\n",
    "    }\n",
    "}\n",
    "\n",
    "ArrayListHacks.main(null);"
   ]
  },
  {
   "cell_type": "markdown",
   "metadata": {},
   "source": [
    "## Popcorn Hack 6\n",
    "\n",
    "Given this list:\n",
    "\n",
    "Duck A (4.5 kg)\n",
    "Duck B (2.1 kg)\n",
    "Duck C (5.0 kg)\n",
    "Duck D (1.9 kg)\n",
    "After sorting, the output should be:\n",
    "\n",
    "Duck D (1.9 kg)\n",
    "Duck B (2.1 kg)\n",
    "Duck A (4.5 kg)\n",
    "Duck C (5.0 kg)\n",
    "You can use this class for the ducks:"
   ]
  },
  {
   "cell_type": "code",
   "execution_count": null,
   "metadata": {
    "vscode": {
     "languageId": "java"
    }
   },
   "outputs": [],
   "source": [
    "import java.util.ArrayList;\n",
    "import java.util.Collections;\n",
    "\n",
    "class DebugDuck implements Comparable<DebugDuck> {\n",
    "    String name;\n",
    "    double weight;\n",
    "\n",
    "    public DebugDuck(String name, double weight) {\n",
    "        this.name = name;\n",
    "        this.weight = weight;\n",
    "    }\n",
    "\n",
    "    @Override\n",
    "    public int compareTo(DebugDuck other) {\n",
    "        return Double.compare(this.weight, other.weight);\n",
    "    }\n",
    "\n",
    "    @Override\n",
    "    public String toString() {\n",
    "        return name + \" (\" + weight + \" kg)\";\n",
    "    }\n",
    "}\n",
    "\n",
    "public class Main {\n",
    "    public static void main(String[] args) {\n",
    "        ArrayList<DebugDuck> ducks = new ArrayList<>();\n",
    "        ducks.add(new DebugDuck(\"Duck A\", 4.5));\n",
    "        ducks.add(new DebugDuck(\"Duck B\", 2.1));\n",
    "        ducks.add(new DebugDuck(\"Duck C\", 5.0));\n",
    "        ducks.add(new DebugDuck(\"Duck D\", 1.9));\n",
    "\n",
    "        Collections.sort(ducks);\n",
    "\n",
    "        for (DebugDuck duck : ducks) {\n",
    "            System.out.println(duck);\n",
    "        }\n",
    "    }\n",
    "}"
   ]
  },
  {
   "cell_type": "markdown",
   "metadata": {},
   "source": [
    "## 7th mini Hack\n",
    "\n",
    "What can be used in place of the blank to ensure the users data is cleared?"
   ]
  },
  {
   "cell_type": "code",
   "execution_count": 3,
   "metadata": {
    "vscode": {
     "languageId": "java"
    }
   },
   "outputs": [],
   "source": [
    "ArrayList<String> userData = new ArrayList<>();\n",
    "userData.add(\"Arnav Nadar\");\n",
    "userData.add(\"arnaviscool@cool.com\");\n",
    "\n",
    "// arnav please forgive my late submission :pray:\n",
    "\n",
    "userData.clear();\n",
    "userData = null;"
   ]
  },
  {
   "cell_type": "markdown",
   "metadata": {},
   "source": [
    "## ArrayList Homework Activity\n",
    "\n",
    "Objective:\n",
    "Students will create, manipulate, and sort an ArrayList of integers.\n",
    "\n",
    "Activity Outline:\n",
    "Create an ArrayList:\n",
    "Task: Create an ArrayList of integers and add 5 elements of your choice.\n",
    "Hint: Use the ArrayList class and the .add() method to add elements.\n",
    "Modify an Element:\n",
    "Task: Change the second element (index 1) of the ArrayList to a new value (e.g., 100).\n",
    "Hint: The .set() method allows you to update an element at a specific index.\n",
    "Remove an Element:\n",
    "Task: Remove the third element (index 2) from the ArrayList.\n",
    "Hint: Use the .remove() method to delete an element by its index.\n",
    "Search for an Element:\n",
    "Task: Check if a specific number (e.g., 30) is in the ArrayList and print a message based on whether it is found or not.\n",
    "Hint: The .contains() method can be used to check for the presence of an element.\n",
    "Loop Through the ArrayList:\n",
    "Task: Use a for loop to print each element of the ArrayList.\n",
    "Hint: You can use a traditional for loop or an enhanced for loop (for-each) to iterate through the elements.\n",
    "Sort the ArrayList:\n",
    "Task: Sort the ArrayList in ascending order.\n",
    "Hint: Use Collections.sort() to sort the ArrayList.\n",
    "Print the Sorted ArrayList:\n",
    "Task: Print the sorted ArrayList to see the updated order of the elements.\n",
    "Hint: Use System.out.println() to print the sorted list."
   ]
  },
  {
   "cell_type": "markdown",
   "metadata": {},
   "source": [
    "### Task 1"
   ]
  },
  {
   "cell_type": "code",
   "execution_count": null,
   "metadata": {
    "vscode": {
     "languageId": "java"
    }
   },
   "outputs": [],
   "source": [
    "import java.util.ArrayList;\n",
    "\n",
    "ArrayList<Integer> numbers = new ArrayList<>();\n",
    "numbers.add(15);\n",
    "numbers.add(42);\n",
    "numbers.add(8);\n",
    "numbers.add(23);\n",
    "numbers.add(35);\n",
    "\n",
    "System.out.println(numbers);"
   ]
  },
  {
   "cell_type": "markdown",
   "metadata": {},
   "source": [
    "### Task 2"
   ]
  },
  {
   "cell_type": "code",
   "execution_count": null,
   "metadata": {
    "vscode": {
     "languageId": "java"
    }
   },
   "outputs": [],
   "source": [
    "numbers.set(1, 100);\n",
    "\n",
    "System.out.println(numbers);"
   ]
  },
  {
   "cell_type": "markdown",
   "metadata": {},
   "source": [
    "### Task 3"
   ]
  },
  {
   "cell_type": "code",
   "execution_count": null,
   "metadata": {
    "vscode": {
     "languageId": "java"
    }
   },
   "outputs": [],
   "source": [
    "numbers.remove(2);\n",
    "\n",
    "System.out.println(numbers);\n"
   ]
  },
  {
   "cell_type": "markdown",
   "metadata": {},
   "source": [
    "### Task 4"
   ]
  },
  {
   "cell_type": "code",
   "execution_count": null,
   "metadata": {
    "vscode": {
     "languageId": "java"
    }
   },
   "outputs": [],
   "source": [
    "if (numbers.contains(30)) {\n",
    "    System.out.println(\"30 is in the ArrayList\");\n",
    "} else {\n",
    "    System.out.println(\"30 is not in the ArrayList\");\n",
    "}\n"
   ]
  },
  {
   "cell_type": "markdown",
   "metadata": {},
   "source": [
    "### Task 5"
   ]
  },
  {
   "cell_type": "code",
   "execution_count": null,
   "metadata": {
    "vscode": {
     "languageId": "java"
    }
   },
   "outputs": [],
   "source": [
    "for (int number : numbers) {\n",
    "    System.out.println(number);\n",
    "}\n"
   ]
  },
  {
   "cell_type": "markdown",
   "metadata": {},
   "source": [
    "### Task 6"
   ]
  },
  {
   "cell_type": "code",
   "execution_count": null,
   "metadata": {
    "vscode": {
     "languageId": "java"
    }
   },
   "outputs": [],
   "source": [
    "import java.util.Collections;\n",
    "\n",
    "Collections.sort(numbers);\n",
    "\n",
    "System.out.println(numbers);\n"
   ]
  },
  {
   "cell_type": "markdown",
   "metadata": {},
   "source": [
    "### Task 7"
   ]
  },
  {
   "cell_type": "code",
   "execution_count": null,
   "metadata": {
    "vscode": {
     "languageId": "java"
    }
   },
   "outputs": [],
   "source": [
    "System.out.println(\"Sorted ArrayList: \" + numbers);"
   ]
  },
  {
   "cell_type": "markdown",
   "metadata": {},
   "source": [
    "## EXTRA: ArrayList Ascii Art"
   ]
  },
  {
   "cell_type": "code",
   "execution_count": 8,
   "metadata": {
    "vscode": {
     "languageId": "java"
    }
   },
   "outputs": [],
   "source": [
    "import java.util.ArrayList;\n",
    "import java.util.Arrays;\n",
    "\n",
    "public class AsciiArtMessage {\n",
    "    public static void main(String[] args) {\n",
    "        String message = \"HELLO\";\n",
    "        ArrayList<ArrayList<String>> asciiArt = new ArrayList<>();\n",
    "\n",
    "        ArrayList<String> h = new ArrayList<>(Arrays.asList(\"H  H\", \"H  H\", \"HHHH\", \"H  H\", \"H  H\"));\n",
    "        ArrayList<String> e = new ArrayList<>(Arrays.asList(\"EEEE\", \"E   \", \"EEE \", \"E   \", \"EEEE\"));\n",
    "        ArrayList<String> l = new ArrayList<>(Arrays.asList(\"L   \", \"L   \", \"L   \", \"L   \", \"LLLL\"));\n",
    "        ArrayList<String> o = new ArrayList<>(Arrays.asList(\" OOO \", \"O   O\", \"O   O\", \"O   O\", \" OOO \"));\n",
    "\n",
    "        for (char c : message.toCharArray()) {\n",
    "            switch (c) {\n",
    "                case 'H': asciiArt.add(h); break;\n",
    "                case 'E': asciiArt.add(e); break;\n",
    "                case 'L': asciiArt.add(l); break;\n",
    "                case 'O': asciiArt.add(o); break;\n",
    "                default: break;\n",
    "            }\n",
    "        }\n",
    "\n",
    "        for (int row = 0; row < 5; row++) {\n",
    "            for (ArrayList<String> letter : asciiArt) {\n",
    "                System.out.print(letter.get(row) + \"  \");\n",
    "            }\n",
    "            System.out.println();\n",
    "        }\n",
    "    }\n",
    "}\n"
   ]
  },
  {
   "cell_type": "markdown",
   "metadata": {},
   "source": [
    "## EXTRA: Donut Animation BUT with arraylist\n",
    "\n",
    "Inspired by `donut.c` and an article about how it works\n",
    "\n",
    "https://www.a1k0n.net/2011/07/20/donut-math.html\n",
    "\n",
    "Code is below and should shut off after 10 seconds. It is a bit wonky on Jupyter. Yes the donut actually spins.\n",
    "\n",
    "![donutmath](image-4.png)"
   ]
  },
  {
   "cell_type": "code",
   "execution_count": null,
   "metadata": {
    "vscode": {
     "languageId": "java"
    }
   },
   "outputs": [],
   "source": [
    "import java.util.ArrayList;\n",
    "import java.util.Collections;\n",
    "\n",
    "final int screen_size = 40;\n",
    "final double theta_spacing = 0.07;\n",
    "final double phi_spacing = 0.02;\n",
    "final char[] illumination = { '.', ',', '-', '~', ':', ';', '=', '!', '*', '#', '$', '@' };\n",
    "\n",
    "double A = 1;\n",
    "double B = 1;\n",
    "final double R1 = 1;\n",
    "final double R2 = 2;\n",
    "final double K2 = 5;\n",
    "final double K1 = screen_size * K2 * 3 / (8 * (R1 + R2));\n",
    "\n",
    "ArrayList<ArrayList<Character>> renderFrame(double A, double B) {\n",
    "    double cos_A = Math.cos(A);\n",
    "    double sin_A = Math.sin(A);\n",
    "    double cos_B = Math.cos(B);\n",
    "    double sin_B = Math.sin(B);\n",
    "\n",
    "    ArrayList<ArrayList<Character>> output = new ArrayList<>();\n",
    "    ArrayList<ArrayList<Double>> zbuffer = new ArrayList<>();\n",
    "    \n",
    "    // Initialize the output and zbuffer with empty values\n",
    "    for (int i = 0; i < screen_size; i++) {\n",
    "        ArrayList<Character> outputRow = new ArrayList<>(Collections.nCopies(screen_size, ' '));\n",
    "        ArrayList<Double> zbufferRow = new ArrayList<>(Collections.nCopies(screen_size, 0.0));\n",
    "        output.add(outputRow);\n",
    "        zbuffer.add(zbufferRow);\n",
    "    }\n",
    "\n",
    "    double[] cos_phi = new double[315];\n",
    "    double[] sin_phi = new double[315];\n",
    "    for (int i = 0; i < cos_phi.length; i++) {\n",
    "        double phi = i * phi_spacing;\n",
    "        cos_phi[i] = Math.cos(phi);\n",
    "        sin_phi[i] = Math.sin(phi);\n",
    "    }\n",
    "\n",
    "    double[] cos_theta = new double[90];\n",
    "    double[] sin_theta = new double[90];\n",
    "    for (int i = 0; i < cos_theta.length; i++) {\n",
    "        double theta = i * theta_spacing;\n",
    "        cos_theta[i] = Math.cos(theta);\n",
    "        sin_theta[i] = Math.sin(theta);\n",
    "    }\n",
    "\n",
    "    double[] circle_x = new double[90];\n",
    "    double[] circle_y = new double[90];\n",
    "    for (int i = 0; i < 90; i++) {\n",
    "        circle_x[i] = R2 + R1 * cos_theta[i];\n",
    "        circle_y[i] = R1 * sin_theta[i];\n",
    "    }\n",
    "\n",
    "    for (int i = 0; i < 90; i++) {\n",
    "        for (int j = 0; j < 315; j++) {\n",
    "            double x = cos_B * cos_phi[j] + sin_A * sin_B * sin_phi[j];\n",
    "            double y = sin_B * cos_phi[j] - sin_A * cos_B * sin_phi[j];\n",
    "            double z = K2 + cos_A * sin_phi[j];\n",
    "            double ooz = 1 / z;\n",
    "\n",
    "            int xp = (int) (screen_size / 2 + K1 * ooz * (x - circle_y[i] * cos_A * sin_B));\n",
    "            int yp = (int) (screen_size / 2 - K1 * ooz * (y + circle_y[i] * cos_A * cos_B));\n",
    "\n",
    "            double L = ((cos_phi[j] * cos_theta[i] * sin_B) - cos_A * sin_phi[j] * cos_theta[i] - sin_A * sin_theta[i]) + cos_B * (cos_A * sin_theta[i] - sin_phi[j] * cos_theta[i] * sin_A);\n",
    "            int L_val = (int) Math.round(L * 8);\n",
    "\n",
    "            if (L_val >= 0 && xp >= 0 && xp < screen_size && yp >= 0 && yp < screen_size && ooz > zbuffer.get(xp).get(yp)) {\n",
    "                zbuffer.get(xp).set(yp, ooz);\n",
    "                output.get(xp).set(yp, illumination[L_val % illumination.length]);\n",
    "            }\n",
    "        }\n",
    "    }\n",
    "\n",
    "    return output;\n",
    "}\n",
    "\n",
    "void pprint(ArrayList<ArrayList<Character>> array) {\n",
    "    for (ArrayList<Character> row : array) {\n",
    "        for (Character c : row) {\n",
    "            System.out.print(c);\n",
    "        }\n",
    "        System.out.println();\n",
    "    }\n",
    "}\n",
    "\n",
    "public static void main(String[] args) throws InterruptedException {\n",
    "    long startTime = System.currentTimeMillis();\n",
    "    final int duration = 10000;\n",
    "    double A = 1;\n",
    "    double B = 1;\n",
    "\n",
    "    while (System.currentTimeMillis() - startTime < duration) {\n",
    "        A += theta_spacing;\n",
    "        B += phi_spacing;\n",
    "        System.out.print(\"\\033[H\");\n",
    "        ArrayList<ArrayList<Character>> frame = new AsciiArtDonut().renderFrame(A, B);\n",
    "        new AsciiArtDonut().pprint(frame);\n",
    "        Thread.sleep(30);\n",
    "    }\n",
    "}\n"
   ]
  }
 ],
 "metadata": {
  "kernelspec": {
   "display_name": "Java",
   "language": "java",
   "name": "java"
  },
  "language_info": {
   "codemirror_mode": "java",
   "file_extension": ".jshell",
   "mimetype": "text/x-java-source",
   "name": "Java",
   "pygments_lexer": "java",
   "version": "17.0.12+7-Ubuntu-1ubuntu222.04"
  }
 },
 "nbformat": 4,
 "nbformat_minor": 2
}
