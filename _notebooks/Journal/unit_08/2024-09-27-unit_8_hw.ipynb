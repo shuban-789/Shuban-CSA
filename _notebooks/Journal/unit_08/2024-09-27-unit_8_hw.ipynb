{
 "cells": [
  {
   "cell_type": "markdown",
   "metadata": {},
   "source": [
    "---\n",
    "layout: post\n",
    "toc: true\n",
    "title: Unit 8 - Homework\n",
    "description: Unit 8 Period 3 Homework\n",
    "authors: Shuban Pal\n",
    "---"
   ]
  },
  {
   "cell_type": "markdown",
   "metadata": {},
   "source": [
    "# Section 8.1\n",
    "\n",
    "- Extra: Typing Speed Test\n"
   ]
  },
  {
   "cell_type": "markdown",
   "metadata": {},
   "source": [
    "## Extra: Typing Speed Test\n",
    "\n",
    "![typingspeed](image.png)"
   ]
  }
 ],
 "metadata": {
  "kernelspec": {
   "display_name": "Java",
   "language": "java",
   "name": "java"
  },
  "language_info": {
   "name": "java"
  }
 },
 "nbformat": 4,
 "nbformat_minor": 2
}
