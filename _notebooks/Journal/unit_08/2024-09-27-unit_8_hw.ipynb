{
 "cells": [
  {
   "cell_type": "markdown",
   "metadata": {},
   "source": [
    "---\n",
    "layout: post\n",
    "toc: true\n",
    "title: Unit 8 - Homework\n",
    "description: Unit 8 Period 3 Homework\n",
    "authors: Shuban Pal\n",
    "---"
   ]
  },
  {
   "cell_type": "markdown",
   "metadata": {},
   "source": [
    "# Unit 8 Work Debrief (You're Welcome, Graders 🐦)\n",
    "\n",
    "- Section 8.1: Hacks, Homework, Extras\n",
    "- Section 8.2: Hacks, Homework, Extras\n",
    "- Extra: Donut Animation in Java"
   ]
  },
  {
   "cell_type": "markdown",
   "metadata": {},
   "source": [
    "# Section 8.1\n",
    "\n",
    "- Extra: Typing Speed Test\n",
    "- Try on your Own (2)\n",
    "- Popcorn Hacks (4)\n",
    "- HW Hack (1)\n"
   ]
  },
  {
   "cell_type": "markdown",
   "metadata": {},
   "source": [
    "## Extra: Typing Speed Test\n",
    "\n",
    "![typingspeed](image.png)"
   ]
  },
  {
   "cell_type": "markdown",
   "metadata": {},
   "source": [
    "## Try on your own 1\n",
    "Write a code to declare and initialize a 2D array that stores the following matrix: 1 2 3 4 5 6 7 8 9"
   ]
  },
  {
   "cell_type": "code",
   "execution_count": 2,
   "metadata": {
    "vscode": {
     "languageId": "java"
    }
   },
   "outputs": [
    {
     "name": "stdout",
     "output_type": "stream",
     "text": [
      "[[1, 2, 3], [4, 5, 6], [7, 8, 9]]\n"
     ]
    }
   ],
   "source": [
    "public class ArrayPractice {\n",
    "    public static void main(String[] args) {\n",
    "        int[][] matrix = {\n",
    "            {1, 2, 3},\n",
    "            {4, 5, 6},\n",
    "            {7, 8, 9}\n",
    "        };\n",
    "        System.out.println(java.util.Arrays.deepToString(matrix));\n",
    "    }\n",
    "}\n",
    "\n",
    "ArrayPractice.main(null)"
   ]
  },
  {
   "cell_type": "markdown",
   "metadata": {},
   "source": [
    "## Try on your own 2\n",
    "Write the code to change the element “Java” to “Programming”"
   ]
  },
  {
   "cell_type": "code",
   "execution_count": 4,
   "metadata": {
    "vscode": {
     "languageId": "java"
    }
   },
   "outputs": [
    {
     "name": "stdout",
     "output_type": "stream",
     "text": [
      "[[Hello, World], [Programming, Array]]\n",
      "[[i, ❤️], [Programming, 😎]]\n"
     ]
    }
   ],
   "source": [
    "String[][] hack = {\n",
    "    {\"Hello\", \"World\"},\n",
    "    {\"Java\", \"Array\"}\n",
    "};\n",
    "\n",
    "hack[1][0] = \"Programming\";\n",
    "\n",
    "System.out.println(java.util.Arrays.deepToString(hack));\n",
    "\n",
    "hack[0][0] = \"i\";\n",
    "hack[0][1] = \"❤️\";\n",
    "hack[1][1] = \"😎\";\n",
    "\n",
    "System.out.println(java.util.Arrays.deepToString(hack));\n"
   ]
  },
  {
   "cell_type": "markdown",
   "metadata": {},
   "source": [
    "## Popcorn Hack 1\n",
    "What’s wrong with this code:\n",
    "```java\n",
    "int[][] exampleArray = {\n",
    "    {\"Hello\", \"World\"},\n",
    "    {\"Java\", \"Array\"}\n",
    "};\n",
    "```\n",
    "\n",
    "The code initializes a 2D array of the `int` type with elements which are of the `String` type. If whoever wrote this code wrote it days before the AP exam, they are not getting a 5 💀\n",
    "\n",
    "Fix is below 🥔"
   ]
  },
  {
   "cell_type": "code",
   "execution_count": 6,
   "metadata": {
    "vscode": {
     "languageId": "java"
    }
   },
   "outputs": [
    {
     "name": "stdout",
     "output_type": "stream",
     "text": [
      "[[Hello, World], [Java, Array]]\n"
     ]
    }
   ],
   "source": [
    "String[][] exampleArray = {\n",
    "    {\"Hello\", \"World\"},\n",
    "    {\"Java\", \"Array\"}\n",
    "};\n",
    "\n",
    "System.out.println(java.util.Arrays.deepToString(exampleArray));"
   ]
  },
  {
   "cell_type": "markdown",
   "metadata": {},
   "source": [
    "## Popcorn Hack 2\n",
    "How many total elements can this 2D array hold, and how would you calculate it?\n",
    "\n",
    "```java\n",
    "int[][] matrix = new int[2][3];\n",
    "```\n",
    "\n",
    "This 2D array can hold 2 arrays, each array can hold 3 elements. Therefore this array can hold 6 elements in total."
   ]
  },
  {
   "cell_type": "markdown",
   "metadata": {},
   "source": [
    "## Popcorn Hack 3\n",
    "How would you write the code to access the last score? MC\n",
    "\n",
    "![popcorn3](image-1.png)\n",
    "\n",
    "A. grades[6][3]\n",
    "B. grades[7][4]\n",
    "C. grades[grades.length - 1] [grades[0].length - 1]\n",
    "D. A and C\n",
    "\n",
    "The answer is `D` which is both answers `A` and `C`. The reasoning is because option `C` accesses the last element of the last array in the array of arrays. Option A does the same but only per this exact scenario. Option B is a cornball answer because it only works for indexing from 1 😂"
   ]
  },
  {
   "cell_type": "markdown",
   "metadata": {},
   "source": [
    "## Popcorn Hack 4\n",
    "\n",
    "![popcorn4](image-2.png)\n",
    "\n",
    "The answer is option `B` which is II only. This is because the first one does not address the correct row (row 2 is the last row) OR the correct column (column 1 is the 2nd column). The third option is completely wrong because it addresses the last row again."
   ]
  },
  {
   "cell_type": "markdown",
   "metadata": {},
   "source": [
    "## Homework Hack (Section 8.1)\n",
    "You are given a function below, and your goal is to match the table to match the 2d array provided in the function.\n",
    "```java\n",
    "public class Main {\n",
    "    public static void main(String[] args) {\n",
    "        String[][] array = {{\"My\", \"A\"}, {\"AP\", \"Class\"}, {\"CS\", \"Rocks!\"}};\n",
    "        \n",
    "        for (int col = 0; col < array[0].length; col++) {\n",
    "            for (int row = 0; row < array.length; row++) {\n",
    "                System.out.print(array[row][col] + \" \");\n",
    "            }\n",
    "        }\n",
    "    }\n",
    "}\n",
    "\n",
    "Main.main(null);\n",
    "```\n",
    "\n",
    "Of the following, which is the correct table for the 2d array provided in the function?\n",
    "\n",
    "### A)\n",
    "|    | 1  | 2  | 3      |\n",
    "| -- | -- | -- | ------ |\n",
    "| 1  | My | CS | Class  |\n",
    "| 2  | AP | A  | Rocks! |\n",
    "\n",
    "### B)\n",
    "|    | 1  | 2  | 3      |\n",
    "| -- | -- | -- | ------ |\n",
    "| 1  | My | AP | CS     |\n",
    "| 2  | A  | Class | Rocks! |\n",
    "\n",
    "### C)\n",
    "|    | 1  | 2  | 3      |\n",
    "| -- | -- | -- | ------ |\n",
    "| 1  | My | AP | Class  |\n",
    "| 2  | Rocks! | CS | A  |\n",
    "\n",
    "### Answer Yap 🗣️\n",
    "\n",
    "The answer is B. The reasoning is that the initiated array creates an array of 3 arrays. Each array in this array of arrays (2D array) has 2 elements each. Which means each column represents the contents of each sub array while the rows represent each matching element in each of the sub arrays. \n",
    "\n",
    "DM me @shubuntu on Discord if this is confusing and I will give an answer ont he sport (slack is fine too)."
   ]
  },
  {
   "cell_type": "markdown",
   "metadata": {},
   "source": [
    "# Section 8.2\n",
    "\n",
    "- Popcorn Hacks (3)\n",
    "- Trivia Quiz (1)\n",
    "- HW Hack (1)"
   ]
  },
  {
   "cell_type": "markdown",
   "metadata": {},
   "source": [
    "## Popcorn 1\n",
    "An array called find is shown below. In this popcorn hack, I want you to loop through the numbers until you get to the number that doesn’t belong (55). Then print that number along with which row and column it is located in."
   ]
  },
  {
   "cell_type": "code",
   "execution_count": 10,
   "metadata": {
    "vscode": {
     "languageId": "java"
    }
   },
   "outputs": [
    {
     "name": "stdout",
     "output_type": "stream",
     "text": [
      "Misfit number 55 at row of index 1 and at column of index 1\n"
     ]
    }
   ],
   "source": [
    "public class Main {\n",
    "    public static void main(String[] args) {\n",
    "        int find[][] = {\n",
    "            {10, 20, 30},\n",
    "            {40, 55, 60},\n",
    "            {70, 80, 90},\n",
    "        };\n",
    "\n",
    "        int target = 55;\n",
    "        for (int rows = 0; rows < find.length; rows++) {\n",
    "            for (int columns = 0; columns < find[rows].length; columns++) {\n",
    "                if (find[rows][columns] == target) {\n",
    "                    System.out.println(\"Misfit number \"+target+\" at row of index \"+rows+\" and at column of index \"+columns);\n",
    "                }\n",
    "            }\n",
    "        }\n",
    "    }\n",
    "}\n",
    "Main.main(null);"
   ]
  },
  {
   "cell_type": "markdown",
   "metadata": {},
   "source": [
    "## Popcorn Hack 2\n",
    "Create your own 2D array and use either binary search or linear search. (maybe both 😏 )"
   ]
  },
  {
   "cell_type": "code",
   "execution_count": 21,
   "metadata": {
    "vscode": {
     "languageId": "java"
    }
   },
   "outputs": [
    {
     "name": "stdout",
     "output_type": "stream",
     "text": [
      "Target found at (2,1) through linear search\n",
      "Target found at (2,1) through binary search\n",
      "Target was not found\n",
      "Target was not found\n"
     ]
    }
   ],
   "source": [
    "public class Main {\n",
    "    private static int[] linear_search(int[][] matrix, int target) {\n",
    "        for (int x = 0; x < matrix.length; x++) {\n",
    "            for (int y = 0; y < matrix[x].length; y++) {\n",
    "                if (matrix[x][y] == target) {\n",
    "                    return new int[]{x, y};\n",
    "                }\n",
    "            }\n",
    "        }\n",
    "        return new int[]{-1, -1};\n",
    "    }\n",
    "\n",
    "    private static int[] binary_search(int[][] matrix, int target) {\n",
    "        int rows = matrix.length;\n",
    "        int cols = matrix[0].length;\n",
    "        int low = 0;\n",
    "        int high = rows * cols - 1;\n",
    "        while (low <= high) {\n",
    "            int mid = low + (high - low) / 2;\n",
    "            int midElement = matrix[mid / cols][mid % cols];\n",
    "            if (midElement == target) {\n",
    "                return new int[]{mid / cols, mid % cols};\n",
    "            } else if (midElement < target) {\n",
    "                low = mid + 1;\n",
    "            } else {\n",
    "                high = mid - 1;\n",
    "            }\n",
    "        }\n",
    "        return new int[]{-1, -1};\n",
    "    }\n",
    "\n",
    "    public static void main(String[] args) {\n",
    "        int[][] array = {\n",
    "            {32, 54, 45},\n",
    "            {98, 75, 67},\n",
    "            {33, 96, 43}\n",
    "        };\n",
    "        int target = 96;\n",
    "\n",
    "        int[] resultlin = linear_search(array, target);\n",
    "        if (resultlin[0] != -1 || resultlin[1] != -1) {\n",
    "            System.out.println(\"🟢 Target found at (\"+resultlin[0]+\",\"+resultlin[1]+\") through linear search\");\n",
    "        } else {\n",
    "            System.out.println(\"🔴 Target was not found\");\n",
    "        }\n",
    "\n",
    "        int[] resultbin = binary_search(array, target);\n",
    "        if (resultbin[0] != -1 || resultbin[1] != -1) {\n",
    "            System.out.println(\"🟢 Target found at (\"+resultbin[0]+\",\"+resultbin[1]+\") through binary search\");\n",
    "        } else {\n",
    "            System.out.println(\"🔴 Target was not found\");\n",
    "        }\n",
    "\n",
    "        int target2 = 31;\n",
    "        int[] resultlin2 = linear_search(array, target2);\n",
    "        if (resultlin2[0] != -1 || resultlin2[1] != -1) {\n",
    "            System.out.println(\"🟢 Target found at (\"+resultlin2[0]+\",\"+resultlin2[1]+\") through linear search\");\n",
    "        } else {\n",
    "            System.out.println(\"🔴 Target was not found\");\n",
    "        }\n",
    "\n",
    "        int[] resultbin2 = binary_search(array, target2);\n",
    "        if (resultbin2[0] != -1 || resultbin2[1] != -1) {\n",
    "            System.out.println(\"🟢 Target found at (\"+resultbin2[0]+\",\"+resultbin2[1]+\") through binary search\");\n",
    "        } else {\n",
    "            System.out.println(\"🔴 Target was not found\");\n",
    "        }\n",
    "    }\n",
    "}\n",
    "Main.main(null);"
   ]
  },
  {
   "cell_type": "markdown",
   "metadata": {},
   "source": [
    "## Popcorn Hack 3\n",
    "Write a code that performs global sorting on your own 2D array. (The comments said to copy paste my old search algorithms)"
   ]
  },
  {
   "cell_type": "code",
   "execution_count": 22,
   "metadata": {
    "vscode": {
     "languageId": "java"
    }
   },
   "outputs": [],
   "source": [
    "public class PopcornHack {\n",
    "    public static void main(String[] args) {\n",
    "        int[][] array = {\n",
    "            {10, 20, 30, 40},\n",
    "            {15, 25, 35, 45},\n",
    "            {27, 29, 37, 48},\n",
    "            {32, 33, 39, 50}\n",
    "        };\n",
    "        int target = 29;\n",
    "\n",
    "        int[] result = linear_search(array, target);\n",
    "        if (result[0] != -1) {\n",
    "            System.out.println(\"Element found at: Row \" + result[0] + \", Column \" + result[1]);\n",
    "        } else {\n",
    "            System.out.println(\"Element not found.\");\n",
    "        }\n",
    "    }\n",
    "\n",
    "    private static int[] linear_search(int[][] matrix, int target) {\n",
    "        for (int x = 0; x < matrix.length; x++) {\n",
    "            for (int y = 0; y < matrix[x].length; y++) {\n",
    "                if (matrix[x][y] == target) {\n",
    "                    return new int[]{x, y};\n",
    "                }\n",
    "            }\n",
    "        }\n",
    "        return new int[]{-1, -1};\n",
    "    }\n",
    "\n",
    "    private static int[] binary_search(int[][] matrix, int target) {\n",
    "        int rows = matrix.length;\n",
    "        int cols = matrix[0].length;\n",
    "        int low = 0;\n",
    "        int high = rows * cols - 1;\n",
    "        while (low <= high) {\n",
    "            int mid = low + (high - low) / 2;\n",
    "            int midElement = matrix[mid / cols][mid % cols];\n",
    "            if (midElement == target) {\n",
    "                return new int[]{mid / cols, mid % cols};\n",
    "            } else if (midElement < target) {\n",
    "                low = mid + 1;\n",
    "            } else {\n",
    "                high = mid - 1;\n",
    "            }\n",
    "        }\n",
    "        return new int[]{-1, -1};\n",
    "    }\n",
    "}"
   ]
  },
  {
   "cell_type": "markdown",
   "metadata": {},
   "source": [
    "## Trivia Quiz\n",
    "\n",
    "![triviaquiz](image-3.png)"
   ]
  },
  {
   "cell_type": "markdown",
   "metadata": {},
   "source": [
    "## Homework Hack (Section 8.2)\n",
    "\n",
    "Write a program to search through a 2d array to find the grade for John. You will be given a list of students and their grades and you must find the grade of John. If a student is not in the list, then return “Student not found”."
   ]
  },
  {
   "cell_type": "code",
   "execution_count": 33,
   "metadata": {
    "vscode": {
     "languageId": "java"
    }
   },
   "outputs": [
    {
     "name": "stdout",
     "output_type": "stream",
     "text": [
      "Alice's grade: (B) (85)\n",
      "Charlie's grade: ❌ Student not found\n"
     ]
    }
   ],
   "source": [
    "public class GradeSearch {\n",
    "    public static String searchGrade(String[][] grades, String name) {\n",
    "        for (int i = 0; i < grades.length; i++) {\n",
    "            if (grades[i][0].equals(name)) {\n",
    "                return grades[i][1];\n",
    "            }\n",
    "        }\n",
    "        return \"❌ Student not found\";\n",
    "    }\n",
    "\n",
    "    public static String getGradeIcon(String grade) {\n",
    "        int numericGrade = Integer.parseInt(grade);\n",
    "\n",
    "        if (numericGrade >= 90) {\n",
    "            return \"A\";\n",
    "        } else if (numericGrade >= 80) {\n",
    "            return \"(B)\";\n",
    "        } else if (numericGrade >= 70) {\n",
    "            return \"(C)\";\n",
    "        } else {\n",
    "            return \"(F)\";\n",
    "        }\n",
    "    }\n",
    "\n",
    "    public static void main(String[] args) {\n",
    "        String[][] grades = {\n",
    "            {\"John\", \"93\"},\n",
    "            {\"Alice\", \"85\"},\n",
    "            {\"Bob\", \"78\"},\n",
    "            {\"Eve\", \"92\"}\n",
    "        };\n",
    "\n",
    "        String nameToSearch = \"Alice\";\n",
    "        String grade = searchGrade(grades, nameToSearch);\n",
    "        \n",
    "        if (!grade.equals(\"❌ Student not found\")) {\n",
    "            System.out.println(nameToSearch + \"'s grade: \" + getGradeIcon(grade) + \" (\"+grade+\")\");\n",
    "        } else {\n",
    "            System.out.println(nameToSearch + \"'s grade: \" + grade);\n",
    "        }\n",
    "\n",
    "        nameToSearch = \"Charlie\";\n",
    "        grade = searchGrade(grades, nameToSearch);\n",
    "        \n",
    "        if (!grade.equals(\"❌ Student not found\")) {\n",
    "            System.out.println(nameToSearch + \"'s grade: \" + getGradeIcon(grade) + \" (\"+grade+\")\");\n",
    "        } else {\n",
    "            System.out.println(nameToSearch + \"'s grade: \" + grade);\n",
    "        }\n",
    "    }\n",
    "}\n",
    "\n",
    "GradeSearch.main(null);"
   ]
  }
 ],
 "metadata": {
  "kernelspec": {
   "display_name": "Java",
   "language": "java",
   "name": "java"
  },
  "language_info": {
   "codemirror_mode": "java",
   "file_extension": ".jshell",
   "mimetype": "text/x-java-source",
   "name": "Java",
   "pygments_lexer": "java",
   "version": "17.0.12+7-Ubuntu-1ubuntu222.04"
  }
 },
 "nbformat": 4,
 "nbformat_minor": 2
}
