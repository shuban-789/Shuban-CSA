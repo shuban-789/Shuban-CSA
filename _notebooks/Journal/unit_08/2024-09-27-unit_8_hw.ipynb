{
 "cells": [
  {
   "cell_type": "markdown",
   "metadata": {},
   "source": [
    "---\n",
    "layout: post\n",
    "toc: true\n",
    "title: Unit 8 - Homework\n",
    "description: Unit 8 Period 3 Homework\n",
    "authors: Shuban Pal\n",
    "---"
   ]
  },
  {
   "cell_type": "markdown",
   "metadata": {},
   "source": [
    "# Unit 8 Work Debrief (You're Welcome, Graders 🐦)\n",
    "\n",
    "- Section 8.1: Hacks, Homework, Extras\n",
    "- Section 8.2: Hacks, Homework, Extras\n",
    "- Extra: Donut Animation in Java"
   ]
  },
  {
   "cell_type": "markdown",
   "metadata": {},
   "source": [
    "# Section 8.1\n",
    "\n",
    "- Extra: Typing Speed Test\n",
    "- Try on your Own (2)\n",
    "- Popcorn Hacks (4)\n",
    "- HW Hack (1)\n"
   ]
  },
  {
   "cell_type": "markdown",
   "metadata": {},
   "source": [
    "## Extra: Typing Speed Test\n",
    "\n",
    "![typingspeed](image.png)"
   ]
  },
  {
   "cell_type": "markdown",
   "metadata": {},
   "source": [
    "## Try on your own 1\n",
    "Write a code to declare and initialize a 2D array that stores the following matrix: 1 2 3 4 5 6 7 8 9"
   ]
  },
  {
   "cell_type": "code",
   "execution_count": 2,
   "metadata": {
    "vscode": {
     "languageId": "java"
    }
   },
   "outputs": [
    {
     "name": "stdout",
     "output_type": "stream",
     "text": [
      "[[1, 2, 3], [4, 5, 6], [7, 8, 9]]\n"
     ]
    }
   ],
   "source": [
    "public class ArrayPractice {\n",
    "    public static void main(String[] args) {\n",
    "        int[][] matrix = {\n",
    "            {1, 2, 3},\n",
    "            {4, 5, 6},\n",
    "            {7, 8, 9}\n",
    "        };\n",
    "        System.out.println(java.util.Arrays.deepToString(matrix));\n",
    "    }\n",
    "}\n",
    "\n",
    "ArrayPractice.main(null)"
   ]
  },
  {
   "cell_type": "markdown",
   "metadata": {},
   "source": [
    "## Try on your own 2\n",
    "Write the code to change the element “Java” to “Programming”"
   ]
  },
  {
   "cell_type": "code",
   "execution_count": 4,
   "metadata": {
    "vscode": {
     "languageId": "java"
    }
   },
   "outputs": [
    {
     "name": "stdout",
     "output_type": "stream",
     "text": [
      "[[Hello, World], [Programming, Array]]\n",
      "[[i, ❤️], [Programming, 😎]]\n"
     ]
    }
   ],
   "source": [
    "String[][] hack = {\n",
    "    {\"Hello\", \"World\"},\n",
    "    {\"Java\", \"Array\"}\n",
    "};\n",
    "\n",
    "hack[1][0] = \"Programming\";\n",
    "\n",
    "System.out.println(java.util.Arrays.deepToString(hack));\n",
    "\n",
    "hack[0][0] = \"i\";\n",
    "hack[0][1] = \"❤️\";\n",
    "hack[1][1] = \"😎\";\n",
    "\n",
    "System.out.println(java.util.Arrays.deepToString(hack));\n"
   ]
  },
  {
   "cell_type": "markdown",
   "metadata": {},
   "source": [
    "## Popcorn Hack 1\n",
    "What’s wrong with this code:\n",
    "```java\n",
    "int[][] exampleArray = {\n",
    "    {\"Hello\", \"World\"},\n",
    "    {\"Java\", \"Array\"}\n",
    "};\n",
    "```\n",
    "\n",
    "The code initializes a 2D array of the `int` type with elements which are of the `String` type. If whoever wrote this code wrote it days before the AP exam, they are not getting a 5 💀\n",
    "\n",
    "Fix is below 🥔"
   ]
  },
  {
   "cell_type": "code",
   "execution_count": 6,
   "metadata": {
    "vscode": {
     "languageId": "java"
    }
   },
   "outputs": [
    {
     "name": "stdout",
     "output_type": "stream",
     "text": [
      "[[Hello, World], [Java, Array]]\n"
     ]
    }
   ],
   "source": [
    "String[][] exampleArray = {\n",
    "    {\"Hello\", \"World\"},\n",
    "    {\"Java\", \"Array\"}\n",
    "};\n",
    "\n",
    "System.out.println(java.util.Arrays.deepToString(exampleArray));"
   ]
  },
  {
   "cell_type": "markdown",
   "metadata": {},
   "source": [
    "## Popcorn Hack 2\n",
    "How many total elements can this 2D array hold, and how would you calculate it?\n",
    "\n",
    "```java\n",
    "int[][] matrix = new int[2][3];\n",
    "```\n",
    "\n",
    "This 2D array can hold 2 arrays, each array can hold 3 elements. Therefore this array can hold 6 elements in total."
   ]
  },
  {
   "cell_type": "markdown",
   "metadata": {},
   "source": [
    "## Popcorn Hack 3\n",
    "How would you write the code to access the last score? MC\n",
    "\n",
    "![popcorn3](image-1.png)\n",
    "\n",
    "A. grades[6][3]\n",
    "B. grades[7][4]\n",
    "C. grades[grades.length - 1] [grades[0].length - 1]\n",
    "D. A and C\n",
    "\n",
    "The answer is `D` which is both answers `A` and `C`. The reasoning is because option `C` accesses the last element of the last array in the array of arrays. Option A does the same but only per this exact scenario. Option B is a cornball answer because it only works for indexing from 1 😂"
   ]
  },
  {
   "cell_type": "markdown",
   "metadata": {},
   "source": [
    "## Popcorn Hack 4\n",
    "\n",
    "![popcorn4](image-2.png)\n",
    "\n",
    "The answer is option `B` which is II only. This is because the first one does not address the correct row (row 2 is the last row) OR the correct column (column 1 is the 2nd column). The third option is completely wrong because it addresses the last row again."
   ]
  },
  {
   "cell_type": "markdown",
   "metadata": {},
   "source": [
    "# Section 8.2\n",
    "\n",
    "- Popcorn Hacks (3)\n",
    "- Trivia Quiz (1)\n",
    "- HW Hack (1)\n",
    "\n"
   ]
  }
 ],
 "metadata": {
  "kernelspec": {
   "display_name": "Java",
   "language": "java",
   "name": "java"
  },
  "language_info": {
   "codemirror_mode": "java",
   "file_extension": ".jshell",
   "mimetype": "text/x-java-source",
   "name": "Java",
   "pygments_lexer": "java",
   "version": "17.0.12+7-Ubuntu-1ubuntu222.04"
  }
 },
 "nbformat": 4,
 "nbformat_minor": 2
}
