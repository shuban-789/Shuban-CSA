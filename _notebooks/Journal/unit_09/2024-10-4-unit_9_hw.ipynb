{
 "cells": [
  {
   "cell_type": "markdown",
   "metadata": {},
   "source": [
    "---\n",
    "layout: post\n",
    "toc: true\n",
    "title: Unit 8 - Homework\n",
    "description: Unit 8 Period 3 Homework\n",
    "authors: Shuban Pal\n",
    "---"
   ]
  },
  {
   "cell_type": "markdown",
   "metadata": {},
   "source": [
    "### Popcorn Hack 1"
   ]
  },
  {
   "cell_type": "code",
   "execution_count": 1,
   "metadata": {
    "vscode": {
     "languageId": "java"
    }
   },
   "outputs": [
    {
     "name": "stdout",
     "output_type": "stream",
     "text": [
      "Shape: Shape (Length: 20, Width: 5)\n",
      "Circle: Circle (Radius: 10)\n",
      "Hexagon: Hexagon (Side Length: 6)\n"
     ]
    }
   ],
   "source": [
    "public class Shape {\n",
    "    protected String name;\n",
    "    private int length;\n",
    "    private int width;\n",
    "\n",
    "    // Default constructor\n",
    "    public Shape() {\n",
    "        this.name = \"Shape\";\n",
    "        this.length = 20;\n",
    "        this.width = 5;\n",
    "    }\n",
    "\n",
    "    // Parameterized constructor\n",
    "    public Shape(String name, int length, int width) {\n",
    "        this.name = name;\n",
    "        this.length = length;\n",
    "        this.width = width;\n",
    "    }\n",
    "\n",
    "    // Getter methods\n",
    "    public String get_name() {\n",
    "        return this.name;\n",
    "    }\n",
    "\n",
    "    public int get_length() {\n",
    "        return this.length;\n",
    "    }\n",
    "\n",
    "    public int get_width() {\n",
    "        return this.width;\n",
    "    }\n",
    "\n",
    "    // Setter methods\n",
    "    public void set_name(String n) {\n",
    "        this.name = n;\n",
    "    }\n",
    "\n",
    "    public void set_length(int a) {\n",
    "        this.length = a;\n",
    "    }\n",
    "\n",
    "    public void set_width(int b) {\n",
    "        this.width = b;\n",
    "    }\n",
    "\n",
    "    // toString method\n",
    "    @Override\n",
    "    public String toString() {\n",
    "        return \"Shape: \" + this.name + \" (Length: \" + this.length + \", Width: \" + this.width + \")\";\n",
    "    }\n",
    "}\n",
    "\n",
    "public class Circle extends Shape {\n",
    "    public Circle() {\n",
    "        super();\n",
    "    }\n",
    "\n",
    "    public Circle(String name, int radius) {\n",
    "        super(name, radius, radius);\n",
    "    }\n",
    "\n",
    "    @Override\n",
    "    public String toString() {\n",
    "        return \"Circle: \" + this.name + \" (Radius: \" + get_length() + \")\";\n",
    "    }\n",
    "}\n",
    "\n",
    "public class Hexagon extends Shape {\n",
    "    public Hexagon() {\n",
    "        super();\n",
    "    }\n",
    "\n",
    "    public Hexagon(String name, int sideLength) {\n",
    "        super(name, sideLength, sideLength);\n",
    "    }\n",
    "\n",
    "    @Override\n",
    "    public String toString() {\n",
    "        return \"Hexagon: \" + this.name + \" (Side Length: \" + get_length() + \")\";\n",
    "    }\n",
    "}\n",
    "\n",
    "// Main method to test the classes\n",
    "public class Main {\n",
    "    public static void main(String[] args) {\n",
    "        // Creating objects of Shape, Circle, and Hexagon\n",
    "        Shape shape = new Shape();\n",
    "        Circle circle = new Circle(\"Circle\", 10);\n",
    "        Hexagon hexagon = new Hexagon(\"Hexagon\", 6);\n",
    "\n",
    "        // Printing their details\n",
    "        System.out.println(shape.toString());\n",
    "        System.out.println(circle.toString());\n",
    "        System.out.println(hexagon.toString());\n",
    "    }\n",
    "}\n",
    "\n",
    "Main.main(null)"
   ]
  },
  {
   "cell_type": "markdown",
   "metadata": {},
   "source": [
    "### Popcorn Hack 2 (optional)"
   ]
  },
  {
   "cell_type": "code",
   "execution_count": 9,
   "metadata": {
    "vscode": {
     "languageId": "java"
    }
   },
   "outputs": [
    {
     "name": "stdout",
     "output_type": "stream",
     "text": [
      "Area of Shape: 50.0\n",
      "Area of Rectangle: 80.0\n",
      "Area of Triangle: 20.0\n",
      "Area of Ellipse: 78.53981633974483\n",
      "Shape: Generic Shape (Length: 10, Width: 5)\n",
      "Shape: Rectangle (Length: 40, Width: 2)\n",
      "Shape: Triangle (Length: 2, Width: 20)\n",
      "Shape: Ellipse (Length: 5, Width: 20)\n",
      "This is a generic shape\n",
      "This is a rectangle with length 40 and width 2\n",
      "This is a triangle\n",
      "This is an ellipse\n"
     ]
    }
   ],
   "source": [
    "public class Shape {\n",
    "    protected String name;\n",
    "    private int length;\n",
    "    private int width;\n",
    "\n",
    "    // Default constructor\n",
    "    public Shape() {\n",
    "        this.name = \"Generic Shape\";\n",
    "        this.length = 10;\n",
    "        this.width = 5;\n",
    "    }\n",
    "\n",
    "    // Parameterized constructor\n",
    "    public Shape(String name, int length, int width) {\n",
    "        this.name = name;\n",
    "        this.length = length;\n",
    "        this.width = width;\n",
    "    }\n",
    "\n",
    "    // Getter methods\n",
    "    public String get_name() {\n",
    "        return this.name;\n",
    "    }\n",
    "\n",
    "    public int get_length() {\n",
    "        return this.length;\n",
    "    }\n",
    "\n",
    "    public int get_width() {\n",
    "        return this.width;\n",
    "    }\n",
    "\n",
    "    // Setter methods\n",
    "    public void set_name(String n) {\n",
    "        this.name = n;\n",
    "    }\n",
    "\n",
    "    public void set_length(int l) {\n",
    "        this.length = l;\n",
    "    }\n",
    "\n",
    "    public void set_width(int w) {\n",
    "        this.width = w;\n",
    "    }\n",
    "\n",
    "    // Method to calculate the area (general for rectangles)\n",
    "    public double calc_area() {\n",
    "        return this.length * this.width;\n",
    "    }\n",
    "\n",
    "    // Method to print shape details\n",
    "    public void print_shape() {\n",
    "        System.out.println(\"Shape: \" + this.name + \" (Length: \" + this.length + \", Width: \" + this.width + \")\");\n",
    "    }\n",
    "\n",
    "    // Placeholder method for child class overrides\n",
    "    public void print_something() {\n",
    "        System.out.println(\"This is a generic shape\");\n",
    "    }\n",
    "}\n",
    "\n",
    "public class Rectangle extends Shape {\n",
    "    // Default constructor\n",
    "    public Rectangle() {\n",
    "        super(\"Rectangle\", 10, 5); // Default values\n",
    "    }\n",
    "\n",
    "    // Parameterized constructor\n",
    "    public Rectangle(String name, int length, int width) {\n",
    "        super(name, length, width);\n",
    "    }\n",
    "\n",
    "    @Override\n",
    "    public double calc_area() {\n",
    "        return get_length() * get_width();\n",
    "    }\n",
    "\n",
    "    @Override\n",
    "    public void print_something() {\n",
    "        System.out.println(\"This is a rectangle with length \" + get_length() + \" and width \" + get_width());\n",
    "    }\n",
    "}\n",
    "\n",
    "public class Triangle extends Shape {\n",
    "    public Triangle() {\n",
    "        super(\"Triangle\", 5, 10); // Default values\n",
    "    }\n",
    "\n",
    "    public Triangle(String name, int base, int height) {\n",
    "        super(name, base, height);\n",
    "    }\n",
    "\n",
    "    @Override\n",
    "    public double calc_area() {\n",
    "        return (get_length() * get_width() * 0.5);\n",
    "    }\n",
    "\n",
    "    @Override\n",
    "    public void print_something() {\n",
    "        System.out.println(\"This is a triangle\");\n",
    "    }\n",
    "}\n",
    "\n",
    "public class Ellipse extends Shape {\n",
    "    // Default constructor\n",
    "    public Ellipse() {\n",
    "        super(\"Ellipse\", 10, 5); // Default ellipse with major and minor axes\n",
    "    }\n",
    "\n",
    "    // Parameterized constructor\n",
    "    public Ellipse(String name, int length, int width) {\n",
    "        super(name, length, width);\n",
    "    }\n",
    "\n",
    "    @Override\n",
    "    public double calc_area() {\n",
    "        return Math.PI * (get_length() / 2.0) * (get_width() / 2.0); // Using semi-major and semi-minor axes\n",
    "    }\n",
    "\n",
    "    @Override\n",
    "    public void print_something() {\n",
    "        System.out.println(\"This is an ellipse\");\n",
    "    }\n",
    "}\n",
    "\n",
    "public class Driver {\n",
    "    public static void main(String[] args) {\n",
    "        // Create objects\n",
    "        Shape shape = new Shape();\n",
    "        Rectangle rectangle = new Rectangle(\"Rectangle\", 40, 2);\n",
    "        Triangle triangle = new Triangle(\"Triangle\", 2, 20);\n",
    "        Ellipse ellipse = new Ellipse(\"Ellipse\", 5, 20);\n",
    "\n",
    "        // Calculate and print area for each object\n",
    "        System.out.println(\"Area of Shape: \" + shape.calc_area());\n",
    "        System.out.println(\"Area of Rectangle: \" + rectangle.calc_area());\n",
    "        System.out.println(\"Area of Triangle: \" + triangle.calc_area());\n",
    "        System.out.println(\"Area of Ellipse: \" + ellipse.calc_area());\n",
    "\n",
    "        // Print shape details\n",
    "        shape.print_shape();\n",
    "        rectangle.print_shape();\n",
    "        triangle.print_shape();\n",
    "        ellipse.print_shape();\n",
    "\n",
    "        // Call the print_something() method for each object\n",
    "        shape.print_something();\n",
    "        rectangle.print_something();\n",
    "        triangle.print_something();\n",
    "        ellipse.print_something();\n",
    "    }\n",
    "}\n",
    "\n",
    "// Run the driver code\n",
    "Driver.main(new String[0]);\n"
   ]
  },
  {
   "cell_type": "markdown",
   "metadata": {},
   "source": [
    "### Popcorn Hack 3"
   ]
  },
  {
   "cell_type": "code",
   "execution_count": 10,
   "metadata": {
    "vscode": {
     "languageId": "java"
    }
   },
   "outputs": [
    {
     "name": "stdout",
     "output_type": "stream",
     "text": [
      "Shape: triangle (Length: 0, Width: 0)\n",
      "Area of t1 = 6.0\n"
     ]
    }
   ],
   "source": [
    "public class Triangle extends Shape {\n",
    "    private int side1;\n",
    "    private int side2;\n",
    "    private int side3;\n",
    "\n",
    "    public Triangle() {\n",
    "        super(\"triangle\", 0, 0); // Call to Shape constructor to set the name\n",
    "        this.side1 = 1;\n",
    "        this.side2 = 2;\n",
    "        this.side3 = 3;\n",
    "    }\n",
    "\n",
    "    // Constructor that takes a name and three side lengths\n",
    "    public Triangle(String name, int s1, int s2, int s3) {\n",
    "        super(name, 0, 0); // Call to Shape constructor to set the name\n",
    "        this.side1 = s1;\n",
    "        this.side2 = s2;\n",
    "        this.side3 = s3;\n",
    "    }\n",
    "\n",
    "    @Override\n",
    "    public double calc_area() {\n",
    "        // Semi-perimeter calculation\n",
    "        double s = (side1 + side2 + side3) / 2.0;\n",
    "\n",
    "        // Heron's formula for the area\n",
    "        double area = Math.sqrt(s * (s - side1) * (s - side2) * (s - side3));\n",
    "\n",
    "        return area;\n",
    "    }\n",
    "}\n",
    "\n",
    "Triangle t1 = new Triangle(\"triangle\", 3, 4, 5);\n",
    "t1.print_shape();\n",
    "System.out.println(\"Area of t1 = \" + t1.calc_area());"
   ]
  },
  {
   "cell_type": "markdown",
   "metadata": {},
   "source": [
    "### Popcorn Hack 4"
   ]
  },
  {
   "cell_type": "code",
   "execution_count": 11,
   "metadata": {
    "vscode": {
     "languageId": "java"
    }
   },
   "outputs": [
    {
     "name": "stdout",
     "output_type": "stream",
     "text": [
      "6.0\n",
      "12.0\n"
     ]
    }
   ],
   "source": [
    "public class Shape {\n",
    "    protected String name;\n",
    "    private int length;\n",
    "    private int width;\n",
    "\n",
    "    // Default constructor\n",
    "    public Shape() {\n",
    "        this.name = \"Shape\";\n",
    "        this.length = 10;\n",
    "        this.width = 5;\n",
    "    }\n",
    "\n",
    "    // Parameterized constructor\n",
    "    public Shape(String name, int length, int width) {\n",
    "        this.name = name;\n",
    "        this.length = length;\n",
    "        this.width = width;\n",
    "    }\n",
    "\n",
    "    // Getter methods\n",
    "    public String get_name() {\n",
    "        return this.name;\n",
    "    }\n",
    "\n",
    "    public int get_length() {\n",
    "        return this.length;\n",
    "    }\n",
    "\n",
    "    public int get_width() {\n",
    "        return this.width;\n",
    "    }\n",
    "\n",
    "    // Setter methods\n",
    "    public void set_name(String n) {\n",
    "        this.name = n;\n",
    "    }\n",
    "\n",
    "    public void set_length(int a) {\n",
    "        this.length = a;\n",
    "    }\n",
    "\n",
    "    public void set_width(int b) {\n",
    "        this.width = b;\n",
    "    }\n",
    "\n",
    "    // Method to calculate the area\n",
    "    public double calc_area() {\n",
    "        return this.length * this.width;\n",
    "    }\n",
    "\n",
    "    // Method to calculate the perimeter (default implementation for shapes)\n",
    "    public double calc_perimeter() {\n",
    "        // Default implementation for perimeter (can be overridden by subclasses)\n",
    "        return 2 * (this.length + this.width);\n",
    "    }\n",
    "\n",
    "    // Method to print the shape\n",
    "    public void print_shape() {\n",
    "        System.out.println(\"Shape: \" + this.name);\n",
    "    }\n",
    "}\n",
    "\n",
    "public class Triangle extends Shape {\n",
    "    private int side1;\n",
    "    private int side2;\n",
    "    private int side3;\n",
    "\n",
    "    public Triangle() {\n",
    "        super(\"triangle\", 0, 0); // Call to Shape constructor to set the name\n",
    "        this.side1 = 1;\n",
    "        this.side2 = 2;\n",
    "        this.side3 = 3;\n",
    "    }\n",
    "\n",
    "    // Constructor that takes a name and three side lengths\n",
    "    public Triangle(String name, int s1, int s2, int s3) {\n",
    "        super(name, 0, 0); // Call to Shape constructor to set the name\n",
    "        this.side1 = s1;\n",
    "        this.side2 = s2;\n",
    "        this.side3 = s3;\n",
    "    }\n",
    "\n",
    "    @Override\n",
    "    public double calc_area() {\n",
    "        // Semi-perimeter calculation\n",
    "        double s = (side1 + side2 + side3) / 2.0;\n",
    "\n",
    "        // Heron's formula for the area\n",
    "        return Math.sqrt(s * (s - side1) * (s - side2) * (s - side3));\n",
    "    }\n",
    "\n",
    "    @Override\n",
    "    public double calc_perimeter() {\n",
    "        return side1 + side2 + side3; // Perimeter is the sum of all sides\n",
    "    }\n",
    "}\n",
    "\n",
    "public class ShapeDriver {\n",
    "    public static void main(String[] args) {\n",
    "        Triangle ti84 = new Triangle(\"triangle\", 3, 4, 5);\n",
    "        System.out.println(\"Area: \" + ti84.calc_area());      // Expected output: 6\n",
    "        System.out.println(\"Perimeter: \" + ti84.calc_perimeter());  // Expected output: 12\n",
    "    }\n",
    "}\n",
    "\n",
    "Triangle ti84 = new Triangle(\"triangle\", 3, 4, 5);\n",
    "System.out.println(ti84.calc_area());\n",
    "System.out.println(ti84.calc_perimeter());"
   ]
  },
  {
   "cell_type": "markdown",
   "metadata": {},
   "source": [
    "### Popcorn Hack 5 (all of the parts are combined here)"
   ]
  },
  {
   "cell_type": "code",
   "execution_count": 12,
   "metadata": {
    "vscode": {
     "languageId": "java"
    }
   },
   "outputs": [
    {
     "name": "stdout",
     "output_type": "stream",
     "text": [
      "Drawing a triangle with area: 25.0\n",
      "Drawing a rectangle with area: 32.0\n",
      "Drawing a circle with area: 28.274333882308138\n",
      "Drawing a square with area: 36.0\n"
     ]
    }
   ],
   "source": [
    "class Shape {\n",
    "    public String draw() {\n",
    "        return \"Drawing a shape\";\n",
    "    }\n",
    "\n",
    "    public double area() {\n",
    "        return 0;  // Default area method, overridden by subclasses\n",
    "    }\n",
    "}\n",
    "\n",
    "class Triangle extends Shape {\n",
    "    private double base;\n",
    "    private double height;\n",
    "\n",
    "    public Triangle(double base, double height) {\n",
    "        this.base = base;\n",
    "        this.height = height;\n",
    "    }\n",
    "\n",
    "    @Override\n",
    "    public double area() {\n",
    "        return 0.5 * base * height;  // Area formula for a triangle\n",
    "    }\n",
    "\n",
    "    @Override\n",
    "    public String draw() {\n",
    "        return \"Drawing a triangle\";\n",
    "    }\n",
    "}\n",
    "\n",
    "class Rectangle extends Shape {\n",
    "    private double length;\n",
    "    private double width;\n",
    "\n",
    "    public Rectangle(double length, double width) {\n",
    "        this.length = length;\n",
    "        this.width = width;\n",
    "    }\n",
    "\n",
    "    @Override\n",
    "    public double area() {\n",
    "        return length * width;  // Area formula for a rectangle\n",
    "    }\n",
    "\n",
    "    @Override\n",
    "    public String draw() {\n",
    "        return \"Drawing a rectangle\";\n",
    "    }\n",
    "}\n",
    "\n",
    "class Circle extends Shape {\n",
    "    private double radius;\n",
    "\n",
    "    public Circle(double radius) {\n",
    "        this.radius = radius;\n",
    "    }\n",
    "\n",
    "    @Override\n",
    "    public double area() {\n",
    "        return Math.PI * radius * radius;  // Area formula for a circle\n",
    "    }\n",
    "\n",
    "    @Override\n",
    "    public String draw() {\n",
    "        return \"Drawing a circle\";\n",
    "    }\n",
    "}\n",
    "\n",
    "class Square extends Shape {\n",
    "    private double side;\n",
    "\n",
    "    public Square(double side) {\n",
    "        this.side = side;\n",
    "    }\n",
    "\n",
    "    @Override\n",
    "    public double area() {\n",
    "        return side * side;  // Area formula for a square\n",
    "    }\n",
    "\n",
    "    @Override\n",
    "    public String draw() {\n",
    "        return \"Drawing a square\";\n",
    "    }\n",
    "}\n",
    "\n",
    "public class Main {\n",
    "    public static void main(String[] args) {\n",
    "        // Create instances of each shape\n",
    "        Shape triangle = new Triangle(10, 5);\n",
    "        Shape rectangle = new Rectangle(8, 4);\n",
    "        Shape circle = new Circle(3);\n",
    "        Shape square = new Square(6);\n",
    "\n",
    "        // Output drawing and area for each shape\n",
    "        System.out.println(triangle.draw() + \" with area: \" + triangle.area());\n",
    "        System.out.println(rectangle.draw() + \" with area: \" + rectangle.area());\n",
    "        System.out.println(circle.draw() + \" with area: \" + circle.area());\n",
    "        System.out.println(square.draw() + \" with area: \" + square.area());\n",
    "    }\n",
    "}\n",
    "\n",
    "Main.main(null)"
   ]
  },
  {
   "cell_type": "markdown",
   "metadata": {},
   "source": [
    "### Homework Hack"
   ]
  },
  {
   "cell_type": "code",
   "execution_count": 13,
   "metadata": {
    "vscode": {
     "languageId": "java"
    }
   },
   "outputs": [
    {
     "name": "stdout",
     "output_type": "stream",
     "text": [
      "Drawing a triangle\n",
      "Drawing a rectangle\n",
      "Drawing a hexagon\n"
     ]
    }
   ],
   "source": [
    "class Shape {\n",
    "    // Base method for drawing a shape, meant to be overridden by subclasses\n",
    "    public String draw() {\n",
    "        return \"Drawing a shape\";  // Default behavior for generic shapes\n",
    "    }\n",
    "}\n",
    "\n",
    "class Triangle extends Shape {\n",
    "    @Override\n",
    "    public String draw() {\n",
    "        return \"Drawing a triangle\";  // Unique behavior for Triangle\n",
    "    }\n",
    "}\n",
    "\n",
    "class Rectangle extends Shape {\n",
    "    @Override\n",
    "    public String draw() {\n",
    "        return \"Drawing a rectangle\";  // Unique behavior for Rectangle\n",
    "    }\n",
    "}\n",
    "\n",
    "class Hexagon extends Shape {\n",
    "    @Override\n",
    "    public String draw() {\n",
    "        return \"Drawing a hexagon\";  // Unique behavior for Hexagon\n",
    "    }\n",
    "}\n",
    "\n",
    "public class Main {\n",
    "    public static void main(String[] args) {\n",
    "        // Create instances of each shape\n",
    "        Shape triangle = new Triangle();\n",
    "        Shape rectangle = new Rectangle();\n",
    "        Shape hexagon = new Hexagon();\n",
    "\n",
    "        // Output the drawing message for each shape\n",
    "        System.out.println(triangle.draw());\n",
    "        System.out.println(rectangle.draw());\n",
    "        System.out.println(hexagon.draw());\n",
    "    }\n",
    "}\n",
    "\n",
    "Main.main(null)"
   ]
  },
  {
   "cell_type": "markdown",
   "metadata": {},
   "source": [
    "### Popcorn Hack 6"
   ]
  },
  {
   "cell_type": "code",
   "execution_count": 16,
   "metadata": {
    "vscode": {
     "languageId": "java"
    }
   },
   "outputs": [
    {
     "name": "stdout",
     "output_type": "stream",
     "text": [
      "BARK\n",
      "MEOW\n",
      "BARK\n"
     ]
    }
   ],
   "source": [
    "// Base class\n",
    "class Animal {\n",
    "    public void makeSound() {\n",
    "        System.out.println(\"hee hee hee haw\");\n",
    "    }\n",
    "}\n",
    "\n",
    "// Subclass Dog\n",
    "class Dog extends Animal {\n",
    "    @Override\n",
    "    public void makeSound() {\n",
    "        System.out.println(\"BARK\");\n",
    "    }\n",
    "}\n",
    "\n",
    "// Subclass Cat\n",
    "class Cat extends Animal {\n",
    "    @Override\n",
    "    public void makeSound() {\n",
    "        System.out.println(\"MEOW\");\n",
    "    }\n",
    "}\n",
    "\n",
    "// Main class to demonstrate polymorphism\n",
    "public class Main {\n",
    "    public static void main(String[] args) {\n",
    "        // Create an array of Animal references\n",
    "        Animal[] animals = new Animal[3];\n",
    "\n",
    "        // Assign Dog and Cat objects to the Animal array\n",
    "        animals[0] = new Dog();\n",
    "        animals[1] = new Cat();\n",
    "        animals[2] = new Dog();\n",
    "\n",
    "        // Iterate through the array and call makeSound() on each animal\n",
    "        for (Animal animal : animals) {\n",
    "            animal.makeSound();  // Polymorphic call\n",
    "        }\n",
    "    }\n",
    "}\n",
    "\n",
    "Main.main(null)"
   ]
  },
  {
   "cell_type": "markdown",
   "metadata": {},
   "source": [
    "Explanation:\n",
    "\n",
    "Reference types such as cat or dog are instances and at as object classes which can be reference. Each time they are declared they act as the child and get the attriubtes of the superclass. Static classes on the other hand behave as a function provided by the class and do not depend on n instant of the class being referenced."
   ]
  },
  {
   "cell_type": "markdown",
   "metadata": {},
   "source": [
    "Downcasting:\n",
    "\n",
    "Downcasting is the process of converting a reference of a superclass type to a reference of one of its subclass types. In object-oriented programming, downcasting allows you to access the subclass-specific methods and properties that are not available in the superclass reference. It's commonly used in situations where you have upcasted an object (converted a subclass to a superclass) and later want to access the full functionality of the original subclass.\n",
    "\n",
    "\n"
   ]
  },
  {
   "cell_type": "markdown",
   "metadata": {},
   "source": [
    "### Popcorn Hack 7"
   ]
  },
  {
   "cell_type": "code",
   "execution_count": 17,
   "metadata": {
    "vscode": {
     "languageId": "java"
    }
   },
   "outputs": [
    {
     "name": "stdout",
     "output_type": "stream",
     "text": [
      "This is a fruit.\n",
      "true\n",
      "false\n"
     ]
    }
   ],
   "source": [
    "class Fruit {\n",
    "    private String name;\n",
    "\n",
    "    public Fruit(String name) {\n",
    "        this.name = name;\n",
    "    }\n",
    "\n",
    "    // Unchanged method from Object\n",
    "    @Override\n",
    "    public String toString() {\n",
    "        return \"This is a fruit.\";\n",
    "    }\n",
    "\n",
    "    // Changed method from Object\n",
    "    @Override\n",
    "    public boolean equals(Object obj) {\n",
    "        if (this == obj) return true; // Check if they are the same instance\n",
    "        if (obj == null || getClass() != obj.getClass()) return false; // Check for null and type\n",
    "        Fruit fruit = (Fruit) obj; // Down-cast\n",
    "        return name.equals(fruit.name); // Compare fruit names\n",
    "    }\n",
    "}\n",
    "\n",
    "public class Main {\n",
    "    public static void main(String[] args) {\n",
    "        Fruit apple = new Fruit(\"Apple\");\n",
    "        Fruit anotherApple = new Fruit(\"Apple\");\n",
    "        Fruit banana = new Fruit(\"Banana\");\n",
    "\n",
    "        // Execute the unchanged method from Object\n",
    "        System.out.println(apple.toString()); // Output: This is a fruit.\n",
    "\n",
    "        // Execute the changed method from Object\n",
    "        System.out.println(apple.equals(anotherApple)); // Output: true\n",
    "        System.out.println(apple.equals(banana)); // Output: false\n",
    "    }\n",
    "}\n",
    "\n",
    "Main.main(null)"
   ]
  },
  {
   "cell_type": "markdown",
   "metadata": {},
   "source": [
    "___"
   ]
  },
  {
   "cell_type": "markdown",
   "metadata": {},
   "source": [
    "### Homework Hacks"
   ]
  },
  {
   "cell_type": "markdown",
   "metadata": {},
   "source": [
    "___"
   ]
  },
  {
   "cell_type": "markdown",
   "metadata": {},
   "source": [
    "### FRQ"
   ]
  },
  {
   "cell_type": "markdown",
   "metadata": {},
   "source": [
    "The Textbook class is a specialized extension of the Book class, designed to manage textbooks with additional features specific to their editions. It introduces a private integer field named edition, which represents the edition number of the textbook, along with a constructor that initializes the title, price, and edition while ensuring that the edition is a positive integer. The class includes a method, canSubstituteFor, which checks if the current textbook can substitute for another by comparing their titles and edition numbers. Furthermore, it overrides the getBookInfo method to provide a comprehensive string representation that includes the edition, enhancing the information provided by the superclass. The toString method is also overridden for convenient output, allowing users to easily access the textbook's details. Overall, this class encapsulates the additional properties of textbooks while leveraging the existing functionality of the Book class."
   ]
  },
  {
   "cell_type": "markdown",
   "metadata": {},
   "source": [
    "### MCQ"
   ]
  },
  {
   "cell_type": "markdown",
   "metadata": {},
   "source": [
    "The correct answer is c) The toString() method must be public.\n",
    "\n",
    "In Java, the toString() method is designed to be overridden from the Object class. It should be declared as public so that it can be accessed when invoking methods like System.out.println(myShape). If the toString() method is private, it cannot be called outside of the Shape class, preventing it from being automatically used during object printing.\n",
    "\n",
    "The correct answer is b) isSalty().\n",
    "\n",
    "The isSalty() method in the Water class is declared as private, meaning it cannot be accessed or overridden in the Lake subclass. Although the Lake class defines its own public isSalty() method, it does not override the private method in the Water class and, as a result, cannot be invoked polymorphically on an instance of Water. The other methods, typeOfWater() and toString(), are declared as public and can be accessed. Additionally, getClass() is inherited from the Object class and can be invoked on any object."
   ]
  },
  {
   "cell_type": "markdown",
   "metadata": {},
   "source": [
    "### EXTRA CREDIT HACK"
   ]
  },
  {
   "cell_type": "code",
   "execution_count": 19,
   "metadata": {
    "vscode": {
     "languageId": "java"
    }
   },
   "outputs": [
    {
     "name": "stdout",
     "output_type": "stream",
     "text": [
      "Processing credit card payment of $100.0 using card: 1234-5678-9876-5432\n",
      "Processing PayPal payment of $150.5 using email: gorilla@monkey.com\n"
     ]
    }
   ],
   "source": [
    "abstract class Payment {\n",
    "    protected double amount;\n",
    "\n",
    "    public Payment(double amount) {\n",
    "        this.amount = amount;\n",
    "    }\n",
    "\n",
    "    public abstract void processPayment();\n",
    "}\n",
    "\n",
    "class CreditCardPayment extends Payment {\n",
    "    private String cardNumber;\n",
    "\n",
    "    public CreditCardPayment(double amount, String cardNumber) {\n",
    "        super(amount);\n",
    "        this.cardNumber = cardNumber;\n",
    "    }\n",
    "\n",
    "    @Override\n",
    "    public void processPayment() {\n",
    "        System.out.println(\"Processing credit card payment of $\" + amount + \" using card: \" + cardNumber);\n",
    "    }\n",
    "}\n",
    "\n",
    "class PayPalPayment extends Payment {\n",
    "    private String email;\n",
    "\n",
    "    public PayPalPayment(double amount, String email) {\n",
    "        super(amount);\n",
    "        this.email = email;\n",
    "    }\n",
    "\n",
    "    @Override\n",
    "    public void processPayment() {\n",
    "        System.out.println(\"Processing PayPal payment of $\" + amount + \" using email: \" + email);\n",
    "    }\n",
    "}\n",
    "\n",
    "public class PaymentApplication {\n",
    "    public static void main(String[] args) {\n",
    "        Payment[] payments = new Payment[2];\n",
    "        payments[0] = new CreditCardPayment(100.00, \"1234-5678-9876-5432\");\n",
    "        payments[1] = new PayPalPayment(150.50, \"gorilla@monkey.com\");\n",
    "\n",
    "        for (Payment payment : payments) {\n",
    "            payment.processPayment();\n",
    "        }\n",
    "    }\n",
    "}\n",
    "\n",
    "PaymentApplication.main(null)"
   ]
  },
  {
   "cell_type": "code",
   "execution_count": null,
   "metadata": {
    "vscode": {
     "languageId": "java"
    }
   },
   "outputs": [],
   "source": []
  }
 ],
 "metadata": {
  "kernelspec": {
   "display_name": "Java",
   "language": "java",
   "name": "java"
  },
  "language_info": {
   "codemirror_mode": "java",
   "file_extension": ".jshell",
   "mimetype": "text/x-java-source",
   "name": "Java",
   "pygments_lexer": "java",
   "version": "17.0.12+7-Ubuntu-1ubuntu222.04"
  }
 },
 "nbformat": 4,
 "nbformat_minor": 2
}
